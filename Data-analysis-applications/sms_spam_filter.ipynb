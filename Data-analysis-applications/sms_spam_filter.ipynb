{
 "cells": [
  {
   "cell_type": "markdown",
   "metadata": {},
   "source": [
    "# Классификация текстов: спам-фильтр для SMS\n",
    "В этом задании вам предстоит взять открытый датасет с SMS-сообщениями, размеченными на спам (\"spam\") и не спам (\"ham\"), построить на нем классификатор текстов на эти два класса, оценить его качество с помощью кросс-валидации, протестировать его работу на отдельных примерах, и посмотреть, что будет происходить с качеством, если менять параметры вашей модели."
   ]
  },
  {
   "cell_type": "markdown",
   "metadata": {},
   "source": [
    "## Задание\n",
    "\n",
    "1. Загрузите датасет. Описание датасета можно посмотреть [здесь](http://www.dt.fee.unicamp.br/~tiago/smsspamcollection/).\n",
    "\n",
    "\n",
    "2. Считайте датасет в Python (можете сразу грузить все в память, выборка небольшая), выясните, что используется в качестве разделителей и как проставляются метки классов.\n",
    "\n",
    "\n",
    "3. Подготовьте для дальнейшей работы два списка: список текстов в порядке их следования в датасете и список соответствующих им меток классов. В качестве метки класса используйте 1 для спама и 0 для \"не спама\".\n",
    "\n",
    "\n",
    "4. Используя **sklearn.feature_extraction.text.CountVectorizer** со стандартными настройками, получите из списка текстов матрицу признаков X.\n",
    "\n",
    "\n",
    "5. Оцените качество классификации текстов с помощью **LogisticRegression()** с параметрами по умолчанию, используя **sklearn.model_selection.cross_val_score** и посчитав среднее арифметическое качества на отдельных fold'ах. Установите **random_state=2**. Параметр **cv** задайте равным **10**. В качестве метрики качества используйте **f1-меру**. Получившееся качество - один из ответов, которые потребуются при сдаче задания. Ответ округлить до 1 знака после запятой.\n",
    "\n",
    "\n",
    "6. А теперь обучите классификатор на всей выборке и спрогнозируйте с его помощью класс для следующих сообщений:  \n",
    "\n",
    "    \"FreeMsg: Txt: CALL to No: 86888 & claim your reward of 3 hours talk time to use from your phone now! Subscribe6GB\"\n",
    "\n",
    "    \"FreeMsg: Txt: claim your reward of 3 hours talk time\"\n",
    "\n",
    "    \"Have you visited the last lecture on physics?\"\n",
    "\n",
    "    \"Have you visited the last lecture on physics? Just buy this book and you will have all materials! Only 99$\"\n",
    "\n",
    "    \"Only 99$\"\n",
    "\n",
    "    Прогнозы классификатора (0 - не спам, 1 - спам), записанные через пробел, будут ответом в одном из вопросов ниже.\n",
    "\n",
    "\n",
    "7. Задайте в **CountVectorizer** параметр **ngram_range=(2,2)**, затем **ngram_range=(3,3)**, затем **ngram_range=(1,3)**. Во всех трех случаях измерьте получившееся в кросс-валидации значение f1-меры, округлите до второго знака после точки, и выпишете результаты через пробел в том же порядке. В данном эксперименте мы пробовали добавлять в признаки n-граммы для разных диапазонов n - только биграммы, только триграммы, и, наконец, все вместе - униграммы, биграммы и триграммы. Обратите внимание, что статистики по биграммам и триграммам намного меньше, поэтому классификатор только на них работает хуже. В то же время это не ухудшает результат сколько-нибудь существенно, если добавлять их вместе с униграммами, т.к. за счет регуляризации линейный классификатор не склонен сильно переобучаться на этих признаках.\n",
    "\n",
    "\n",
    "8. Повторите аналогичный п.7 эксперимент, используя вместо логистической регрессии **MultinomialNB()**. Обратите внимание, насколько сильнее (по сравнению с линейным классификатором) наивный Байес страдает от нехватки статистики по биграммам и триграммам.\n",
    "\n",
    "    По какой-то причине обучение наивного байесовского классификатора через Pipeline происходит с ошибкой. Чтобы получить правильный ответ, отдельно посчитайте частоты слов и обучите классификатор.\n",
    "\n",
    "\n",
    "9. Попробуйте использовать в логистической регрессии в качестве признаков Tf*idf из **TfidfVectorizer** на униграммах. Повысилось или понизилось качество на кросс-валидации по сравнению с CountVectorizer на униграммах? (напишите в файле с ответом 1, если повысилось, -1, если понизилось, и 0, если изменилось не более чем на 0.01). Обратите внимание, что результат перехода к tf*idf не всегда будет таким - если вы наблюдаете какое-то явление на одном датасете, не надо сразу же его обобщать на любые данные."
   ]
  },
  {
   "cell_type": "code",
   "execution_count": 1,
   "metadata": {},
   "outputs": [],
   "source": [
    "import numpy as np\n",
    "from sklearn.feature_extraction.text import CountVectorizer, TfidfVectorizer\n",
    "from sklearn.linear_model import LogisticRegression\n",
    "from sklearn.model_selection import cross_val_score\n",
    "from sklearn.naive_bayes import MultinomialNB"
   ]
  },
  {
   "cell_type": "code",
   "execution_count": 5,
   "metadata": {},
   "outputs": [
    {
     "name": "stdout",
     "output_type": "stream",
     "text": [
      "['ham\\tGo until jurong point, crazy.. Available only in bugis n great world la e buffet... Cine there got amore wat...\\n', 'ham\\tOk lar... Joking wif u oni...\\n', \"spam\\tFree entry in 2 a wkly comp to win FA Cup final tkts 21st May 2005. Text FA to 87121 to receive entry question(std txt rate)T&C's apply 08452810075over18's\\n\", 'ham\\tU dun say so early hor... U c already then say...\\n', \"ham\\tNah I don't think he goes to usf, he lives around here though\\n\", \"spam\\tFreeMsg Hey there darling it's been 3 week's now and no word back! I'd like some fun you up for it still? Tb ok! XxX std chgs to send, £1.50 to rcv\\n\", 'ham\\tEven my brother is not like to speak with me. They treat me like aids patent.\\n', \"ham\\tAs per your request 'Melle Melle (Oru Minnaminunginte Nurungu Vettam)' has been set as your callertune for all Callers. Press *9 to copy your friends Callertune\\n\", 'spam\\tWINNER!! As a valued network customer you have been selected to receivea £900 prize reward! To claim call 09061701461. Claim code KL341. Valid 12 hours only.\\n', 'spam\\tHad your mobile 11 months or more? U R entitled to Update to the latest colour mobiles with camera for Free! Call The Mobile Update Co FREE on 08002986030\\n']\n"
     ]
    }
   ],
   "source": [
    "with open('datasets/SMSSpamCollection.txt') as f:\n",
    "    messages = f.readlines()\n",
    "print(messages[:10])"
   ]
  },
  {
   "cell_type": "markdown",
   "metadata": {},
   "source": [
    "Подготавливаем данные:"
   ]
  },
  {
   "cell_type": "code",
   "execution_count": 15,
   "metadata": {},
   "outputs": [],
   "source": [
    "labels, texts = [], []\n",
    "for message in messages:\n",
    "    label, text = message.split(maxsplit=1) \n",
    "    labels.append(label)\n",
    "    texts.append(text.strip())\n",
    "    \n",
    "labels = [1 if label == 'spam' else 0 for label in labels]"
   ]
  },
  {
   "cell_type": "code",
   "execution_count": 17,
   "metadata": {},
   "outputs": [],
   "source": [
    "bow_transformer = CountVectorizer()\n",
    "X = bow_transformer.fit_transform(texts)"
   ]
  },
  {
   "cell_type": "markdown",
   "metadata": {},
   "source": [
    "Оцениваем качество с помощью логистической регрессии:"
   ]
  },
  {
   "cell_type": "code",
   "execution_count": 53,
   "metadata": {},
   "outputs": [
    {
     "data": {
      "text/plain": [
       "0.9251382558648837"
      ]
     },
     "execution_count": 53,
     "metadata": {},
     "output_type": "execute_result"
    }
   ],
   "source": [
    "lr_classifier = LogisticRegression(random_state=2)\n",
    "q5 = cross_val_score(lr_classifier, X, labels, cv=10, scoring='f1').mean()\n",
    "q5"
   ]
  },
  {
   "cell_type": "code",
   "execution_count": 55,
   "metadata": {},
   "outputs": [],
   "source": [
    "with open('q5.txt', 'w') as f:\n",
    "    f.write(str(round(q5, 1)))"
   ]
  },
  {
   "cell_type": "markdown",
   "metadata": {},
   "source": [
    "Обучим логистическую регрессию и спрогнозируем на некоторых сообщениях классы:"
   ]
  },
  {
   "cell_type": "code",
   "execution_count": 28,
   "metadata": {},
   "outputs": [],
   "source": [
    "test_texts = [\n",
    "\"FreeMsg: Txt: CALL to No: 86888 & claim your reward of 3 hours talk time to use from your phone now! Subscribe6GB\",\n",
    "\"FreeMsg: Txt: claim your reward of 3 hours talk time\",\n",
    "\"Have you visited the last lecture on physics?\",\n",
    "\"Have you visited the last lecture on physics? Just buy this book and you will have all materials! Only 99$\",\n",
    "\"Only 99$\"]\n",
    "X_test = bow_transformer.transform(test_texts)"
   ]
  },
  {
   "cell_type": "code",
   "execution_count": 31,
   "metadata": {},
   "outputs": [
    {
     "data": {
      "text/plain": [
       "array([1, 1, 0, 0, 0])"
      ]
     },
     "execution_count": 31,
     "metadata": {},
     "output_type": "execute_result"
    }
   ],
   "source": [
    "lr_classifier.fit(X, labels)\n",
    "predictions = lr_classifier.predict(X_test)\n",
    "predictions"
   ]
  },
  {
   "cell_type": "code",
   "execution_count": 32,
   "metadata": {},
   "outputs": [],
   "source": [
    "with open('q6.txt', 'w') as f:\n",
    "    f.write(' '.join([str(label) for label in predictions]))"
   ]
  },
  {
   "cell_type": "markdown",
   "metadata": {},
   "source": [
    "Оценим качество лог. регрессии на разных n-граммах:"
   ]
  },
  {
   "cell_type": "code",
   "execution_count": 41,
   "metadata": {},
   "outputs": [
    {
     "name": "stdout",
     "output_type": "stream",
     "text": [
      "ngram_range = (2, 2), f1 score = 0.82\n",
      "ngram_range = (3, 3), f1 score = 0.73\n",
      "ngram_range = (1, 3), f1 score = 0.93\n"
     ]
    }
   ],
   "source": [
    "scores_lr = []\n",
    "for ngram_range in [(2, 2), (3, 3), (1, 3)]:\n",
    "    bow_transformer = CountVectorizer(ngram_range=ngram_range)\n",
    "    X = bow_transformer.fit_transform(texts)\n",
    "    f1_score = round(cross_val_score(lr_classifier, X, labels, scoring='f1', cv=10).mean(), 2)\n",
    "    scores_lr.append(f1_score)\n",
    "    print(f'ngram_range = {ngram_range}, f1 score = {f1_score}')"
   ]
  },
  {
   "cell_type": "code",
   "execution_count": 42,
   "metadata": {},
   "outputs": [],
   "source": [
    "with open('q7.txt', 'w') as f:\n",
    "    f.write(' '.join([str(label) for label in scores_lr]))"
   ]
  },
  {
   "cell_type": "markdown",
   "metadata": {},
   "source": [
    "Аналогично оценим качество наивного Байеса на разных n-граммах:"
   ]
  },
  {
   "cell_type": "code",
   "execution_count": 43,
   "metadata": {},
   "outputs": [
    {
     "name": "stdout",
     "output_type": "stream",
     "text": [
      "ngram_range = (2, 2), f1 score = 0.65\n",
      "ngram_range = (3, 3), f1 score = 0.38\n",
      "ngram_range = (1, 3), f1 score = 0.89\n"
     ]
    }
   ],
   "source": [
    "scores_bayes = []\n",
    "bayes_classifier = MultinomialNB()\n",
    "for ngram_range in [(2, 2), (3, 3), (1, 3)]:\n",
    "    bow_transformer = CountVectorizer(ngram_range=ngram_range)\n",
    "    X = bow_transformer.fit_transform(texts)\n",
    "    f1_score = round(cross_val_score(bayes_classifier, X, labels, scoring='f1', cv=10).mean(), 2)\n",
    "    scores_bayes.append(f1_score)\n",
    "    print(f'ngram_range = {ngram_range}, f1 score = {f1_score}')"
   ]
  },
  {
   "cell_type": "code",
   "execution_count": 44,
   "metadata": {},
   "outputs": [],
   "source": [
    "with open('q8.txt', 'w') as f:\n",
    "    f.write(' '.join([str(label) for label in scores_bayes]))"
   ]
  },
  {
   "cell_type": "markdown",
   "metadata": {},
   "source": [
    "Попробуем TfidfVectorizer вместо CountVectorizer: "
   ]
  },
  {
   "cell_type": "code",
   "execution_count": 47,
   "metadata": {},
   "outputs": [],
   "source": [
    "X_tfidf = TfidfVectorizer().fit_transform(texts)"
   ]
  },
  {
   "cell_type": "code",
   "execution_count": 56,
   "metadata": {},
   "outputs": [
    {
     "name": "stdout",
     "output_type": "stream",
     "text": [
      "Count vectorizer: 0.9251382558648837\n",
      "Tf-idf vectorizer: 0.8528599554172456\n"
     ]
    }
   ],
   "source": [
    "q9 = cross_val_score(lr_classifier, X_tfidf, labels, cv=10, scoring='f1').mean()\n",
    "print('Count vectorizer:', q5)\n",
    "print('Tf-idf vectorizer:', q9)"
   ]
  },
  {
   "cell_type": "code",
   "execution_count": 57,
   "metadata": {},
   "outputs": [],
   "source": [
    "with open('q9.txt', 'w') as f:\n",
    "    f.write('-1')"
   ]
  },
  {
   "cell_type": "code",
   "execution_count": null,
   "metadata": {},
   "outputs": [],
   "source": []
  }
 ],
 "metadata": {
  "kernelspec": {
   "display_name": "Python 3",
   "language": "python",
   "name": "python3"
  },
  "language_info": {
   "codemirror_mode": {
    "name": "ipython",
    "version": 3
   },
   "file_extension": ".py",
   "mimetype": "text/x-python",
   "name": "python",
   "nbconvert_exporter": "python",
   "pygments_lexer": "ipython3",
   "version": "3.7.0"
  }
 },
 "nbformat": 4,
 "nbformat_minor": 2
}
