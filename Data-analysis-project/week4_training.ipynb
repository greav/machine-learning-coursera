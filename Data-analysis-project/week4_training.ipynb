{
 "cells": [
  {
   "cell_type": "markdown",
   "metadata": {},
   "source": [
    "<center>\n",
    "<img src=\"https://habrastorage.org/web/677/8e1/337/6778e1337c3d4b159d7e99df94227cb2.jpg\"/>\n",
    "## Специализация \"Машинное обучение и анализ данных\"\n",
    "<center>Автор материала: программист-исследователь Mail.Ru Group, старший преподаватель Факультета Компьютерных Наук ВШЭ [Юрий Кашницкий](https://yorko.github.io/)"
   ]
  },
  {
   "cell_type": "markdown",
   "metadata": {},
   "source": [
    "# <center> Capstone проект №1 <br> Идентификация пользователей по посещенным веб-страницам\n",
    "<img src='http://i.istockimg.com/file_thumbview_approve/21546327/5/stock-illustration-21546327-identification-de-l-utilisateur.jpg'>\n",
    "\n",
    "# <center>Неделя 4.  Сравнение алгоритмов классификации\n",
    "\n",
    "Теперь мы наконец подойдем к обучению моделей классификации, сравним на кросс-валидации несколько алгоритмов, разберемся, какие параметры длины сессии (*session_length* и *window_size*) лучше использовать. Также для выбранного алгоритма построим кривые валидации (как качество классификации зависит от одного из гиперпараметров алгоритма) и кривые обучения (как качество классификации зависит от объема выборки).\n",
    "\n",
    "**План 4 недели:**\n",
    "- Часть 1. Сравнение нескольких алгоритмов на сессиях из 10 сайтов\n",
    "- Часть 2. Выбор параметров – длины сессии и ширины окна\n",
    "- Часть 3. Идентификация  конкретного пользователя и кривые обучения\n",
    " \n",
    "\n",
    "\n",
    "**В этой части проекта Вам могут быть полезны видеозаписи следующих лекций курса \"Обучение на размеченных данных\":**\n",
    "   - [Линейная классификация](https://www.coursera.org/learn/supervised-learning/lecture/jqLcO/linieinaia-klassifikatsiia)\n",
    "   - [Сравнение алгоритмов и выбор гиперпараметров](https://www.coursera.org/learn/supervised-learning/lecture/aF79U/sravnieniie-alghoritmov-i-vybor-ghipierparamietrov)\n",
    "   - [Кросс-валидация. Sklearn.cross_validation](https://www.coursera.org/learn/supervised-learning/lecture/XbHEk/kross-validatsiia-sklearn-cross-validation)\n",
    "   - [Линейные модели. Sklearn.linear_model. Классификация](https://www.coursera.org/learn/supervised-learning/lecture/EBg9t/linieinyie-modieli-sklearn-linear-model-klassifikatsiia)\n",
    "   - и многие другие\n"
   ]
  },
  {
   "cell_type": "markdown",
   "metadata": {},
   "source": [
    "### Задание\n",
    "1. Заполните код в этой тетрадке \n",
    "2. Если вы проходите специализацию Яндеса и МФТИ, пошлите файл с ответами в соответствующем Programming Assignment. <br> Если вы проходите курс ODS, выберите ответы в [веб-форме](https://docs.google.com/forms/d/12VB7kmzDoSVzSpQNaJp0tR-2t8K8PynQopP3dypf7i4).  "
   ]
  },
  {
   "cell_type": "code",
   "execution_count": 1,
   "metadata": {},
   "outputs": [],
   "source": [
    "# pip install watermark\n",
    "%load_ext watermark"
   ]
  },
  {
   "cell_type": "code",
   "execution_count": 2,
   "metadata": {},
   "outputs": [
    {
     "name": "stdout",
     "output_type": "stream",
     "text": [
      "CPython 3.7.1\n",
      "IPython 6.5.0\n",
      "\n",
      "numpy 1.15.3\n",
      "scipy 1.1.0\n",
      "pandas 0.23.4\n",
      "matplotlib 2.2.3\n",
      "statsmodels 0.9.0\n",
      "sklearn 0.19.2\n",
      "\n",
      "compiler   : GCC 8.2.1 20180831\n",
      "system     : Linux\n",
      "release    : 4.14.78-1-MANJARO\n",
      "machine    : x86_64\n",
      "processor  : \n",
      "CPU cores  : 4\n",
      "interpreter: 64bit\n",
      "Git hash   : 983e307f50ebac31a74039dab8aedb7e456b2600\n"
     ]
    }
   ],
   "source": [
    "%watermark -v -m -p numpy,scipy,pandas,matplotlib,statsmodels,sklearn -g"
   ]
  },
  {
   "cell_type": "code",
   "execution_count": 62,
   "metadata": {},
   "outputs": [],
   "source": [
    "from __future__ import division, print_function\n",
    "# отключим всякие предупреждения Anaconda\n",
    "import warnings\n",
    "warnings.filterwarnings('ignore')\n",
    "from time import time\n",
    "import itertools\n",
    "import os\n",
    "import numpy as np\n",
    "import pandas as pd\n",
    "import seaborn as sns\n",
    "%matplotlib inline\n",
    "from matplotlib import pyplot as plt\n",
    "import pickle\n",
    "from scipy.sparse import csr_matrix\n",
    "from sklearn.model_selection import train_test_split, cross_val_score, StratifiedKFold, GridSearchCV\n",
    "from sklearn.metrics import accuracy_score, f1_score\n",
    "from time import time"
   ]
  },
  {
   "cell_type": "code",
   "execution_count": 4,
   "metadata": {},
   "outputs": [],
   "source": [
    "# Поменяйте на свой путь к данным\n",
    "PATH_TO_DATA = 'capstone_user_identification'"
   ]
  },
  {
   "cell_type": "markdown",
   "metadata": {},
   "source": [
    "## Часть 1. Сравнение нескольких алгоритмов на сессиях из 10 сайтов"
   ]
  },
  {
   "cell_type": "markdown",
   "metadata": {},
   "source": [
    "**Загрузим сериализованные ранее объекты *X_sparse_10users* и *y_10users*, соответствующие обучающей выборке для 10 пользователей.**"
   ]
  },
  {
   "cell_type": "code",
   "execution_count": 5,
   "metadata": {},
   "outputs": [],
   "source": [
    "with open(os.path.join(PATH_TO_DATA, \n",
    "         'X_sparse_10users.pkl'), 'rb') as X_sparse_10users_pkl:\n",
    "    X_sparse_10users = pickle.load(X_sparse_10users_pkl)\n",
    "with open(os.path.join(PATH_TO_DATA, \n",
    "                       'y_10users.pkl'), 'rb') as y_10users_pkl:\n",
    "    y_10users = pickle.load(y_10users_pkl)"
   ]
  },
  {
   "cell_type": "markdown",
   "metadata": {},
   "source": [
    "**Здесь более 14 тысяч сессий и почти 5 тысяч уникальных посещенных сайтов.**"
   ]
  },
  {
   "cell_type": "code",
   "execution_count": 6,
   "metadata": {},
   "outputs": [
    {
     "data": {
      "text/plain": [
       "(14061, 4913)"
      ]
     },
     "execution_count": 6,
     "metadata": {},
     "output_type": "execute_result"
    }
   ],
   "source": [
    "X_sparse_10users.shape"
   ]
  },
  {
   "cell_type": "markdown",
   "metadata": {},
   "source": [
    "**Разобьем выборку на 2 части. На одной будем проводить кросс-валидацию, на второй – оценивать модель, обученную после кросс-валидации.**"
   ]
  },
  {
   "cell_type": "code",
   "execution_count": 7,
   "metadata": {},
   "outputs": [],
   "source": [
    "X_train, X_valid, y_train, y_valid = train_test_split(X_sparse_10users, y_10users, \n",
    "                                                      test_size=0.3, \n",
    "                                                     random_state=17, stratify=y_10users)"
   ]
  },
  {
   "cell_type": "markdown",
   "metadata": {},
   "source": [
    "**Зададим заранее тип кросс-валидации: 3-кратная, с перемешиванием, параметр random_state=17 – для воспроизводимости.**"
   ]
  },
  {
   "cell_type": "code",
   "execution_count": 162,
   "metadata": {},
   "outputs": [],
   "source": [
    "skf = StratifiedKFold(n_splits=3, shuffle=True, random_state=17)"
   ]
  },
  {
   "cell_type": "markdown",
   "metadata": {},
   "source": [
    "**Вспомогательная функция для отрисовки кривых валидации после запуска GridSearchCV (или RandomizedCV).**"
   ]
  },
  {
   "cell_type": "code",
   "execution_count": 9,
   "metadata": {},
   "outputs": [],
   "source": [
    "def plot_validation_curves(param_values, grid_cv_results_):\n",
    "    train_mu, train_std = grid_cv_results_['mean_train_score'], grid_cv_results_['std_train_score']\n",
    "    valid_mu, valid_std = grid_cv_results_['mean_test_score'], grid_cv_results_['std_test_score']\n",
    "    train_line = plt.plot(param_values, train_mu, '-', label='train', color='green')\n",
    "    valid_line = plt.plot(param_values, valid_mu, '-', label='test', color='red')\n",
    "    plt.fill_between(param_values, train_mu - train_std, train_mu + train_std, edgecolor='none',\n",
    "                     facecolor=train_line[0].get_color(), alpha=0.2)\n",
    "    plt.fill_between(param_values, valid_mu - valid_std, valid_mu + valid_std, edgecolor='none',\n",
    "                     facecolor=valid_line[0].get_color(), alpha=0.2)\n",
    "    plt.legend()"
   ]
  },
  {
   "cell_type": "markdown",
   "metadata": {},
   "source": [
    "**1. Обучите `KNeighborsClassifier` со 100 ближайшими соседями (остальные параметры оставьте по умолчанию, только `n_jobs`=-1 для распараллеливания) и посмотрите на долю правильных ответов на 3-кратной кросс-валидации (ради воспроизводимости используйте для этого объект `StratifiedKFold` `skf`) по выборке `(X_train, y_train)` и отдельно на выборке `(X_valid, y_valid)`.**"
   ]
  },
  {
   "cell_type": "code",
   "execution_count": 10,
   "metadata": {},
   "outputs": [],
   "source": [
    "from sklearn.neighbors import KNeighborsClassifier"
   ]
  },
  {
   "cell_type": "code",
   "execution_count": 11,
   "metadata": {},
   "outputs": [],
   "source": [
    "knn = KNeighborsClassifier(n_neighbors=100, n_jobs=-1)"
   ]
  },
  {
   "cell_type": "code",
   "execution_count": 113,
   "metadata": {},
   "outputs": [
    {
     "data": {
      "text/plain": [
       "array([0.56925419, 0.56968588, 0.5552166 ])"
      ]
     },
     "execution_count": 113,
     "metadata": {},
     "output_type": "execute_result"
    }
   ],
   "source": [
    "knn_scores = cross_val_score(knn, X_train, y_train, cv=skf, n_jobs=-1, scoring='accuracy')\n",
    "knn_scores"
   ]
  },
  {
   "cell_type": "code",
   "execution_count": 16,
   "metadata": {},
   "outputs": [
    {
     "data": {
      "text/plain": [
       "0.5647188870063362"
      ]
     },
     "execution_count": 16,
     "metadata": {},
     "output_type": "execute_result"
    }
   ],
   "source": [
    "knn_mean = knn_scores.mean()\n",
    "knn_mean"
   ]
  },
  {
   "cell_type": "code",
   "execution_count": 17,
   "metadata": {},
   "outputs": [
    {
     "data": {
      "text/plain": [
       "KNeighborsClassifier(algorithm='auto', leaf_size=30, metric='minkowski',\n",
       "           metric_params=None, n_jobs=-1, n_neighbors=100, p=2,\n",
       "           weights='uniform')"
      ]
     },
     "execution_count": 17,
     "metadata": {},
     "output_type": "execute_result"
    }
   ],
   "source": [
    "knn.fit(X_train, y_train)"
   ]
  },
  {
   "cell_type": "code",
   "execution_count": 18,
   "metadata": {},
   "outputs": [
    {
     "data": {
      "text/plain": [
       "0.584024650391088"
      ]
     },
     "execution_count": 18,
     "metadata": {},
     "output_type": "execute_result"
    }
   ],
   "source": [
    "knn_valid_score = accuracy_score(y_valid, knn.predict(X_valid))\n",
    "knn_valid_score"
   ]
  },
  {
   "cell_type": "markdown",
   "metadata": {},
   "source": [
    "**<font color='red'>Вопрос 1. </font> Посчитайте доли правильных ответов для KNeighborsClassifier на кросс-валидации и отложенной выборке. Округлите каждое до 3 знаков после запятой и введите через пробел.**"
   ]
  },
  {
   "cell_type": "code",
   "execution_count": 19,
   "metadata": {},
   "outputs": [
    {
     "name": "stdout",
     "output_type": "stream",
     "text": [
      "0.565 0.584\n"
     ]
    }
   ],
   "source": [
    "print(round(knn_mean, 3), round(knn_valid_score, 3))"
   ]
  },
  {
   "cell_type": "markdown",
   "metadata": {},
   "source": [
    "**2. Обучите случайный лес (`RandomForestClassifier`) из 100 деревьев (для воспроизводимости `random_state`=17). Посмотрите на OOB-оценку (для этого надо сразу установить `oob_score`=True) и на долю правильных ответов на выборке `(X_valid, y_valid)`. Для распараллеливания задайте `n_jobs`=-1.**"
   ]
  },
  {
   "cell_type": "code",
   "execution_count": 20,
   "metadata": {},
   "outputs": [],
   "source": [
    "from sklearn.ensemble import RandomForestClassifier"
   ]
  },
  {
   "cell_type": "code",
   "execution_count": 21,
   "metadata": {},
   "outputs": [],
   "source": [
    "forest = RandomForestClassifier(n_estimators=100, random_state=17, oob_score=True, n_jobs=-1)"
   ]
  },
  {
   "cell_type": "markdown",
   "metadata": {},
   "source": [
    "**<font color='red'>Вопрос 2. </font> Посчитайте доли правильных ответов для `RandomForestClassifier` при Out-of-Bag оценке и на отложенной выборке. Округлите каждое до 3 знаков после запятой и введите через пробел.**"
   ]
  },
  {
   "cell_type": "code",
   "execution_count": 22,
   "metadata": {},
   "outputs": [
    {
     "data": {
      "text/plain": [
       "RandomForestClassifier(bootstrap=True, class_weight=None, criterion='gini',\n",
       "            max_depth=None, max_features='auto', max_leaf_nodes=None,\n",
       "            min_impurity_decrease=0.0, min_impurity_split=None,\n",
       "            min_samples_leaf=1, min_samples_split=2,\n",
       "            min_weight_fraction_leaf=0.0, n_estimators=100, n_jobs=-1,\n",
       "            oob_score=True, random_state=17, verbose=0, warm_start=False)"
      ]
     },
     "execution_count": 22,
     "metadata": {},
     "output_type": "execute_result"
    }
   ],
   "source": [
    "forest.fit(X_train, y_train)"
   ]
  },
  {
   "cell_type": "code",
   "execution_count": 23,
   "metadata": {},
   "outputs": [
    {
     "data": {
      "text/plain": [
       "0.7212964844543792"
      ]
     },
     "execution_count": 23,
     "metadata": {},
     "output_type": "execute_result"
    }
   ],
   "source": [
    "oob_score = forest.oob_score_\n",
    "oob_score"
   ]
  },
  {
   "cell_type": "code",
   "execution_count": 24,
   "metadata": {},
   "outputs": [
    {
     "data": {
      "text/plain": [
       "0.7293197440151695"
      ]
     },
     "execution_count": 24,
     "metadata": {},
     "output_type": "execute_result"
    }
   ],
   "source": [
    "forest_valid_score = accuracy_score(y_valid, forest.predict(X_valid))\n",
    "forest_valid_score"
   ]
  },
  {
   "cell_type": "code",
   "execution_count": 25,
   "metadata": {},
   "outputs": [],
   "source": [
    "with open('answer4_2.txt', 'w') as f:\n",
    "    f.write(str(round(oob_score, 3)) + ' ' + str(round(forest_valid_score, 3)))"
   ]
  },
  {
   "cell_type": "code",
   "execution_count": 26,
   "metadata": {},
   "outputs": [
    {
     "name": "stdout",
     "output_type": "stream",
     "text": [
      "0.721 0.729"
     ]
    }
   ],
   "source": [
    "!cat answer4_2.txt"
   ]
  },
  {
   "cell_type": "markdown",
   "metadata": {},
   "source": [
    "**3. Обучите логистическую регрессию (`LogisticRegression`) с параметром `C` по умолчанию и `random_state`=17 (для воспроизводимости). Посмотрите на долю правильных ответов на кросс-валидации (используйте объект `skf`, созданный ранее) и на выборке `(X_valid, y_valid)`. Для распараллеливания задайте `n_jobs=-1`.**"
   ]
  },
  {
   "cell_type": "code",
   "execution_count": 27,
   "metadata": {},
   "outputs": [],
   "source": [
    "from sklearn.linear_model import LogisticRegression, LogisticRegressionCV"
   ]
  },
  {
   "cell_type": "code",
   "execution_count": 28,
   "metadata": {},
   "outputs": [],
   "source": [
    "logit = LogisticRegression(random_state=17, n_jobs=-1)"
   ]
  },
  {
   "cell_type": "code",
   "execution_count": 29,
   "metadata": {},
   "outputs": [],
   "source": [
    "logit_scores = cross_val_score(logit, X_train, y_train, cv=skf, scoring='accuracy', n_jobs=-1)"
   ]
  },
  {
   "cell_type": "code",
   "execution_count": 30,
   "metadata": {},
   "outputs": [
    {
     "data": {
      "text/plain": [
       "0.7610267543665875"
      ]
     },
     "execution_count": 30,
     "metadata": {},
     "output_type": "execute_result"
    }
   ],
   "source": [
    "logit_mean = logit_scores.mean()\n",
    "logit_scores.mean()"
   ]
  },
  {
   "cell_type": "code",
   "execution_count": 31,
   "metadata": {},
   "outputs": [
    {
     "data": {
      "text/plain": [
       "LogisticRegression(C=1.0, class_weight=None, dual=False, fit_intercept=True,\n",
       "          intercept_scaling=1, max_iter=100, multi_class='ovr', n_jobs=-1,\n",
       "          penalty='l2', random_state=17, solver='liblinear', tol=0.0001,\n",
       "          verbose=0, warm_start=False)"
      ]
     },
     "execution_count": 31,
     "metadata": {},
     "output_type": "execute_result"
    }
   ],
   "source": [
    "logit.fit(X_train, y_train)"
   ]
  },
  {
   "cell_type": "code",
   "execution_count": 32,
   "metadata": {},
   "outputs": [
    {
     "data": {
      "text/plain": [
       "0.7817018250770325"
      ]
     },
     "execution_count": 32,
     "metadata": {},
     "output_type": "execute_result"
    }
   ],
   "source": [
    "logit_valid_score = accuracy_score(y_valid, logit.predict(X_valid))\n",
    "logit_valid_score"
   ]
  },
  {
   "cell_type": "markdown",
   "metadata": {},
   "source": [
    "**Почитайте документацию к [LogisticRegressionCV](http://scikit-learn.org/stable/modules/generated/sklearn.linear_model.LogisticRegressionCV.html). Логистическая регрессия хорошо изучена, и для нее существуют алгоритмы быстрого подбора параметра регуляризации `C` (быстрее, чем с `GridSearchCV`).**\n",
    "\n",
    "**С помощью `LogisticRegressionCV` подберите параметр `C` для `LogisticRegression` сначала в широком диапазоне: 10 значений от 1e-4 до 1e2, используйте `logspace` из `NumPy`. Укажите у `LogisticRegressionCV` параметры `multi_class`='multinomial' и `random_state`=17. Для кросс-валидации используйте объект `skf`, созданный ранее. Для распараллеливания задайте `n_jobs=-1`.**\n",
    "\n",
    "**Нарисуйте кривые валидации по параметру `C`.**"
   ]
  },
  {
   "cell_type": "code",
   "execution_count": 135,
   "metadata": {},
   "outputs": [
    {
     "name": "stdout",
     "output_type": "stream",
     "text": [
      "CPU times: user 11.9 s, sys: 13.2 s, total: 25 s\n",
      "Wall time: 1min 50s\n"
     ]
    }
   ],
   "source": [
    "%%time\n",
    "logit_c_values1 = np.logspace(-4, 2, 10)\n",
    "\n",
    "logit_grid_searcher1 = LogisticRegressionCV(logit_c_values1, multi_class='multinomial', random_state=17, cv=skf, \n",
    "                                            n_jobs=-1)\n",
    "logit_grid_searcher1.fit(X_train, y_train)"
   ]
  },
  {
   "cell_type": "markdown",
   "metadata": {},
   "source": [
    "Средние значения доли правильных ответов на кросс-валидации по каждому из 10 параметров `C`."
   ]
  },
  {
   "cell_type": "code",
   "execution_count": 136,
   "metadata": {},
   "outputs": [
    {
     "data": {
      "text/plain": [
       "array([0.31822225, 0.47337913, 0.55273512, 0.65119285, 0.71297117,\n",
       "       0.75137565, 0.75899563, 0.75716933, 0.75148046, 0.73979585])"
      ]
     },
     "execution_count": 136,
     "metadata": {},
     "output_type": "execute_result"
    }
   ],
   "source": [
    "logit_mean_cv_scores1 = logit_grid_searcher1.scores_[1].mean(axis=0)\n",
    "logit_mean_cv_scores1"
   ]
  },
  {
   "cell_type": "markdown",
   "metadata": {},
   "source": [
    "Выведите лучшее значение доли правильных ответов на кросс-валидации и соответствующее значение `C`."
   ]
  },
  {
   "cell_type": "code",
   "execution_count": 137,
   "metadata": {},
   "outputs": [
    {
     "name": "stdout",
     "output_type": "stream",
     "text": [
      "Best score: 0.7589956251971023\n",
      "Best C: 1.0\n"
     ]
    }
   ],
   "source": [
    "print('Best score:', logit_mean_cv_scores1.max())\n",
    "print('Best C:', logit_c_values1[logit_mean_cv_scores1.argmax()])"
   ]
  },
  {
   "cell_type": "markdown",
   "metadata": {},
   "source": [
    "Нарисуйте график зависимости доли правильных ответов на кросс-валидации от `C`."
   ]
  },
  {
   "cell_type": "code",
   "execution_count": 36,
   "metadata": {},
   "outputs": [
    {
     "data": {
      "image/png": "[encoded data removed]",
      "text/plain": [
       "<Figure size 432x288 with 1 Axes>"
      ]
     },
     "metadata": {
      "needs_background": "light"
     },
     "output_type": "display_data"
    }
   ],
   "source": [
    "plt.plot(logit_c_values1, logit_mean_cv_scores1);"
   ]
  },
  {
   "cell_type": "markdown",
   "metadata": {},
   "source": [
    "**Теперь то же самое, только значения параметра `C` перебирайте в диапазоне `np.linspace`(0.1, 7, 20). Опять нарисуйте кривые валидации, определите максимальное значение доли правильных ответов на кросс-валидации.**"
   ]
  },
  {
   "cell_type": "code",
   "execution_count": 37,
   "metadata": {},
   "outputs": [
    {
     "name": "stdout",
     "output_type": "stream",
     "text": [
      "CPU times: user 12 s, sys: 12.9 s, total: 24.9 s\n",
      "Wall time: 4min 39s\n"
     ]
    }
   ],
   "source": [
    "%%time\n",
    "logit_c_values2 = np.linspace(0.1, 7, 20)\n",
    "\n",
    "logit_grid_searcher2 = LogisticRegressionCV(logit_c_values2, cv=skf, n_jobs=-1, multi_class='multinomial', \n",
    "                                            random_state=17)\n",
    "logit_grid_searcher2.fit(X_train, y_train)"
   ]
  },
  {
   "cell_type": "markdown",
   "metadata": {},
   "source": [
    "Средние значения доли правильных ответов на кросс-валидации по каждому из 10 параметров `C`."
   ]
  },
  {
   "cell_type": "code",
   "execution_count": 38,
   "metadata": {},
   "outputs": [
    {
     "data": {
      "text/plain": [
       "array([0.7354267 , 0.75899473, 0.75869118, 0.75757295, 0.75818317,\n",
       "       0.75818404, 0.75798091, 0.7573715 , 0.75686414, 0.75696663,\n",
       "       0.75686463, 0.75656013, 0.75574758, 0.7555448 , 0.75513903,\n",
       "       0.75442873, 0.75463233, 0.75463236, 0.75442923, 0.75381935])"
      ]
     },
     "execution_count": 38,
     "metadata": {},
     "output_type": "execute_result"
    }
   ],
   "source": [
    "logit_mean_cv_scores2 = logit_grid_searcher2.scores_[1].mean(axis=0)\n",
    "logit_mean_cv_scores2"
   ]
  },
  {
   "cell_type": "markdown",
   "metadata": {},
   "source": [
    "Выведите лучшее значение доли правильных ответов на кросс-валидации и соответствующее значение `C`."
   ]
  },
  {
   "cell_type": "code",
   "execution_count": 39,
   "metadata": {},
   "outputs": [
    {
     "name": "stdout",
     "output_type": "stream",
     "text": [
      "Best score: 0.7589947274379898\n",
      "Best C: 0.4631578947368421\n"
     ]
    }
   ],
   "source": [
    "print('Best score:', logit_mean_cv_scores2.max())\n",
    "print('Best C:', logit_c_values2[logit_mean_cv_scores2.argmax()])"
   ]
  },
  {
   "cell_type": "markdown",
   "metadata": {},
   "source": [
    "Нарисуйте график зависимости доли правильных ответов на кросс-валидации от `C`."
   ]
  },
  {
   "cell_type": "code",
   "execution_count": 40,
   "metadata": {},
   "outputs": [
    {
     "data": {
      "image/png": "[encoded data removed]",
      "text/plain": [
       "<Figure size 432x288 with 1 Axes>"
      ]
     },
     "metadata": {
      "needs_background": "light"
     },
     "output_type": "display_data"
    }
   ],
   "source": [
    "plt.plot(logit_c_values2, logit_mean_cv_scores2);"
   ]
  },
  {
   "cell_type": "markdown",
   "metadata": {},
   "source": [
    "Выведите долю правильных ответов на выборке `(X_valid, y_valid)` для логистической регрессии с лучшим найденным значением `C`."
   ]
  },
  {
   "cell_type": "code",
   "execution_count": 41,
   "metadata": {},
   "outputs": [
    {
     "data": {
      "text/plain": [
       "0.7748281583313581"
      ]
     },
     "execution_count": 41,
     "metadata": {},
     "output_type": "execute_result"
    }
   ],
   "source": [
    "logit_cv_acc = accuracy_score(y_valid, logit_grid_searcher2.predict(X_valid))\n",
    "logit_cv_acc"
   ]
  },
  {
   "cell_type": "markdown",
   "metadata": {},
   "source": [
    "**<font color='red'>Вопрос 3. </font>Посчитайте доли правильных ответов для `logit_grid_searcher2` на кросс-валидации для лучшего значения параметра `C` и на отложенной выборке. Округлите каждое до 3 знаков после запятой и выведите через пробел.**"
   ]
  },
  {
   "cell_type": "code",
   "execution_count": 42,
   "metadata": {},
   "outputs": [],
   "source": [
    "with open('answer4_3.txt', 'w') as f:\n",
    "    f.write(str(round(logit_mean_cv_scores2.max(), 3)) + ' ' + str(round(logit_cv_acc, 3)))"
   ]
  },
  {
   "cell_type": "markdown",
   "metadata": {},
   "source": [
    "**4. Обучите линейный SVM (`LinearSVC`) с параметром `C`=1 и `random_state`=17 (для воспроизводимости). Посмотрите на долю правильных ответов на кросс-валидации (используйте объект `skf`, созданный ранее) и на выборке `(X_valid, y_valid)`.**"
   ]
  },
  {
   "cell_type": "code",
   "execution_count": 43,
   "metadata": {},
   "outputs": [],
   "source": [
    "from sklearn.svm import LinearSVC"
   ]
  },
  {
   "cell_type": "code",
   "execution_count": 44,
   "metadata": {},
   "outputs": [],
   "source": [
    "svm = LinearSVC(C=1, random_state=17)"
   ]
  },
  {
   "cell_type": "code",
   "execution_count": 45,
   "metadata": {},
   "outputs": [],
   "source": [
    "svm_scores = cross_val_score(svm, X_train, y_train, scoring='accuracy', cv=skf, n_jobs=-1)"
   ]
  },
  {
   "cell_type": "code",
   "execution_count": 46,
   "metadata": {},
   "outputs": [
    {
     "data": {
      "text/plain": [
       "0.7526960152920014"
      ]
     },
     "execution_count": 46,
     "metadata": {},
     "output_type": "execute_result"
    }
   ],
   "source": [
    "svm_scores.mean()"
   ]
  },
  {
   "cell_type": "code",
   "execution_count": 47,
   "metadata": {},
   "outputs": [
    {
     "data": {
      "text/plain": [
       "LinearSVC(C=1, class_weight=None, dual=True, fit_intercept=True,\n",
       "     intercept_scaling=1, loss='squared_hinge', max_iter=1000,\n",
       "     multi_class='ovr', penalty='l2', random_state=17, tol=0.0001,\n",
       "     verbose=0)"
      ]
     },
     "execution_count": 47,
     "metadata": {},
     "output_type": "execute_result"
    }
   ],
   "source": [
    "svm.fit(X_train, y_train)"
   ]
  },
  {
   "cell_type": "code",
   "execution_count": 48,
   "metadata": {},
   "outputs": [
    {
     "data": {
      "text/plain": [
       "0.7769613652524295"
      ]
     },
     "execution_count": 48,
     "metadata": {},
     "output_type": "execute_result"
    }
   ],
   "source": [
    "accuracy_score(y_valid, svm.predict(X_valid))"
   ]
  },
  {
   "cell_type": "markdown",
   "metadata": {},
   "source": [
    "**С помощью `GridSearchCV` подберите параметр `C` для SVM сначала в широком диапазоне: 10 значений от 1e-4 до 1e4, используйте `linspace` из NumPy. Нарисуйте кривые валидации.**"
   ]
  },
  {
   "cell_type": "code",
   "execution_count": 49,
   "metadata": {},
   "outputs": [
    {
     "name": "stdout",
     "output_type": "stream",
     "text": [
      "CPU times: user 11.5 s, sys: 144 ms, total: 11.7 s\n",
      "Wall time: 1min 28s\n"
     ]
    }
   ],
   "source": [
    "%%time\n",
    "svm_params1 = {'C': np.linspace(1e-4, 1e4, 10)}\n",
    "\n",
    "svm_grid_searcher1 = GridSearchCV(svm, svm_params1, scoring='accuracy', n_jobs=-1, cv=skf)\n",
    "svm_grid_searcher1.fit(X_train, y_train)"
   ]
  },
  {
   "cell_type": "markdown",
   "metadata": {},
   "source": [
    "Выведите лучшее значение доли правильных ответов на кросс-валидации и соответствующее значение `C`."
   ]
  },
  {
   "cell_type": "code",
   "execution_count": 50,
   "metadata": {},
   "outputs": [
    {
     "data": {
      "text/plain": [
       "(0.6842105263157895, {'C': 6666.666700000001})"
      ]
     },
     "execution_count": 50,
     "metadata": {},
     "output_type": "execute_result"
    }
   ],
   "source": [
    "svm_grid_searcher1.best_score_, svm_grid_searcher1.best_params_"
   ]
  },
  {
   "cell_type": "markdown",
   "metadata": {},
   "source": [
    "Нарисуйте график зависимости доли правильных ответов на кросс-валидации от `C`."
   ]
  },
  {
   "cell_type": "code",
   "execution_count": 51,
   "metadata": {},
   "outputs": [
    {
     "data": {
      "image/png": "[encoded data removed]",
      "text/plain": [
       "<Figure size 432x288 with 1 Axes>"
      ]
     },
     "metadata": {
      "needs_background": "light"
     },
     "output_type": "display_data"
    }
   ],
   "source": [
    "plot_validation_curves(svm_params1['C'], svm_grid_searcher1.cv_results_)"
   ]
  },
  {
   "cell_type": "markdown",
   "metadata": {},
   "source": [
    "**Но мы помним, что с параметром регуляризации по умолчанию (С=1) на кросс-валидации доля правильных ответов выше. Это тот случай (не редкий), когда можно ошибиться и перебирать параметры не в том диапазоне (причина в том, что мы взяли равномерную сетку на большом интервале и упустили действительно хороший интервал значений `C`). Здесь намного осмысленней подбирать `C` в районе 1, к тому же, так модель быстрее обучается, чем при больших `C`. **\n",
    "\n",
    "**С помощью `GridSearchCV` подберите параметр `C` для SVM в диапазоне (1e-3, 1), 30 значений, используйте `linspace` из NumPy. Нарисуйте кривые валидации.**"
   ]
  },
  {
   "cell_type": "code",
   "execution_count": 52,
   "metadata": {},
   "outputs": [
    {
     "name": "stdout",
     "output_type": "stream",
     "text": [
      "CPU times: user 2.87 s, sys: 235 ms, total: 3.1 s\n",
      "Wall time: 2min 24s\n"
     ]
    }
   ],
   "source": [
    "%%time\n",
    "svm_params2 = {'C': np.linspace(1e-3, 1, 30)}\n",
    "\n",
    "svm_grid_searcher2 = GridSearchCV(svm, svm_params2, scoring='accuracy', n_jobs=-1, cv=skf)\n",
    "svm_grid_searcher2.fit(X_train, y_train)"
   ]
  },
  {
   "cell_type": "markdown",
   "metadata": {},
   "source": [
    "Выведите лучшее значение доли правильных ответов на кросс-валидации и соответствующее значение `C`."
   ]
  },
  {
   "cell_type": "code",
   "execution_count": 53,
   "metadata": {},
   "outputs": [
    {
     "data": {
      "text/plain": [
       "(0.764681975208291, {'C': 0.10434482758620689})"
      ]
     },
     "execution_count": 53,
     "metadata": {},
     "output_type": "execute_result"
    }
   ],
   "source": [
    "svm_grid_searcher2.best_score_, svm_grid_searcher2.best_params_"
   ]
  },
  {
   "cell_type": "markdown",
   "metadata": {},
   "source": [
    "Нарисуйте график зависимости доли правильных ответов на кросс-валидации от С."
   ]
  },
  {
   "cell_type": "code",
   "execution_count": 54,
   "metadata": {},
   "outputs": [
    {
     "data": {
      "image/png": "[encoded data removed]",
      "text/plain": [
       "<Figure size 432x288 with 1 Axes>"
      ]
     },
     "metadata": {
      "needs_background": "light"
     },
     "output_type": "display_data"
    }
   ],
   "source": [
    "plot_validation_curves(svm_params2['C'], svm_grid_searcher2.cv_results_)"
   ]
  },
  {
   "cell_type": "markdown",
   "metadata": {},
   "source": [
    "Выведите долю правильных ответов на выборке `(X_valid, y_valid)` для `LinearSVC` с лучшим найденным значением `C`."
   ]
  },
  {
   "cell_type": "code",
   "execution_count": 55,
   "metadata": {},
   "outputs": [
    {
     "data": {
      "text/plain": [
       "0.7807537331121118"
      ]
     },
     "execution_count": 55,
     "metadata": {},
     "output_type": "execute_result"
    }
   ],
   "source": [
    "svm_cv_acc = accuracy_score(y_valid, svm_grid_searcher2.predict(X_valid))\n",
    "svm_cv_acc"
   ]
  },
  {
   "cell_type": "markdown",
   "metadata": {},
   "source": [
    "**<font color='red'>Вопрос 4. </font> Посчитайте доли правильных ответов для `svm_grid_searcher2` на кросс-валидации для лучшего значения параметра `C` и на отложенной выборке. Округлите каждое до 3 знаков после запятой и выведите через пробел.**"
   ]
  },
  {
   "cell_type": "code",
   "execution_count": 56,
   "metadata": {},
   "outputs": [],
   "source": [
    "with open('answer4_4.txt', 'w') as f:\n",
    "    f.write(str(round(svm_grid_searcher2.best_score_, 3)) + ' ' + str(round(svm_cv_acc, 3)))"
   ]
  },
  {
   "cell_type": "markdown",
   "metadata": {},
   "source": [
    "## Часть 2. Выбор параметров – длины сессии и ширины окна"
   ]
  },
  {
   "cell_type": "markdown",
   "metadata": {},
   "source": [
    "**Возьмем `LinearSVC`, показавший лучшее качество на кросс-валидации в 1 части, и проверим его работу еще на 8 выборках для 10 пользователей (с разными сочетаниями параметров *session_length* и *window_size*). Поскольку тут уже вычислений побольше, мы не будем каждый раз заново подбирать параметр регуляризации `C`.**\n",
    "\n",
    "**Определите функцию `model_assessment`, ее документация описана ниже. Обратите внимание на все детали. Например, на то, что разбиение  выборки с `train_test_split` должно быть стратифицированным. Не теряйте нигде `random_state`.**"
   ]
  },
  {
   "cell_type": "code",
   "execution_count": 65,
   "metadata": {},
   "outputs": [],
   "source": [
    "def model_assessment(estimator, path_to_X_pickle, path_to_y_pickle, cv, random_state=17, test_size=0.3):\n",
    "    '''\n",
    "    Estimates CV-accuracy for (1 - test_size) share of (X_sparse, y) \n",
    "    loaded from path_to_X_pickle and path_to_y_pickle and holdout accuracy for (test_size) share of (X_sparse, y).\n",
    "    The split is made with stratified train_test_split with params random_state and test_size.\n",
    "    \n",
    "    :param estimator – Scikit-learn estimator (classifier or regressor)\n",
    "    :param path_to_X_pickle – path to pickled sparse X (instances and their features)\n",
    "    :param path_to_y_pickle – path to pickled y (responses)\n",
    "    :param cv – cross-validation as in cross_val_score (use StratifiedKFold here)\n",
    "    :param random_state –  for train_test_split\n",
    "    :param test_size –  for train_test_split\n",
    "    \n",
    "    :returns mean CV-accuracy for (X_train, y_train) and accuracy for (X_valid, y_valid) where (X_train, y_train)\n",
    "    and (X_valid, y_valid) are (1 - test_size) and (testsize) shares of (X_sparse, y).\n",
    "    '''\n",
    "    start_time = time()\n",
    "    \n",
    "    with open(path_to_X_pickle, 'rb') as X_file, open(path_to_y_pickle, 'rb') as y_file:\n",
    "        X_sparse = pickle.load(X_file)\n",
    "        y = pickle.load(y_file)\n",
    "    \n",
    "    X_train, X_valid, y_train, y_valid =  train_test_split(X_sparse, y, test_size=test_size, \n",
    "                                                           random_state=random_state, stratify=y)\n",
    "    \n",
    "    mean_cv_score = cross_val_score(estimator, X_train, y_train, scoring='accuracy', cv=cv, n_jobs=-1).mean()\n",
    "    estimator.fit(X_train, y_train)\n",
    "    acc_valid_score = accuracy_score(y_valid, estimator.predict(X_valid))\n",
    "    \n",
    "    return mean_cv_score, acc_valid_score, time() - start_time"
   ]
  },
  {
   "cell_type": "markdown",
   "metadata": {},
   "source": [
    "**Убедитесь, что функция работает.**"
   ]
  },
  {
   "cell_type": "code",
   "execution_count": 58,
   "metadata": {},
   "outputs": [
    {
     "data": {
      "text/plain": [
       "(0.7646853244550981, 0.7807537331121118)"
      ]
     },
     "execution_count": 58,
     "metadata": {},
     "output_type": "execute_result"
    }
   ],
   "source": [
    "model_assessment(svm_grid_searcher2.best_estimator_, \n",
    "                 os.path.join(PATH_TO_DATA, 'X_sparse_10users.pkl'),\n",
    "        os.path.join(PATH_TO_DATA, 'y_10users.pkl'), skf, random_state=17, test_size=0.3)"
   ]
  },
  {
   "cell_type": "markdown",
   "metadata": {},
   "source": [
    "**Примените функцию *model_assessment* для лучшего алгоритма из предыдущей части (а именно, `svm_grid_searcher2.best_estimator_`) и 9 выборок вида с разными сочетаниями параметров *session_length* и *window_size* для 10 пользователей. Выведите в цикле параметры *session_length* и *window_size*, а также результат вывода функции *model_assessment*. \n",
    "Удобно сделать так, чтоб *model_assessment* возвращала 3-им элементом время, за которое она выполнилась. На моем ноуте этот участок кода выполнился за 20 секунд. Но со 150 пользователями каждая итерация занимает уже несколько минут.**"
   ]
  },
  {
   "cell_type": "markdown",
   "metadata": {},
   "source": [
    "Здесь для удобства стоит создать копии ранее созданных pickle-файлов X_sparse_10users.pkl, X_sparse_150users.pkl, y_10users.pkl и y_150users.pkl, добавив к их названиям s10_w10, что означает длину сессии 10 и ширину окна 10. "
   ]
  },
  {
   "cell_type": "code",
   "execution_count": 59,
   "metadata": {},
   "outputs": [],
   "source": [
    "!cp $PATH_TO_DATA/X_sparse_10users.pkl $PATH_TO_DATA/X_sparse_10users_s10_w10.pkl \n",
    "!cp $PATH_TO_DATA/X_sparse_150users.pkl $PATH_TO_DATA/X_sparse_150users_s10_w10.pkl \n",
    "!cp $PATH_TO_DATA/y_10users.pkl $PATH_TO_DATA/y_10users_s10_w10.pkl \n",
    "!cp $PATH_TO_DATA/y_150users.pkl $PATH_TO_DATA/y_150users_s10_w10.pkl "
   ]
  },
  {
   "cell_type": "code",
   "execution_count": 66,
   "metadata": {},
   "outputs": [
    {
     "name": "stdout",
     "output_type": "stream",
     "text": [
      "(0.8238214955278105, 0.8404835269021095, 10.469220161437988)\n",
      "(0.7646853244550981, 0.7807537331121118, 5.702195405960083)\n",
      "(0.8479403769844098, 0.8543222166915547, 16.26254439353943)\n",
      "(0.7970161463734652, 0.8073668491786958, 8.804265260696411)\n",
      "(0.7529891114830342, 0.7617388418782147, 6.014790296554565)\n",
      "(0.868001372554347, 0.8752963489805595, 23.7305965423584)\n",
      "(0.8159247205318039, 0.8245614035087719, 9.48597002029419)\n",
      "(0.774058674563226, 0.7853247984826932, 5.692247152328491)\n",
      "(0.7252830650398828, 0.7362494073020389, 3.905979633331299)\n",
      "CPU times: user 40.6 s, sys: 1.61 s, total: 42.2 s\n",
      "Wall time: 1min 30s\n"
     ]
    }
   ],
   "source": [
    "%%time\n",
    "estimator = svm_grid_searcher2.best_estimator_\n",
    "\n",
    "for window_size, session_length in itertools.product([10, 7, 5], [15, 10, 7, 5]):\n",
    "    if window_size <= session_length:\n",
    "        path_to_X_pkl = os.path.join(PATH_TO_DATA, f'X_sparse_10users_s{session_length}_w{window_size}.pkl')\n",
    "        path_to_y_pkl = os.path.join(PATH_TO_DATA, f'y_10users_s{session_length}_w{window_size}.pkl')\n",
    "        print(model_assessment(estimator, path_to_X_pkl, path_to_y_pkl, skf, random_state=17, test_size=0.3))"
   ]
  },
  {
   "cell_type": "markdown",
   "metadata": {},
   "source": [
    "**<font color='red'>Вопрос 5. </font> Посчитайте доли правильных ответов для `LinearSVC` с настроенным параметром `C` и выборки `X_sparse_10users_s15_w5`. Укажите доли правильных ответов на кросс-валидации и на отложенной выборке. Округлите каждое до 3 знаков после запятой и выведите через пробел.**"
   ]
  },
  {
   "cell_type": "code",
   "execution_count": 68,
   "metadata": {},
   "outputs": [
    {
     "data": {
      "text/plain": [
       "(0.868, 0.875)"
      ]
     },
     "execution_count": 68,
     "metadata": {},
     "output_type": "execute_result"
    }
   ],
   "source": [
    "path_to_X_pkl = os.path.join(PATH_TO_DATA, 'X_sparse_10users_s15_w5.pkl')\n",
    "path_to_y_pkl = os.path.join(PATH_TO_DATA, 'y_10users_s15_w5.pkl')\n",
    "cv_score, holdout_score, time_ = model_assessment(estimator, path_to_X_pkl, path_to_y_pkl, \n",
    "                                                  skf, random_state=17, test_size=0.3)\n",
    "round(cv_score, 3), round(holdout_score, 3)"
   ]
  },
  {
   "cell_type": "code",
   "execution_count": 69,
   "metadata": {},
   "outputs": [],
   "source": [
    "with open('answer4_5.txt', 'w') as f:\n",
    "    f.write(str(round(cv_score, 3)) + ' ' + str(round(holdout_score, 3)))"
   ]
  },
  {
   "cell_type": "markdown",
   "metadata": {},
   "source": [
    "**Прокомментируйте полученные результаты. Сравните для 150 пользователей доли правильных ответов на кросс-валидации и оставленной выборке для сочетаний параметров (*session_length, window_size*): (5,5), (7,7) и (10,10). На среднем ноуте это может занять до часа – запаситесь терпением, это Data Science :) **\n",
    "\n",
    "**Сделайте вывод о том, как качество классификации зависит от длины сессии и ширины окна.**"
   ]
  },
  {
   "cell_type": "code",
   "execution_count": 70,
   "metadata": {},
   "outputs": [
    {
     "name": "stdout",
     "output_type": "stream",
     "text": [
      "(0.40858659509908596, 0.42171606560568453, 660.4976761341095)\n",
      "(0.43638649409423974, 0.45295840855673264, 567.3368804454803)\n",
      "(0.4612588999427913, 0.4836276942538802, 613.2379701137543)\n",
      "CPU times: user 15min 17s, sys: 1.59 s, total: 15min 19s\n",
      "Wall time: 30min 41s\n"
     ]
    }
   ],
   "source": [
    "%%time\n",
    "estimator = svm_grid_searcher2.best_estimator_\n",
    "\n",
    "for window_size, session_length in [(5,5), (7,7), (10,10)]:\n",
    "    path_to_X_pkl = os.path.join(PATH_TO_DATA, f'X_sparse_150users_s{session_length}_w{window_size}.pkl')\n",
    "    path_to_y_pkl = os.path.join(PATH_TO_DATA, f'y_150users_s{session_length}_w{window_size}.pkl')\n",
    "    print(model_assessment(estimator, path_to_X_pkl, path_to_y_pkl, skf, random_state=17, test_size=0.3))"
   ]
  },
  {
   "cell_type": "markdown",
   "metadata": {},
   "source": [
    "**<font color='red'>Вопрос 6. </font> Посчитайте доли правильных ответов для `LinearSVC` с настроенным параметром `C` и выборки `X_sparse_150users`. Укажите доли правильных ответов на кросс-валидации и на отложенной выборке. Округлите каждое до 3 знаков после запятой и выведите через пробел.**"
   ]
  },
  {
   "cell_type": "code",
   "execution_count": 71,
   "metadata": {},
   "outputs": [],
   "source": [
    "cv_score, holdout_score = round(0.4612588999427913, 3), round(0.4836276942538802, 3)\n",
    "with open('answer4_6.txt', 'w') as f:\n",
    "    f.write(str(cv_score) + ' ' + str(holdout_score))"
   ]
  },
  {
   "cell_type": "markdown",
   "metadata": {},
   "source": [
    "## Часть 3. Идентификация  конкретного пользователя и кривые обучения"
   ]
  },
  {
   "cell_type": "markdown",
   "metadata": {},
   "source": [
    "**Поскольку может разочаровать, что многоклассовая доля правильных ответов на выборке из 150 пользовалей невелика, порадуемся тому, что конкретного пользователя можно идентифицировать достаточно хорошо. **"
   ]
  },
  {
   "cell_type": "markdown",
   "metadata": {},
   "source": [
    "**Загрузим сериализованные ранее объекты *X_sparse_150users* и *y_150users*, соответствующие обучающей выборке для 150 пользователей с параметрами (*session_length, window_size*) = (10,10). Так же точно разобьем их на 70% и 30%.**"
   ]
  },
  {
   "cell_type": "code",
   "execution_count": 72,
   "metadata": {},
   "outputs": [],
   "source": [
    "with open(os.path.join(PATH_TO_DATA, 'X_sparse_150users.pkl'), 'rb') as X_sparse_150users_pkl:\n",
    "     X_sparse_150users = pickle.load(X_sparse_150users_pkl)\n",
    "with open(os.path.join(PATH_TO_DATA, 'y_150users.pkl'), 'rb') as y_150users_pkl:\n",
    "    y_150users = pickle.load(y_150users_pkl)"
   ]
  },
  {
   "cell_type": "code",
   "execution_count": 73,
   "metadata": {},
   "outputs": [],
   "source": [
    "X_train_150, X_valid_150, y_train_150, y_valid_150 = train_test_split(X_sparse_150users, \n",
    "                                                                      y_150users, test_size=0.3, \n",
    "                                                     random_state=17, stratify=y_150users)"
   ]
  },
  {
   "cell_type": "markdown",
   "metadata": {},
   "source": [
    "**Обучите `LogisticRegressionCV` для одного значения параметра `C` (лучшего на кросс-валидации в 1 части, используйте точное значение, не на глаз). Теперь будем решать 150 задач \"Один-против-Всех\", поэтому укажите аргумент `multi_class`='ovr'. Как всегда, где возможно, указывайте `n_jobs=-1` и `random_state`=17.**"
   ]
  },
  {
   "cell_type": "code",
   "execution_count": 74,
   "metadata": {},
   "outputs": [
    {
     "name": "stdout",
     "output_type": "stream",
     "text": [
      "CPU times: user 20min 51s, sys: 23min 41s, total: 44min 32s\n",
      "Wall time: 38min 56s\n"
     ]
    }
   ],
   "source": [
    "%%time\n",
    "C = logit_c_values2[logit_mean_cv_scores2.argmax()]\n",
    "logit_cv_150users = LogisticRegressionCV(Cs=[C], cv=skf, scoring='accuracy', n_jobs=-1, multi_class='ovr', \n",
    "                                         random_state=17)\n",
    "logit_cv_150users.fit(X_train_150, y_train_150)"
   ]
  },
  {
   "cell_type": "markdown",
   "metadata": {},
   "source": [
    "**Посмотрите на средние доли правильных ответов на кросс-валидации в задаче идентификации каждого пользователя по отдельности.**"
   ]
  },
  {
   "cell_type": "code",
   "execution_count": 79,
   "metadata": {},
   "outputs": [
    {
     "name": "stdout",
     "output_type": "stream",
     "text": [
      "User 1, CV score: 0.9958396485310578\n",
      "User 2, CV score: 0.996236159606072\n",
      "User 3, CV score: 0.9951414156621485\n",
      "User 4, CV score: 0.9917629636028263\n",
      "User 5, CV score: 0.990032646749408\n",
      "User 6, CV score: 0.9945992933895361\n",
      "User 7, CV score: 0.9936295923347456\n",
      "User 8, CV score: 0.9857474441964414\n",
      "User 9, CV score: 0.9979773735144889\n",
      "User 10, CV score: 0.9949328849394247\n",
      "User 11, CV score: 0.9944847392709221\n",
      "User 12, CV score: 0.9936087227963695\n",
      "User 13, CV score: 0.9969973347781819\n",
      "User 14, CV score: 0.9949640742212859\n",
      "User 15, CV score: 0.9963612639936241\n",
      "User 16, CV score: 0.9963196987839488\n",
      "User 17, CV score: 0.9905122649916512\n",
      "User 18, CV score: 0.9943596252032839\n",
      "User 19, CV score: 0.9947138940123931\n",
      "User 20, CV score: 0.991190153815365\n",
      "User 21, CV score: 0.9798259124963927\n",
      "User 22, CV score: 0.9968201105460203\n",
      "User 23, CV score: 0.9945051894225921\n",
      "User 24, CV score: 0.9906581115547454\n",
      "User 25, CV score: 0.9966011573912393\n",
      "User 26, CV score: 0.9942028893690901\n",
      "User 27, CV score: 0.9949953666657659\n",
      "User 28, CV score: 0.9910750393751755\n",
      "User 29, CV score: 0.9845696099756521\n",
      "User 30, CV score: 0.997195338958136\n",
      "User 31, CV score: 0.9970494778749127\n",
      "User 32, CV score: 0.9968616573436172\n",
      "User 33, CV score: 0.9972996440377231\n",
      "User 34, CV score: 0.996538553616154\n",
      "User 35, CV score: 0.996840961672318\n",
      "User 36, CV score: 0.9973101662144965\n",
      "User 37, CV score: 0.9874161297727787\n",
      "User 38, CV score: 0.9964863587010901\n",
      "User 39, CV score: 0.9963194919846642\n",
      "User 40, CV score: 0.9967053544681646\n",
      "User 41, CV score: 0.9900851341623905\n",
      "User 42, CV score: 0.9891879280334254\n",
      "User 43, CV score: 0.9962986602185385\n",
      "User 44, CV score: 0.995808619544238\n",
      "User 45, CV score: 0.9960276434034773\n",
      "User 46, CV score: 0.9949952775492292\n",
      "User 47, CV score: 0.9960172059772443\n",
      "User 48, CV score: 0.9970390317166872\n",
      "User 49, CV score: 0.9951415052527319\n",
      "User 50, CV score: 0.996434272262735\n",
      "User 51, CV score: 0.9916382113154247\n",
      "User 52, CV score: 0.9961109849881087\n",
      "User 53, CV score: 0.9957876604152786\n",
      "User 54, CV score: 0.9950894139743337\n",
      "User 55, CV score: 0.9972787933854722\n",
      "User 56, CV score: 0.9896577670195402\n",
      "User 57, CV score: 0.9926391771965775\n",
      "User 58, CV score: 0.9966739206147682\n",
      "User 59, CV score: 0.9870403061111178\n",
      "User 60, CV score: 0.9889686300883461\n",
      "User 61, CV score: 0.9944220459052531\n",
      "User 62, CV score: 0.990355863793623\n",
      "User 63, CV score: 0.9959443207049712\n",
      "User 64, CV score: 0.9910332867263878\n",
      "User 65, CV score: 0.99707028591487\n",
      "User 66, CV score: 0.9956836183193051\n",
      "User 67, CV score: 0.9974141652241295\n",
      "User 68, CV score: 0.9957356393672918\n",
      "User 69, CV score: 0.9966741138420175\n",
      "User 70, CV score: 0.9967992647338124\n",
      "User 71, CV score: 0.9960903556552715\n",
      "User 72, CV score: 0.9969970853666035\n",
      "User 73, CV score: 0.9967261910743334\n",
      "User 74, CV score: 0.9922431078122971\n",
      "User 75, CV score: 0.9967365248639005\n",
      "User 76, CV score: 0.9923784133124925\n",
      "User 77, CV score: 0.99753947204497\n",
      "User 78, CV score: 0.9965801469179936\n",
      "User 79, CV score: 0.9964135339791422\n",
      "User 80, CV score: 0.9908042772857825\n",
      "User 81, CV score: 0.9968514271907155\n",
      "User 82, CV score: 0.9942969037454504\n",
      "User 83, CV score: 0.9961838470082602\n",
      "User 84, CV score: 0.9971224672578982\n",
      "User 85, CV score: 0.9951413735239018\n",
      "User 86, CV score: 0.9971326882047608\n",
      "User 87, CV score: 0.9974665155941921\n",
      "User 88, CV score: 0.9892924873646338\n",
      "User 89, CV score: 0.9968304685358027\n",
      "User 90, CV score: 0.9953915343726223\n",
      "User 91, CV score: 0.9941927255546505\n",
      "User 92, CV score: 0.9936610257140952\n",
      "User 93, CV score: 0.984496138759448\n",
      "User 94, CV score: 0.9968825312479894\n",
      "User 95, CV score: 0.9955167143046754\n",
      "User 96, CV score: 0.991909247490658\n",
      "User 97, CV score: 0.9892926282995034\n",
      "User 98, CV score: 0.9982589832107817\n",
      "User 99, CV score: 0.9910124694803913\n",
      "User 100, CV score: 0.9900536625367437\n",
      "User 101, CV score: 0.9943594702223323\n",
      "User 102, CV score: 0.9865084082032703\n",
      "User 103, CV score: 0.9803776735643112\n",
      "User 104, CV score: 0.9813472893945142\n",
      "User 105, CV score: 0.991502599745275\n",
      "User 106, CV score: 0.9956001784120979\n",
      "User 107, CV score: 0.9972996120536092\n",
      "User 108, CV score: 0.9971537597023783\n",
      "User 109, CV score: 0.9973620133954061\n",
      "User 110, CV score: 0.9973934322546268\n",
      "User 111, CV score: 0.9952979490630538\n",
      "User 112, CV score: 0.9969972693878134\n",
      "User 113, CV score: 0.9966322711285994\n",
      "User 114, CV score: 0.9969451117709535\n",
      "User 115, CV score: 0.9957460530673566\n",
      "User 116, CV score: 0.9964655128888822\n",
      "User 117, CV score: 0.9945053400375478\n",
      "User 118, CV score: 0.996747206387622\n",
      "User 119, CV score: 0.9970493461460824\n",
      "User 120, CV score: 0.995454161873876\n",
      "User 121, CV score: 0.9964136240437725\n",
      "User 122, CV score: 0.996423942839164\n",
      "User 123, CV score: 0.9972369792382656\n",
      "User 124, CV score: 0.9957357720442158\n",
      "User 125, CV score: 0.994568000945056\n",
      "User 126, CV score: 0.9969867801432476\n",
      "User 127, CV score: 0.9980712280698544\n",
      "User 128, CV score: 0.9967470983849599\n",
      "User 129, CV score: 0.9954232466778551\n",
      "User 130, CV score: 0.9902203176138418\n",
      "User 131, CV score: 0.9925973015509518\n",
      "User 132, CV score: 0.9969761969421019\n",
      "User 133, CV score: 0.9969032593774493\n",
      "User 134, CV score: 0.9964760200714798\n",
      "User 135, CV score: 0.9977063382873491\n",
      "User 136, CV score: 0.9973829013458609\n",
      "User 137, CV score: 0.9968931473813426\n",
      "User 138, CV score: 0.993316620437608\n",
      "User 139, CV score: 0.9944010920903833\n",
      "User 140, CV score: 0.9962677576464595\n",
      "User 141, CV score: 0.9967159236232278\n",
      "User 142, CV score: 0.9976020612999265\n",
      "User 143, CV score: 0.995579318079761\n",
      "User 144, CV score: 0.9951934744823858\n",
      "User 145, CV score: 0.9974143298851675\n",
      "User 146, CV score: 0.9954957823197867\n",
      "User 147, CV score: 0.9934319416770822\n",
      "User 148, CV score: 0.9965384596595742\n",
      "User 149, CV score: 0.9958609466621792\n",
      "User 150, CV score: 0.9970597128678573\n"
     ]
    }
   ],
   "source": [
    "cv_scores_by_user = {}\n",
    "for user_id in logit_cv_150users.scores_:\n",
    "    cv_scores_by_user[user_id] = logit_cv_150users.scores_[user_id].mean()\n",
    "    print('User {}, CV score: {}'.format(user_id, cv_scores_by_user[user_id]))"
   ]
  },
  {
   "cell_type": "markdown",
   "metadata": {},
   "source": [
    "**Результаты кажутся впечатляющими, но возможно, мы забываем про дисбаланс классов, и высокую долю правильных ответов можно получить константным прогнозом. Посчитайте для каждого пользователя разницу между долей правильных ответов на кросс-валидации (только что посчитанную с помощью `LogisticRegressionCV`) и долей меток в *y_train_150*, отличных от ID \n",
    " этого пользователя (именно такую долю правильных ответов можно получить, если классификатор всегда \"говорит\", что это не пользователь с номером $i$ в задаче классификации $i$-vs-All).**"
   ]
  },
  {
   "cell_type": "code",
   "execution_count": 93,
   "metadata": {},
   "outputs": [
    {
     "name": "stdout",
     "output_type": "stream",
     "text": [
      "User 1, difference: 0.011437117070254743\n",
      "User 2, difference: 0.0005317191235514329\n",
      "User 3, difference: 0.0007402395963388431\n",
      "User 4, difference: 0.007047648682012686\n",
      "User 5, difference: 0.002085236075151209\n",
      "User 6, difference: 0.0001459867470580134\n",
      "User 7, difference: 0.0010842647983323461\n",
      "User 8, difference: 0.001834940156321796\n",
      "User 9, difference: 0.0008549813465866807\n",
      "User 10, difference: 0.0011051452169678067\n",
      "User 11, difference: 0.00033378997312094594\n",
      "User 12, difference: 0.001563848795973266\n",
      "User 13, difference: 7.303880161979581e-05\n",
      "User 14, difference: 0.00010414908079392493\n",
      "User 15, difference: 1.0404360414884017e-05\n",
      "User 16, difference: 0.0001252308807447866\n",
      "User 17, difference: 0.00043792678932208506\n",
      "User 18, difference: 0.00020867590548279136\n",
      "User 19, difference: -3.1343859428267784e-05\n",
      "User 20, difference: 0.0007509015763567106\n",
      "User 21, difference: 0.0028259229225080507\n",
      "User 22, difference: 0.0008028866034890392\n",
      "User 23, difference: 0.007287606821693382\n",
      "User 24, difference: 0.0006567561597520255\n",
      "User 25, difference: 0.0006569162560439157\n",
      "User 26, difference: 0.0005419674919722173\n",
      "User 27, difference: 0.0009382524059680097\n",
      "User 28, difference: 0.003565525544933501\n",
      "User 29, difference: 0.004973517683679152\n",
      "User 30, difference: 8.337290556748034e-05\n",
      "User 31, difference: 0.0002711475130222629\n",
      "User 32, difference: 0.00032312763440156544\n",
      "User 33, difference: 0.00021895633115565083\n",
      "User 34, difference: 0.00028152902094791266\n",
      "User 35, difference: 0.00034413642443709147\n",
      "User 36, difference: 0.001126124426626296\n",
      "User 37, difference: 0.0010534886292423717\n",
      "User 38, difference: 2.0811799210318505e-05\n",
      "User 39, difference: 8.331962012553262e-05\n",
      "User 40, difference: -4.169754772487266e-05\n",
      "User 41, difference: 0.0013036342614386465\n",
      "User 42, difference: 0.0011779606671663556\n",
      "User 43, difference: 3.120950799873068e-05\n",
      "User 44, difference: 3.119625438163798e-05\n",
      "User 45, difference: -7.298946172351606e-05\n",
      "User 46, difference: 0.00033344860007744614\n",
      "User 47, difference: 0.0002502088027215299\n",
      "User 48, difference: -8.33604512150421e-05\n",
      "User 49, difference: 4.177945956518325e-05\n",
      "User 50, difference: 0.00013554320619413307\n",
      "User 51, difference: 0.0017202648431008383\n",
      "User 52, difference: 0.0005525101202596971\n",
      "User 53, difference: 3.1089356089530895e-05\n",
      "User 54, difference: -9.372074150248988e-05\n",
      "User 55, difference: 0.0001981056789047697\n",
      "User 56, difference: 0.0005530575432439733\n",
      "User 57, difference: 0.0010426261555298577\n",
      "User 58, difference: 0.00046902659623060394\n",
      "User 59, difference: 0.00129280577226909\n",
      "User 60, difference: 0.0038466966695186455\n",
      "User 61, difference: 0.0006881412207994098\n",
      "User 62, difference: 0.00211652189002276\n",
      "User 63, difference: -1.034654555798209e-05\n",
      "User 64, difference: 0.0012613058687355183\n",
      "User 65, difference: 0.0015952199696904756\n",
      "User 66, difference: 0.0007090059101425572\n",
      "User 67, difference: 0.00030219917156104614\n",
      "User 68, difference: 0.00039611292145025345\n",
      "User 69, difference: 4.1749094798704256e-05\n",
      "User 70, difference: -2.0770089412813775e-05\n",
      "User 71, difference: 0.001115743246108969\n",
      "User 72, difference: 0.0010736964620754463\n",
      "User 73, difference: 0.00021893971111874855\n",
      "User 74, difference: 0.0003337733112388497\n",
      "User 75, difference: -4.180549798993294e-05\n",
      "User 76, difference: 0.0013448724994640227\n",
      "User 77, difference: 0.0003232448390646514\n",
      "User 78, difference: -5.221782922526508e-05\n",
      "User 79, difference: 0.0011157119946354488\n",
      "User 80, difference: 0.0015744544254819859\n",
      "User 81, difference: 0.00021906244349667592\n",
      "User 82, difference: 0.00013552833231555983\n",
      "User 83, difference: 0.000938155600421875\n",
      "User 84, difference: -3.1203256005030156e-05\n",
      "User 85, difference: 0.00012505665340456495\n",
      "User 86, difference: 4.157438285967707e-05\n",
      "User 87, difference: 0.0004483845796268149\n",
      "User 88, difference: 0.001303372229042199\n",
      "User 89, difference: 0.0006985573246008903\n",
      "User 90, difference: 0.00014584296478392655\n",
      "User 91, difference: 0.00020859410218843077\n",
      "User 92, difference: 0.0010218631396787803\n",
      "User 93, difference: 0.0035237992434282717\n",
      "User 94, difference: 0.000573376076114962\n",
      "User 95, difference: 0.0003857101655075912\n",
      "User 96, difference: 8.332191226922969e-05\n",
      "User 97, difference: 0.004243677688011704\n",
      "User 98, difference: 0.0025545427282610556\n",
      "User 99, difference: 5.1911474698740356e-05\n",
      "User 100, difference: 0.0014494065964644198\n",
      "User 101, difference: -3.127972814365165e-05\n",
      "User 102, difference: 0.00602609610793392\n",
      "User 103, difference: 0.014335531206132401\n",
      "User 104, difference: 0.0029084959045806436\n",
      "User 105, difference: 0.0009069557762614311\n",
      "User 106, difference: 0.0005421570802659481\n",
      "User 107, difference: 0.0022311646064435697\n",
      "User 108, difference: 0.00011477645714563778\n",
      "User 109, difference: 0.0013447894528748616\n",
      "User 110, difference: 0.00014592670272040031\n",
      "User 111, difference: 0.0007195290365714646\n",
      "User 112, difference: 0.00032320017925979716\n",
      "User 113, difference: 0.0007297344547387841\n",
      "User 114, difference: 7.294637105981217e-05\n",
      "User 115, difference: 0.000500361659518278\n",
      "User 116, difference: 0.00028147110101195416\n",
      "User 117, difference: 0.0008861226217646845\n",
      "User 118, difference: 0.0008863741750960719\n",
      "User 119, difference: 0.0002710157841919747\n",
      "User 120, difference: 0.00014591377403549988\n",
      "User 121, difference: 0.0006466268692497668\n",
      "User 122, difference: 0.001470182660668895\n",
      "User 123, difference: 0.00019799599303294002\n",
      "User 124, difference: 0.0005213589823784837\n",
      "User 125, difference: 0.005067099086079718\n",
      "User 126, difference: 2.077970535074858e-05\n",
      "User 127, difference: 0.001157358208625947\n",
      "User 128, difference: -3.1231976930556904e-05\n",
      "User 129, difference: 0.005286351783523768\n",
      "User 130, difference: 0.0021165152095795614\n",
      "User 131, difference: 0.0021163448506088534\n",
      "User 132, difference: 0.0011883475369117713\n",
      "User 133, difference: 0.0017305507769467265\n",
      "User 134, difference: 0.00012516043827059953\n",
      "User 135, difference: 0.00037542381277322345\n",
      "User 136, difference: 0.00038562256196306155\n",
      "User 137, difference: 6.268644278373259e-05\n",
      "User 138, difference: 0.004587251113324586\n",
      "User 139, difference: 0.002658575434664079\n",
      "User 140, difference: 0.0008343961626147145\n",
      "User 141, difference: 0.0007925347186997778\n",
      "User 142, difference: 0.001261627782050856\n",
      "User 143, difference: 0.00022936551858576681\n",
      "User 144, difference: 0.00036482768789503073\n",
      "User 145, difference: -2.0845742745301266e-05\n",
      "User 146, difference: 0.008059251296880565\n",
      "User 147, difference: 0.001011727524673156\n",
      "User 148, difference: 0.0002293044876997552\n",
      "User 149, difference: 0.0003963068323333818\n",
      "User 150, difference: 0.0020121176513590022\n"
     ]
    }
   ],
   "source": [
    "class_distr = np.bincount(y_train_150.astype('int'))\n",
    "acc_diff_vs_constant = {}\n",
    "\n",
    "for user_id in np.unique(y_train_150):\n",
    "    acc_const_pred = 1 - class_distr[user_id] / y_train_150.shape[0]\n",
    "    acc_diff_vs_constant[user_id] = cv_scores_by_user[user_id] - acc_const_pred\n",
    "    print('User {}, difference: {}'.format(user_id, acc_diff_vs_constant[user_id]))    "
   ]
  },
  {
   "cell_type": "code",
   "execution_count": 112,
   "metadata": {},
   "outputs": [
    {
     "data": {
      "text/plain": [
       "137"
      ]
     },
     "execution_count": 112,
     "metadata": {},
     "output_type": "execute_result"
    }
   ],
   "source": [
    "num_better_than_default = (np.array(list(acc_diff_vs_constant.values())) > 0).sum()\n",
    "# num_better_than_default = 121\n",
    "num_better_than_default"
   ]
  },
  {
   "cell_type": "markdown",
   "metadata": {},
   "source": [
    "**<font color='red'>Вопрос 7. </font> Посчитайте долю пользователей, для которых логистическая регрессия на кросс-валидации дает прогноз лучше константного. Округлите до 3 знаков после запятой.**"
   ]
  },
  {
   "cell_type": "code",
   "execution_count": 110,
   "metadata": {},
   "outputs": [
    {
     "data": {
      "text/plain": [
       "0.807"
      ]
     },
     "execution_count": 110,
     "metadata": {},
     "output_type": "execute_result"
    }
   ],
   "source": [
    "user_prop = round(num_better_than_default / 150, 3)\n",
    "user_prop"
   ]
  },
  {
   "cell_type": "code",
   "execution_count": 111,
   "metadata": {},
   "outputs": [],
   "source": [
    "with open('answer4_7.txt', 'w') as f:\n",
    "    f.write(str(user_prop))"
   ]
  },
  {
   "cell_type": "markdown",
   "metadata": {},
   "source": [
    "**Дальше будем строить кривые обучения для конкретного пользователя, допустим, для 128-го. Составьте новый бинарный вектор на основе *y_150users*, его значения будут 1 или 0 в зависимости от того, равен ли ID-шник пользователя 128.**"
   ]
  },
  {
   "cell_type": "code",
   "execution_count": 155,
   "metadata": {},
   "outputs": [],
   "source": [
    "y_binary_128 = (y_150users == 128).astype(int)"
   ]
  },
  {
   "cell_type": "code",
   "execution_count": 150,
   "metadata": {},
   "outputs": [],
   "source": [
    "from sklearn.model_selection import learning_curve\n",
    "\n",
    "def plot_learning_curve(val_train, val_test, train_sizes, \n",
    "                        xlabel='Training Set Size', ylabel='score'):\n",
    "    def plot_with_err(x, data, **kwargs):\n",
    "        mu, std = data.mean(1), data.std(1)\n",
    "        lines = plt.plot(x, mu, '-', **kwargs)\n",
    "        plt.fill_between(x, mu - std, mu + std, edgecolor='none',\n",
    "                         facecolor=lines[0].get_color(), alpha=0.2)\n",
    "    plot_with_err(train_sizes, val_train, label='train')\n",
    "    plot_with_err(train_sizes, val_test, label='valid')\n",
    "    plt.xlabel(xlabel); plt.ylabel(ylabel)\n",
    "    plt.legend(loc='lower right');"
   ]
  },
  {
   "cell_type": "markdown",
   "metadata": {},
   "source": [
    "**Посчитайте доли правильных ответов на кросс-валидации в задаче классификации \"user128-vs-All\" в зависимости от размера выборки. Не помешает посмотреть встроенную документацию для *learning_curve*.**"
   ]
  },
  {
   "cell_type": "code",
   "execution_count": 168,
   "metadata": {},
   "outputs": [
    {
     "name": "stdout",
     "output_type": "stream",
     "text": [
      "CPU times: user 5.55 s, sys: 249 ms, total: 5.8 s\n",
      "Wall time: 31.4 s\n"
     ]
    }
   ],
   "source": [
    "%%time\n",
    "train_sizes = np.linspace(0.25, 1, 20)\n",
    "estimator = svm_grid_searcher2.best_estimator_\n",
    "n_train, val_train, val_test = learning_curve(estimator, X_sparse_150users, y_binary_128, cv=skf, shuffle=True,\n",
    "                                              train_sizes=train_sizes, n_jobs=-1, random_state=17)"
   ]
  },
  {
   "cell_type": "code",
   "execution_count": 169,
   "metadata": {},
   "outputs": [
    {
     "data": {
      "image/png": "[encoded data removed]",
      "text/plain": [
       "<Figure size 432x288 with 1 Axes>"
      ]
     },
     "metadata": {
      "needs_background": "light"
     },
     "output_type": "display_data"
    }
   ],
   "source": [
    "plot_learning_curve(val_train, val_test, n_train, \n",
    "                    xlabel='train_size', ylabel='accuracy')"
   ]
  },
  {
   "cell_type": "markdown",
   "metadata": {},
   "source": [
    "**Сделайте выводы о том, помогут ли алгоритму новые размеченные данные при той же постановке задачи.**"
   ]
  },
  {
   "cell_type": "markdown",
   "metadata": {},
   "source": [
    "## Пути улучшения\n",
    "- конечно, можно проверить еще кучу алгоритмов, например, Xgboost, но в такой задаче очень маловероятно, что что-то справится лучше линейных методов\n",
    "- интересно проверить качество алгоритма на данных, где сессии выделялись не по количеству посещенных сайтов, а по времени, например, 5, 7, 10 и 15 минут. Отдельно стоит отметить данные нашего [соревнования](https://inclass.kaggle.com/c/catch-me-if-you-can-intruder-detection-through-webpage-session-tracking2) \n",
    "- опять же, если ресурсы позволяют, можно проверить, насколько хорошо можно решить задачу для 3000 пользователей\n",
    "\n",
    "\n",
    "На следующей неделе мы вспомним про линейные модели, обучаемые стохастическим градиентным спуском, и порадуемся тому, насколько быстрее они работают. Также сделаем первые (или не первые) посылки в [соревновании](https://inclass.kaggle.com/c/catch-me-if-you-can-intruder-detection-through-webpage-session-tracking2) Kaggle Inclass."
   ]
  }
 ],
 "metadata": {
  "anaconda-cloud": {},
  "kernelspec": {
   "display_name": "Python 3",
   "language": "python",
   "name": "python3"
  },
  "language_info": {
   "codemirror_mode": {
    "name": "ipython",
    "version": 3
   },
   "file_extension": ".py",
   "mimetype": "text/x-python",
   "name": "python",
   "nbconvert_exporter": "python",
   "pygments_lexer": "ipython3",
   "version": "3.7.1"
  }
 },
 "nbformat": 4,
 "nbformat_minor": 1
}
