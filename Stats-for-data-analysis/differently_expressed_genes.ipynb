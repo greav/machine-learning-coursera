{
 "cells": [
  {
   "cell_type": "markdown",
   "metadata": {},
   "source": [
    "# Дифференциально экспрессированные гены"
   ]
  },
  {
   "cell_type": "markdown",
   "metadata": {},
   "source": [
    "## Описание используемых данных\n",
    "Данные для этой задачи взяты из исследования, проведенного в Stanford School of Medicine. В исследовании была предпринята попытка выявить набор генов, которые позволили бы более точно диагностировать возникновение рака груди на самых ранних стадиях.\n",
    "\n",
    "В эксперименте принимали участие 24 человек, у которых не было рака груди (normal), 25 человек, у которых это заболевание было диагностировано на ранней стадии (early neoplasia), и 23 человека с сильно выраженными симптомами (cancer).\n",
    "\n",
    "Ученые провели секвенирование биологического материала испытуемых, чтобы понять, какие из этих генов наиболее активны в клетках больных людей.\n",
    "\n",
    "Секвенирование — это определение степени активности генов в анализируемом образце с помощью подсчёта количества соответствующей каждому гену РНК.\n",
    "\n",
    "В данных для этого задания вы найдете именно эту количественную меру активности каждого из 15748 генов у каждого из 72 человек, принимавших участие в эксперименте.\n",
    "\n",
    "Вам нужно будет определить те гены, активность которых у людей в разных стадиях заболевания отличается статистически значимо.\n",
    "\n",
    "Кроме того, вам нужно будет оценить не только статистическую, но и практическую значимость этих результатов, которая часто используется в подобных исследованиях.\n",
    "\n",
    "Диагноз человека содержится в столбце под названием \"Diagnosis\"."
   ]
  },
  {
   "cell_type": "markdown",
   "metadata": {},
   "source": [
    "## Практическая значимость изменения\n",
    "Цель исследований — найти гены, средняя экспрессия которых отличается не только статистически значимо, но и достаточно сильно. В экспрессионных исследованиях для этого часто используется метрика, которая называется fold change (кратность изменения). Определяется она следующим образом:\n",
    "\n",
    "$$\\begin{equation*}\n",
    "F_c(C, T) = \n",
    " \\begin{cases}\n",
    "   \\frac{T}{C}, &\\text{$T > C$}\\\\\n",
    "   \\frac{-C}{T}, &\\text{$T < C$}\n",
    " \\end{cases}\n",
    "\\end{equation*}$$\n",
    "\n",
    "где $C, T$ — средние значения экспрессии гена в control и treatment группах соответственно. По сути, fold change показывает, во сколько раз отличаются средние двух выборок."
   ]
  },
  {
   "cell_type": "markdown",
   "metadata": {},
   "source": [
    "## Инструкции к решению задачи\n",
    "Задание состоит из трёх частей. Если не сказано обратное, то уровень значимости нужно принять равным 0.05.  \n",
    "Данные находятся в файле **gene_high_throughput_sequencing.csv**"
   ]
  },
  {
   "cell_type": "markdown",
   "metadata": {},
   "source": [
    "### Часть 1: применение t-критерия Стьюдента\n",
    "В первой части вам нужно будет применить критерий Стьюдента для проверки гипотезы о равенстве средних в двух независимых выборках. Применить критерий для каждого гена нужно будет дважды:\n",
    "\n",
    "1. для групп normal (control) и early neoplasia (treatment)\n",
    "2. для групп early neoplasia (control) и cancer (treatment)\n",
    "\n",
    "В качестве ответа в этой части задания необходимо указать количество статистически значимых отличий, которые вы нашли с помощью t-критерия Стьюдента, то есть число генов, у которых p-value этого теста оказался меньше, чем уровень значимости."
   ]
  },
  {
   "cell_type": "code",
   "execution_count": 1,
   "metadata": {},
   "outputs": [],
   "source": [
    "import numpy as np\n",
    "import pandas as pd\n",
    "from scipy.stats import ttest_ind\n",
    "%matplotlib inline "
   ]
  },
  {
   "cell_type": "code",
   "execution_count": 2,
   "metadata": {},
   "outputs": [
    {
     "data": {
      "text/html": [
       "<div>\n",
       "<style scoped>\n",
       "    .dataframe tbody tr th:only-of-type {\n",
       "        vertical-align: middle;\n",
       "    }\n",
       "\n",
       "    .dataframe tbody tr th {\n",
       "        vertical-align: top;\n",
       "    }\n",
       "\n",
       "    .dataframe thead th {\n",
       "        text-align: right;\n",
       "    }\n",
       "</style>\n",
       "<table border=\"1\" class=\"dataframe\">\n",
       "  <thead>\n",
       "    <tr style=\"text-align: right;\">\n",
       "      <th></th>\n",
       "      <th>Patient_id</th>\n",
       "      <th>Diagnosis</th>\n",
       "      <th>LOC643837</th>\n",
       "      <th>LOC100130417</th>\n",
       "      <th>SAMD11</th>\n",
       "      <th>NOC2L</th>\n",
       "      <th>KLHL17</th>\n",
       "      <th>PLEKHN1</th>\n",
       "      <th>C1orf170</th>\n",
       "      <th>HES4</th>\n",
       "      <th>...</th>\n",
       "      <th>CLIC2</th>\n",
       "      <th>RPS4Y1</th>\n",
       "      <th>ZFY</th>\n",
       "      <th>PRKY</th>\n",
       "      <th>USP9Y</th>\n",
       "      <th>DDX3Y</th>\n",
       "      <th>CD24</th>\n",
       "      <th>CYorf15B</th>\n",
       "      <th>KDM5D</th>\n",
       "      <th>EIF1AY</th>\n",
       "    </tr>\n",
       "  </thead>\n",
       "  <tbody>\n",
       "    <tr>\n",
       "      <th>0</th>\n",
       "      <td>STT5425_Breast_001_normal</td>\n",
       "      <td>normal</td>\n",
       "      <td>1.257614</td>\n",
       "      <td>2.408148</td>\n",
       "      <td>13.368622</td>\n",
       "      <td>9.494779</td>\n",
       "      <td>20.880435</td>\n",
       "      <td>12.722017</td>\n",
       "      <td>9.494779</td>\n",
       "      <td>54.349694</td>\n",
       "      <td>...</td>\n",
       "      <td>4.761250</td>\n",
       "      <td>1.257614</td>\n",
       "      <td>1.257614</td>\n",
       "      <td>1.257614</td>\n",
       "      <td>1.257614</td>\n",
       "      <td>1.257614</td>\n",
       "      <td>23.268694</td>\n",
       "      <td>1.257614</td>\n",
       "      <td>1.257614</td>\n",
       "      <td>1.257614</td>\n",
       "    </tr>\n",
       "    <tr>\n",
       "      <th>1</th>\n",
       "      <td>STT5427_Breast_023_normal</td>\n",
       "      <td>normal</td>\n",
       "      <td>4.567931</td>\n",
       "      <td>16.602734</td>\n",
       "      <td>42.477752</td>\n",
       "      <td>25.562376</td>\n",
       "      <td>23.221137</td>\n",
       "      <td>11.622386</td>\n",
       "      <td>14.330573</td>\n",
       "      <td>72.445474</td>\n",
       "      <td>...</td>\n",
       "      <td>6.871902</td>\n",
       "      <td>1.815112</td>\n",
       "      <td>1.815112</td>\n",
       "      <td>1.815112</td>\n",
       "      <td>1.815112</td>\n",
       "      <td>1.815112</td>\n",
       "      <td>10.427023</td>\n",
       "      <td>1.815112</td>\n",
       "      <td>1.815112</td>\n",
       "      <td>1.815112</td>\n",
       "    </tr>\n",
       "    <tr>\n",
       "      <th>2</th>\n",
       "      <td>STT5430_Breast_002_normal</td>\n",
       "      <td>normal</td>\n",
       "      <td>2.077597</td>\n",
       "      <td>3.978294</td>\n",
       "      <td>12.863214</td>\n",
       "      <td>13.728915</td>\n",
       "      <td>14.543176</td>\n",
       "      <td>14.141907</td>\n",
       "      <td>6.232790</td>\n",
       "      <td>57.011005</td>\n",
       "      <td>...</td>\n",
       "      <td>7.096343</td>\n",
       "      <td>2.077597</td>\n",
       "      <td>2.077597</td>\n",
       "      <td>2.077597</td>\n",
       "      <td>2.077597</td>\n",
       "      <td>2.077597</td>\n",
       "      <td>22.344226</td>\n",
       "      <td>2.077597</td>\n",
       "      <td>2.077597</td>\n",
       "      <td>2.077597</td>\n",
       "    </tr>\n",
       "    <tr>\n",
       "      <th>3</th>\n",
       "      <td>STT5439_Breast_003_normal</td>\n",
       "      <td>normal</td>\n",
       "      <td>2.066576</td>\n",
       "      <td>8.520713</td>\n",
       "      <td>14.466035</td>\n",
       "      <td>7.823932</td>\n",
       "      <td>8.520713</td>\n",
       "      <td>2.066576</td>\n",
       "      <td>10.870009</td>\n",
       "      <td>53.292034</td>\n",
       "      <td>...</td>\n",
       "      <td>5.200770</td>\n",
       "      <td>2.066576</td>\n",
       "      <td>2.066576</td>\n",
       "      <td>2.066576</td>\n",
       "      <td>2.066576</td>\n",
       "      <td>2.066576</td>\n",
       "      <td>49.295538</td>\n",
       "      <td>2.066576</td>\n",
       "      <td>2.066576</td>\n",
       "      <td>2.066576</td>\n",
       "    </tr>\n",
       "    <tr>\n",
       "      <th>4</th>\n",
       "      <td>STT5441_Breast_004_normal</td>\n",
       "      <td>normal</td>\n",
       "      <td>2.613616</td>\n",
       "      <td>3.434965</td>\n",
       "      <td>12.682222</td>\n",
       "      <td>10.543189</td>\n",
       "      <td>26.688686</td>\n",
       "      <td>12.484822</td>\n",
       "      <td>1.364917</td>\n",
       "      <td>67.140393</td>\n",
       "      <td>...</td>\n",
       "      <td>11.227770</td>\n",
       "      <td>1.364917</td>\n",
       "      <td>1.364917</td>\n",
       "      <td>1.364917</td>\n",
       "      <td>1.364917</td>\n",
       "      <td>1.364917</td>\n",
       "      <td>23.627911</td>\n",
       "      <td>1.364917</td>\n",
       "      <td>1.364917</td>\n",
       "      <td>1.364917</td>\n",
       "    </tr>\n",
       "  </tbody>\n",
       "</table>\n",
       "<p>5 rows × 15750 columns</p>\n",
       "</div>"
      ],
      "text/plain": [
       "                  Patient_id Diagnosis  LOC643837  LOC100130417     SAMD11  \\\n",
       "0  STT5425_Breast_001_normal    normal   1.257614      2.408148  13.368622   \n",
       "1  STT5427_Breast_023_normal    normal   4.567931     16.602734  42.477752   \n",
       "2  STT5430_Breast_002_normal    normal   2.077597      3.978294  12.863214   \n",
       "3  STT5439_Breast_003_normal    normal   2.066576      8.520713  14.466035   \n",
       "4  STT5441_Breast_004_normal    normal   2.613616      3.434965  12.682222   \n",
       "\n",
       "       NOC2L     KLHL17    PLEKHN1   C1orf170       HES4    ...         CLIC2  \\\n",
       "0   9.494779  20.880435  12.722017   9.494779  54.349694    ...      4.761250   \n",
       "1  25.562376  23.221137  11.622386  14.330573  72.445474    ...      6.871902   \n",
       "2  13.728915  14.543176  14.141907   6.232790  57.011005    ...      7.096343   \n",
       "3   7.823932   8.520713   2.066576  10.870009  53.292034    ...      5.200770   \n",
       "4  10.543189  26.688686  12.484822   1.364917  67.140393    ...     11.227770   \n",
       "\n",
       "     RPS4Y1       ZFY      PRKY     USP9Y     DDX3Y       CD24  CYorf15B  \\\n",
       "0  1.257614  1.257614  1.257614  1.257614  1.257614  23.268694  1.257614   \n",
       "1  1.815112  1.815112  1.815112  1.815112  1.815112  10.427023  1.815112   \n",
       "2  2.077597  2.077597  2.077597  2.077597  2.077597  22.344226  2.077597   \n",
       "3  2.066576  2.066576  2.066576  2.066576  2.066576  49.295538  2.066576   \n",
       "4  1.364917  1.364917  1.364917  1.364917  1.364917  23.627911  1.364917   \n",
       "\n",
       "      KDM5D    EIF1AY  \n",
       "0  1.257614  1.257614  \n",
       "1  1.815112  1.815112  \n",
       "2  2.077597  2.077597  \n",
       "3  2.066576  2.066576  \n",
       "4  1.364917  1.364917  \n",
       "\n",
       "[5 rows x 15750 columns]"
      ]
     },
     "execution_count": 2,
     "metadata": {},
     "output_type": "execute_result"
    }
   ],
   "source": [
    "data = pd.read_csv('datasets/gene_high_throughput_sequencing.csv')\n",
    "data.head()"
   ]
  },
  {
   "cell_type": "code",
   "execution_count": 3,
   "metadata": {},
   "outputs": [
    {
     "data": {
      "text/plain": [
       "(72, 15750)"
      ]
     },
     "execution_count": 3,
     "metadata": {},
     "output_type": "execute_result"
    }
   ],
   "source": [
    "data.shape"
   ]
  },
  {
   "cell_type": "code",
   "execution_count": 4,
   "metadata": {},
   "outputs": [
    {
     "data": {
      "text/plain": [
       "early neoplasia    25\n",
       "normal             24\n",
       "cancer             23\n",
       "Name: Diagnosis, dtype: int64"
      ]
     },
     "execution_count": 4,
     "metadata": {},
     "output_type": "execute_result"
    }
   ],
   "source": [
    "data.Diagnosis.value_counts()"
   ]
  },
  {
   "cell_type": "code",
   "execution_count": 5,
   "metadata": {},
   "outputs": [],
   "source": [
    "normal = data[data.Diagnosis == 'normal'].iloc[:, 2:]\n",
    "early_neoplasia = data[data.Diagnosis == 'early neoplasia'].iloc[:, 2:]\n",
    "cancer = data[data.Diagnosis == 'cancer'].iloc[:, 2:]"
   ]
  },
  {
   "cell_type": "code",
   "execution_count": 6,
   "metadata": {},
   "outputs": [
    {
     "name": "stdout",
     "output_type": "stream",
     "text": [
      "(24, 15748) (25, 15748) (23, 15748)\n"
     ]
    }
   ],
   "source": [
    "print(normal.shape, early_neoplasia.shape, cancer.shape)"
   ]
  },
  {
   "cell_type": "code",
   "execution_count": 7,
   "metadata": {},
   "outputs": [],
   "source": [
    "ttest1 = [ttest_ind(normal[column], early_neoplasia[column], equal_var=False).pvalue for column in data.columns[2:]]"
   ]
  },
  {
   "cell_type": "code",
   "execution_count": 8,
   "metadata": {},
   "outputs": [
    {
     "data": {
      "text/plain": [
       "1575"
      ]
     },
     "execution_count": 8,
     "metadata": {},
     "output_type": "execute_result"
    }
   ],
   "source": [
    "n_ttest1 = len([p_value for p_value in ttest1 if p_value < 0.05])\n",
    "n_ttest1"
   ]
  },
  {
   "cell_type": "code",
   "execution_count": 9,
   "metadata": {},
   "outputs": [],
   "source": [
    "ttest2 = [ttest_ind(early_neoplasia[column], cancer[column], equal_var=False).pvalue for column in data.columns[2:]]"
   ]
  },
  {
   "cell_type": "code",
   "execution_count": 10,
   "metadata": {},
   "outputs": [
    {
     "data": {
      "text/plain": [
       "3490"
      ]
     },
     "execution_count": 10,
     "metadata": {},
     "output_type": "execute_result"
    }
   ],
   "source": [
    "n_ttest2 = len([p_value for p_value in ttest2 if p_value < 0.05])\n",
    "n_ttest2"
   ]
  },
  {
   "cell_type": "code",
   "execution_count": 11,
   "metadata": {},
   "outputs": [],
   "source": [
    "with open('task1_1.txt', 'w') as f1_1, open('task1_2.txt', 'w') as f1_2:\n",
    "    f1_1.write(str(n_ttest1))\n",
    "    f1_2.write(str(n_ttest2))"
   ]
  },
  {
   "cell_type": "markdown",
   "metadata": {},
   "source": [
    "### Часть 2: поправка методом Холма\n",
    "Для этой части задания вам понадобится модуль multitest из statsmodels.\n",
    "\n",
    "В этой части задания нужно будет применить поправку Холма для получившихся двух наборов достигаемых уровней значимости из предыдущей части. Обратите внимание, что поскольку вы будете делать поправку для каждого из двух наборов p-value отдельно, то проблема, связанная с множественной проверкой останется.\n",
    "\n",
    "Для того, чтобы ее устранить, достаточно воспользоваться поправкой Бонферрони, то есть использовать уровень значимости 0.05 / 2 вместо 0.05 для дальнейшего уточнения значений p-value c помощью метода Холма.\n",
    "\n",
    "В качестве ответа к этому заданию требуется ввести количество значимых отличий в каждой группе после того, как произведена коррекция Холма-Бонферрони. Причем это число нужно ввести с учетом практической значимости: посчитайте для каждого значимого изменения fold change и выпишите в ответ число таких значимых изменений, абсолютное значение fold change которых больше, чем 1.5\n",
    "\n",
    "Обратите внимание, что\n",
    "\n",
    "* применять поправку на множественную проверку нужно ко всем значениям достигаемых уровней значимости, а не только для тех, которые меньше значения уровня доверия.\n",
    "* при использовании поправки на уровне значимости 0.025 меняются значения достигаемого уровня значимости, но не меняется значение уровня доверия (то есть для отбора значимых изменений скорректированные значения уровня значимости нужно сравнивать с порогом 0.025, а не 0.05)!"
   ]
  },
  {
   "cell_type": "code",
   "execution_count": 14,
   "metadata": {},
   "outputs": [],
   "source": [
    "import statsmodels.stats.multitest as smm"
   ]
  },
  {
   "cell_type": "code",
   "execution_count": 56,
   "metadata": {},
   "outputs": [],
   "source": [
    "def check_fold_change(C, T):\n",
    "    fold_changes = [t/c if t > c else -c/t for c, t in zip(C, T)]\n",
    "    return len([fc for fc in fold_changes if abs(fc) > 1.5])\n",
    "    "
   ]
  },
  {
   "cell_type": "code",
   "execution_count": 57,
   "metadata": {},
   "outputs": [],
   "source": [
    "holm_multitests1 = smm.multipletests(ttest1, alpha=0.05/2, method='holm')\n",
    "rejected1 = holm_multitests1[0]"
   ]
  },
  {
   "cell_type": "code",
   "execution_count": 58,
   "metadata": {},
   "outputs": [
    {
     "data": {
      "text/plain": [
       "PCSK4     14.983424\n",
       "EEF1A2    19.373612\n",
       "dtype: float64"
      ]
     },
     "execution_count": 58,
     "metadata": {},
     "output_type": "execute_result"
    }
   ],
   "source": [
    "controls1 = normal.iloc[:, rejected1].mean(axis=0)\n",
    "controls1"
   ]
  },
  {
   "cell_type": "code",
   "execution_count": 59,
   "metadata": {},
   "outputs": [
    {
     "data": {
      "text/plain": [
       "PCSK4     22.621756\n",
       "EEF1A2    38.260320\n",
       "dtype: float64"
      ]
     },
     "execution_count": 59,
     "metadata": {},
     "output_type": "execute_result"
    }
   ],
   "source": [
    "treatments1 = early_neoplasia.iloc[:, rejected1].mean(axis=0)\n",
    "treatments1"
   ]
  },
  {
   "cell_type": "code",
   "execution_count": 60,
   "metadata": {},
   "outputs": [
    {
     "data": {
      "text/plain": [
       "2"
      ]
     },
     "execution_count": 60,
     "metadata": {},
     "output_type": "execute_result"
    }
   ],
   "source": [
    "ans2_1 = check_fold_change(controls1, treatments1)\n",
    "ans2_1"
   ]
  },
  {
   "cell_type": "code",
   "execution_count": 61,
   "metadata": {},
   "outputs": [],
   "source": [
    "holm_multitests2 = smm.multipletests(ttest2, alpha=0.05/2, method='holm')\n",
    "rejected2 = holm_multitests2[0]"
   ]
  },
  {
   "cell_type": "code",
   "execution_count": 62,
   "metadata": {
    "scrolled": true
   },
   "outputs": [
    {
     "data": {
      "text/plain": [
       "GABRD             7.224275\n",
       "EXTL1            23.234551\n",
       "CD164L2          23.734858\n",
       "NES              93.810978\n",
       "FMO2             11.619290\n",
       "GLT25D2          13.853744\n",
       "ITIH5            23.550369\n",
       "HPSE2             9.975886\n",
       "SYT8             79.807508\n",
       "TNNI2            58.744208\n",
       "ALX4              7.432551\n",
       "PDGFD            20.010590\n",
       "CRYAB            36.731940\n",
       "TRIM29           75.542892\n",
       "WIF1             12.856368\n",
       "TESC             38.740644\n",
       "KLF5             12.814674\n",
       "SPRY2            15.142730\n",
       "NDRG2           119.553639\n",
       "CMTM5             6.586257\n",
       "SSTR1             5.248819\n",
       "FBLN5            20.530677\n",
       "LOC100507043      3.878519\n",
       "SOX8             17.196034\n",
       "HS3ST6            9.254571\n",
       "DPEP1             6.171166\n",
       "STAC2            72.407037\n",
       "CD300LG          10.359332\n",
       "CACNA1G          17.936385\n",
       "LAMA3            19.044810\n",
       "                   ...    \n",
       "D4S234E          10.328128\n",
       "ENPP6             3.966548\n",
       "SEMA5A           17.431515\n",
       "ALDH7A1          13.544707\n",
       "SLC27A6           5.751107\n",
       "PSD2              5.155417\n",
       "NRG2             21.336689\n",
       "IL17B            35.579934\n",
       "LOC728264        49.092544\n",
       "KCNMB1           18.793297\n",
       "COL23A1          16.560424\n",
       "BTNL9            19.100846\n",
       "CAPN11           26.676480\n",
       "HOXA4             5.653098\n",
       "INHBA            10.383566\n",
       "TMEM130          20.966778\n",
       "ARPC1B           33.550317\n",
       "SLC26A5           4.890744\n",
       "PTPRZ1            7.051302\n",
       "AASS             10.822961\n",
       "SCARA5           16.199080\n",
       "SFRP1            59.315944\n",
       "DERL1            15.519242\n",
       "LY6K             24.020969\n",
       "GPR144            9.491905\n",
       "LAMC3            40.668287\n",
       "SLC7A3            9.553186\n",
       "CAPN6            10.070903\n",
       "GPC3             10.280356\n",
       "PDZD4            31.808629\n",
       "Length: 79, dtype: float64"
      ]
     },
     "execution_count": 62,
     "metadata": {},
     "output_type": "execute_result"
    }
   ],
   "source": [
    "controls2 = early_neoplasia.iloc[:, rejected2].mean(axis=0)\n",
    "controls2"
   ]
  },
  {
   "cell_type": "code",
   "execution_count": 63,
   "metadata": {
    "scrolled": true
   },
   "outputs": [
    {
     "data": {
      "text/plain": [
       "GABRD           13.320553\n",
       "EXTL1            9.749268\n",
       "CD164L2         11.882991\n",
       "NES             55.397100\n",
       "FMO2             6.470836\n",
       "GLT25D2          6.536257\n",
       "ITIH5           14.447875\n",
       "HPSE2            4.073066\n",
       "SYT8            26.308148\n",
       "TNNI2           21.026743\n",
       "ALX4             3.496135\n",
       "PDGFD           10.326469\n",
       "CRYAB           21.937459\n",
       "TRIM29          37.677675\n",
       "WIF1             2.945439\n",
       "TESC            16.673402\n",
       "KLF5             7.334227\n",
       "SPRY2            7.402410\n",
       "NDRG2           72.565646\n",
       "CMTM5            2.406401\n",
       "SSTR1            2.452194\n",
       "FBLN5           13.255595\n",
       "LOC100507043     1.505345\n",
       "SOX8             9.273945\n",
       "HS3ST6           3.185174\n",
       "DPEP1           14.124519\n",
       "STAC2           27.058619\n",
       "CD300LG          4.689680\n",
       "CACNA1G          8.957433\n",
       "LAMA3            8.843209\n",
       "                  ...    \n",
       "D4S234E          5.721148\n",
       "ENPP6            1.826406\n",
       "SEMA5A           8.766100\n",
       "ALDH7A1          8.205916\n",
       "SLC27A6          2.085935\n",
       "PSD2             2.165149\n",
       "NRG2             7.569859\n",
       "IL17B           12.746724\n",
       "LOC728264       26.726754\n",
       "KCNMB1           9.231615\n",
       "COL23A1          8.233298\n",
       "BTNL9           10.837474\n",
       "CAPN11          10.408006\n",
       "HOXA4            3.454566\n",
       "INHBA           24.797881\n",
       "TMEM130         10.506531\n",
       "ARPC1B          45.016940\n",
       "SLC26A5          2.255652\n",
       "PTPRZ1           2.782854\n",
       "AASS             6.772105\n",
       "SCARA5           7.502919\n",
       "SFRP1           23.485595\n",
       "DERL1           20.252117\n",
       "LY6K            11.554626\n",
       "GPR144           2.203277\n",
       "LAMC3           14.175370\n",
       "SLC7A3           2.962692\n",
       "CAPN6            3.935252\n",
       "GPC3             5.496242\n",
       "PDZD4           18.088026\n",
       "Length: 79, dtype: float64"
      ]
     },
     "execution_count": 63,
     "metadata": {},
     "output_type": "execute_result"
    }
   ],
   "source": [
    "treatments2 = cancer.iloc[:, rejected2].mean(axis=0)\n",
    "treatments2"
   ]
  },
  {
   "cell_type": "code",
   "execution_count": 64,
   "metadata": {},
   "outputs": [
    {
     "data": {
      "text/plain": [
       "77"
      ]
     },
     "execution_count": 64,
     "metadata": {},
     "output_type": "execute_result"
    }
   ],
   "source": [
    "ans2_2 = check_fold_change(controls2, treatments2)\n",
    "ans2_2"
   ]
  },
  {
   "cell_type": "code",
   "execution_count": 66,
   "metadata": {},
   "outputs": [],
   "source": [
    "with open('task2_1.txt', 'w') as f2_1, open('task2_2.txt', 'w') as f2_2:\n",
    "    f2_1.write(str(ans2_1))\n",
    "    f2_2.write(str(ans2_2))"
   ]
  },
  {
   "cell_type": "markdown",
   "metadata": {},
   "source": [
    "### Часть 3: поправка методом Бенджамини-Хохберга\n",
    "Данная часть задания аналогична второй части за исключением того, что нужно будет использовать метод Бенджамини-Хохберга.\n",
    "\n",
    "Обратите внимание, что методы коррекции, которые контролируют FDR, допускает больше ошибок первого рода и имеют большую мощность, чем методы, контролирующие FWER. Большая мощность означает, что эти методы будут совершать меньше ошибок второго рода (то есть будут лучше улавливать отклонения от $H_0$, когда они есть, и будут чаще отклонять $H_0$ когда отличий нет).\n",
    "\n",
    "В качестве ответа к этому заданию требуется ввести количество значимых отличий в каждой группе после того, как произведена коррекция Бенджамини-Хохберга, причем так же, как и во второй части, считать только такие отличия, у которых abs(fold change) > 1.5."
   ]
  },
  {
   "cell_type": "code",
   "execution_count": 78,
   "metadata": {},
   "outputs": [],
   "source": [
    "multitests_bh1 = smm.multipletests(ttest1, alpha=0.05/2, method='fdr_bh')\n",
    "rejected_bh1 = multitests_bh1[0]"
   ]
  },
  {
   "cell_type": "code",
   "execution_count": 79,
   "metadata": {},
   "outputs": [
    {
     "data": {
      "text/plain": [
       "TMEM63C    18.037315\n",
       "PCSK4      14.983424\n",
       "CACNG8      3.333050\n",
       "EEF1A2     19.373612\n",
       "dtype: float64"
      ]
     },
     "execution_count": 79,
     "metadata": {},
     "output_type": "execute_result"
    }
   ],
   "source": [
    "controls_bh1 = normal.iloc[:, rejected_bh1].mean(axis=0)\n",
    "controls_bh1"
   ]
  },
  {
   "cell_type": "code",
   "execution_count": 80,
   "metadata": {},
   "outputs": [
    {
     "data": {
      "text/plain": [
       "TMEM63C    30.010954\n",
       "PCSK4      22.621756\n",
       "CACNG8      5.849340\n",
       "EEF1A2     38.260320\n",
       "dtype: float64"
      ]
     },
     "execution_count": 80,
     "metadata": {},
     "output_type": "execute_result"
    }
   ],
   "source": [
    "treatments_bh1 = early_neoplasia.iloc[:, rejected_bh1].mean(axis=0)\n",
    "treatments_bh1"
   ]
  },
  {
   "cell_type": "code",
   "execution_count": 81,
   "metadata": {},
   "outputs": [
    {
     "data": {
      "text/plain": [
       "4"
      ]
     },
     "execution_count": 81,
     "metadata": {},
     "output_type": "execute_result"
    }
   ],
   "source": [
    "ans3_1 = check_fold_change(controls_bh1, treatments_bh1)\n",
    "ans3_1"
   ]
  },
  {
   "cell_type": "code",
   "execution_count": 82,
   "metadata": {},
   "outputs": [],
   "source": [
    "multitests_bh2 = smm.multipletests(ttest2, alpha=0.05/2, method='fdr_bh')\n",
    "rejected_bh2 = multitests_bh2[0]"
   ]
  },
  {
   "cell_type": "code",
   "execution_count": 83,
   "metadata": {
    "scrolled": true
   },
   "outputs": [
    {
     "data": {
      "text/plain": [
       "ISG15          37.296084\n",
       "FAM132A        19.057449\n",
       "GNB1           28.791099\n",
       "GABRD           7.224275\n",
       "PLCH2          26.903924\n",
       "C1orf93        11.044611\n",
       "AJAP1           4.861378\n",
       "CA6             2.985346\n",
       "SLC2A5          4.741555\n",
       "MASP2           5.007323\n",
       "FBXO6          10.459531\n",
       "LRRC38          5.881019\n",
       "EFHD2          37.960590\n",
       "MFAP2           2.555026\n",
       "ALPL           27.070752\n",
       "WNT4           36.882703\n",
       "EXTL1          23.234551\n",
       "SH3BGRL3      106.965250\n",
       "AIM1L           3.627885\n",
       "TRNP1           8.951046\n",
       "CD164L2        23.734858\n",
       "LAPTM5         66.993366\n",
       "CLSPN           2.820314\n",
       "RSPO1           7.570254\n",
       "CLDN19          9.369520\n",
       "CDC20           7.636862\n",
       "KIF2C           4.057512\n",
       "FAM159A         6.634695\n",
       "ECHDC2         18.125786\n",
       "WLS            15.903770\n",
       "                 ...    \n",
       "WAS             9.433534\n",
       "SLC7A3          9.553186\n",
       "ITGB1BP2        2.216399\n",
       "CXCR3           7.684186\n",
       "RGAG4          11.751430\n",
       "CITED1         22.352744\n",
       "ITM2A          16.309607\n",
       "ZNF711          9.302049\n",
       "GPRASP1         9.067673\n",
       "GPRASP2         8.755433\n",
       "TCEAL5          3.716356\n",
       "TCEAL7          6.226012\n",
       "PLP1            5.930980\n",
       "RNF128          5.628979\n",
       "COL4A6          8.557278\n",
       "COL4A5         17.506782\n",
       "CHRDL1         10.559254\n",
       "CAPN6          10.070903\n",
       "DCX             9.039158\n",
       "KLHL13          9.270167\n",
       "APLN            7.369802\n",
       "ELF4            4.838896\n",
       "RAB33A          1.611375\n",
       "HS6ST2          5.815704\n",
       "GPC3           10.280356\n",
       "NCRNA00086      3.670774\n",
       "BGN           123.723244\n",
       "DUSP9           8.324675\n",
       "PDZD4          31.808629\n",
       "AVPR2          15.050671\n",
       "Length: 832, dtype: float64"
      ]
     },
     "execution_count": 83,
     "metadata": {},
     "output_type": "execute_result"
    }
   ],
   "source": [
    "controls_bh2 = early_neoplasia.iloc[:, rejected_bh2].mean(axis=0)\n",
    "controls_bh2"
   ]
  },
  {
   "cell_type": "code",
   "execution_count": 84,
   "metadata": {
    "scrolled": true
   },
   "outputs": [
    {
     "data": {
      "text/plain": [
       "ISG15          91.706112\n",
       "FAM132A        14.330161\n",
       "GNB1           33.628745\n",
       "GABRD          13.320553\n",
       "PLCH2          19.128238\n",
       "C1orf93        14.955557\n",
       "AJAP1           3.100736\n",
       "CA6             1.718914\n",
       "SLC2A5          6.932564\n",
       "MASP2           2.861000\n",
       "FBXO6          14.956427\n",
       "LRRC38          2.216106\n",
       "EFHD2          45.443819\n",
       "MFAP2           4.863978\n",
       "ALPL           18.442687\n",
       "WNT4           16.869454\n",
       "EXTL1           9.749268\n",
       "SH3BGRL3      140.474137\n",
       "AIM1L           7.177703\n",
       "TRNP1           5.507176\n",
       "CD164L2        11.882991\n",
       "LAPTM5         99.825864\n",
       "CLSPN           5.881522\n",
       "RSPO1           4.483246\n",
       "CLDN19          4.408661\n",
       "CDC20          15.631632\n",
       "KIF2C           6.917925\n",
       "FAM159A        11.041758\n",
       "ECHDC2         12.948872\n",
       "WLS            10.518910\n",
       "                 ...    \n",
       "WAS            13.404642\n",
       "SLC7A3          2.962692\n",
       "ITGB1BP2        3.374989\n",
       "CXCR3          14.636917\n",
       "RGAG4           8.904966\n",
       "CITED1         11.954509\n",
       "ITM2A           9.147393\n",
       "ZNF711          5.164723\n",
       "GPRASP1         6.158201\n",
       "GPRASP2         6.034551\n",
       "TCEAL5          2.046591\n",
       "TCEAL7          3.497192\n",
       "PLP1            3.027814\n",
       "RNF128          3.145715\n",
       "COL4A6          4.249681\n",
       "COL4A5         10.675223\n",
       "CHRDL1          6.349947\n",
       "CAPN6           3.935252\n",
       "DCX             3.053329\n",
       "KLHL13          4.032234\n",
       "APLN            4.914577\n",
       "ELF4            7.102268\n",
       "RAB33A          2.780161\n",
       "HS6ST2          2.582647\n",
       "GPC3            5.496242\n",
       "NCRNA00086      2.271824\n",
       "BGN           218.181253\n",
       "DUSP9           3.830095\n",
       "PDZD4          18.088026\n",
       "AVPR2          10.469400\n",
       "Length: 832, dtype: float64"
      ]
     },
     "execution_count": 84,
     "metadata": {},
     "output_type": "execute_result"
    }
   ],
   "source": [
    "treatments_bh2 = cancer.iloc[:, rejected_bh2].mean(axis=0)\n",
    "treatments_bh2"
   ]
  },
  {
   "cell_type": "code",
   "execution_count": 85,
   "metadata": {},
   "outputs": [
    {
     "data": {
      "text/plain": [
       "524"
      ]
     },
     "execution_count": 85,
     "metadata": {},
     "output_type": "execute_result"
    }
   ],
   "source": [
    "ans3_2 = check_fold_change(controls_bh2, treatments_bh2)\n",
    "ans3_2"
   ]
  },
  {
   "cell_type": "code",
   "execution_count": 86,
   "metadata": {},
   "outputs": [],
   "source": [
    "with open('task3_1.txt', 'w') as f3_1, open('task3_2.txt', 'w') as f3_2:\n",
    "    f3_1.write(str(ans3_1))\n",
    "    f3_2.write(str(ans3_2))"
   ]
  }
 ],
 "metadata": {
  "kernelspec": {
   "display_name": "Python 3",
   "language": "python",
   "name": "python3"
  },
  "language_info": {
   "codemirror_mode": {
    "name": "ipython",
    "version": 3
   },
   "file_extension": ".py",
   "mimetype": "text/x-python",
   "name": "python",
   "nbconvert_exporter": "python",
   "pygments_lexer": "ipython3",
   "version": "3.7.0"
  }
 },
 "nbformat": 4,
 "nbformat_minor": 2
}
