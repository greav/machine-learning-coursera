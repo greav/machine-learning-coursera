{
 "cells": [
  {
   "cell_type": "markdown",
   "metadata": {},
   "source": [
    "# Тематическая модель [Постнауки](http://postnauka.ru)\n",
    "## Peer Review (optional)"
   ]
  },
  {
   "cell_type": "markdown",
   "metadata": {},
   "source": [
    "В этом задании мы применим аппарат тематического моделирования к коллекции текстовых записей видеолекций, скачанных с сайта Постнаука. Мы будем визуализировать модель и создавать прототип тематического навигатора по коллекции. В коллекции 1728 документов, размер словаря - 38467 слов. Слова лемматизированы, то есть приведены к начальной форме, с помощью программы [mystem](https://tech.yandex.ru/mystem/), коллекция сохранена в [формате vowpal wabbit](http://docs.bigartm.org/en/latest/formats.html). В каждой строке до первой черты записана информация о документе (ссылка на страницу с лекцией), после первой черты следует описание документа. Используются две модальности - текстовая (\"text\") и модальность авторов (\"author\"); у каждого документа один автор."
   ]
  },
  {
   "cell_type": "markdown",
   "metadata": {},
   "source": [
    "Для выполнения задания понадобится библиотека [BigARTM](http://docs.bigartm.org). В демонстрации показан пример использования библиотеки версии 0.7.4, на сайте предлагается скачивать версию 0.8.0. В новой версии изменены принципы работы со словарями: они вынесены в отдельный класс (пример в [Release Notes](http://docs.bigartm.org/en/stable/release_notes/python.html)). Строить модель и извлекать ее параметры нужно так же, как показано в демонстрации. Вы можете использовать [предыдущий релиз](http://bigartm.readthedocs.io/en/v0.7.6/download.html) или [новый релиз](http://docs.bigartm.org/en/latest/download.html) на ваше усмотрение.\n",
    "\n",
    "Спецификации всех функций вы можете смотреть на странице [Python API](http://bigartm.readthedocs.io/en/stable/python_interface.html)."
   ]
  },
  {
   "cell_type": "code",
   "execution_count": 1,
   "metadata": {},
   "outputs": [
    {
     "name": "stderr",
     "output_type": "stream",
     "text": [
      "/usr/lib/python3.6/importlib/_bootstrap.py:219: RuntimeWarning: numpy.dtype size changed, may indicate binary incompatibility. Expected 96, got 88\n",
      "  return f(*args, **kwds)\n",
      "/usr/lib/python3.6/importlib/_bootstrap.py:219: RuntimeWarning: numpy.dtype size changed, may indicate binary incompatibility. Expected 96, got 88\n",
      "  return f(*args, **kwds)\n"
     ]
    }
   ],
   "source": [
    "import artm"
   ]
  },
  {
   "cell_type": "code",
   "execution_count": 2,
   "metadata": {},
   "outputs": [],
   "source": [
    "from matplotlib import pyplot as plt\n",
    "import seaborn\n",
    "%matplotlib inline\n",
    "seaborn.set_style(\"whitegrid\", {'axes.grid' : False})"
   ]
  },
  {
   "cell_type": "code",
   "execution_count": 3,
   "metadata": {},
   "outputs": [],
   "source": [
    "import numpy as np\n",
    "import pandas as pd"
   ]
  },
  {
   "cell_type": "markdown",
   "metadata": {},
   "source": [
    "##### Считывание данных"
   ]
  },
  {
   "cell_type": "markdown",
   "metadata": {},
   "source": [
    "Создайте объект класса artm.BatchVectorizer, который будет ссылаться на директорию с пакетами данных (батчами). Чтобы библиотека могла преобразовать текстовый файл в батчи, создайте пустую директорию и укажите ее название в параметре target_folder. Размер батча для небольших коллекций (как наша) не важен, вы можете указать любой."
   ]
  },
  {
   "cell_type": "code",
   "execution_count": 4,
   "metadata": {},
   "outputs": [],
   "source": [
    "batch_vectorizer = artm.BatchVectorizer(data_path='datasets/lectures.txt', data_format='vowpal_wabbit',\n",
    "                                        target_folder='datasets/lectures_batches')"
   ]
  },
  {
   "cell_type": "markdown",
   "metadata": {},
   "source": [
    "##### Инициализация модели"
   ]
  },
  {
   "cell_type": "markdown",
   "metadata": {},
   "source": [
    "Создайте объект класса artm.Model с 30 темами, именами тем, указанными ниже и единичными весами обеих модальностей. Количество тем выбрано не очень большим, чтобы вам было удобнее работать с темами. На этой коллекции можно строить и большее число тем, тогда они будут более узко специализированы."
   ]
  },
  {
   "cell_type": "code",
   "execution_count": 5,
   "metadata": {},
   "outputs": [],
   "source": [
    "T = 30   # количество тем\n",
    "topic_names=[\"sbj\"+str(i) for i in range(T-1)]+[\"bcg\"]\n",
    "\n",
    "model_artm = artm.ARTM(num_topics=T, topic_names=topic_names, class_ids={'text': 1, 'author': 1})\n",
    "model_artm.cache_theta = True"
   ]
  },
  {
   "cell_type": "markdown",
   "metadata": {},
   "source": [
    "Мы будем строить 29 предметных тем и одну фоновую. \n",
    "\n",
    "Соберите словарь с помощью метода gather_dictionary и инициализируйте модель, указав random_seed=1. Обязательно укажите свое название словаря, оно понадобится при добавлении регуляризаторов."
   ]
  },
  {
   "cell_type": "code",
   "execution_count": 6,
   "metadata": {},
   "outputs": [],
   "source": [
    "dictionary = artm.Dictionary('dictionary')\n",
    "dictionary.gather(batch_vectorizer.data_path)\n",
    "model_artm.initialize('dictionary')"
   ]
  },
  {
   "cell_type": "markdown",
   "metadata": {},
   "source": [
    "##### Добавление score"
   ]
  },
  {
   "cell_type": "markdown",
   "metadata": {},
   "source": [
    "Создайте два измерителя качества artm.TopTokensScore - по одному для каждой модальности; количество токенов 15. Названия для score придумайте самостоятельно."
   ]
  },
  {
   "cell_type": "code",
   "execution_count": 7,
   "metadata": {},
   "outputs": [],
   "source": [
    "model_artm.scores.add(artm.TopTokensScore(name='text_top_words', class_id='text', num_tokens=15))\n",
    "model_artm.scores.add(artm.TopTokensScore(name='author_top_words', class_id='author', num_tokens=15))"
   ]
  },
  {
   "cell_type": "markdown",
   "metadata": {},
   "source": [
    "##### Построение модели"
   ]
  },
  {
   "cell_type": "markdown",
   "metadata": {},
   "source": [
    "Мы будем строить модель в два этапа: сначала добавим сглаживающий регуляризатор фоновой темы и настроим параметры модели, затем - добавим разреживающий регуляризатор предметрых тем и выполним еще несколько итераций. Так мы сможем получить наиболее чистые от фоновых слов предметные темы. Сглаживающий и разреживающий регуляризаторы задаются одним и тем же классом artm.SmoothSparsePhiRegularizer: если коэффициент tau положительный, то регуляризатор будет сглаживающий, если отрицательный - разреживающий.\n",
    "\n",
    "Если вы хотите подробнее разобраться, как выполняется регуляризация тематической модели в BigARTM, вы можете прочитать [статью](https://s3-eu-west-1.amazonaws.com/artm/voron-potap14artm-rus.pdf), раздел 4."
   ]
  },
  {
   "cell_type": "markdown",
   "metadata": {},
   "source": [
    "Добавьте сглаживающий регуляризатор с коэффициентом tau = 1e5, указав название своего словаря в dictionary, модальность текста в class_ids и тему \"bcg\" в topic_names."
   ]
  },
  {
   "cell_type": "code",
   "execution_count": 8,
   "metadata": {},
   "outputs": [],
   "source": [
    "# Ваш код\n",
    "model_artm.regularizers.add(artm.regularizers.SmoothSparsePhiRegularizer(name='SmoothPhi', tau=1e5, class_ids='text', \n",
    "                                                                         dictionary='dictionary', topic_names='bcg'))"
   ]
  },
  {
   "cell_type": "markdown",
   "metadata": {},
   "source": [
    "Выполните 30 итераций по коллекции (num_collection_passes), количество внутренних итераций установите равным 1. Используйте метод fit_offline модели."
   ]
  },
  {
   "cell_type": "code",
   "execution_count": 9,
   "metadata": {},
   "outputs": [],
   "source": [
    "model_artm.fit_offline(batch_vectorizer=batch_vectorizer, num_collection_passes=30)"
   ]
  },
  {
   "cell_type": "markdown",
   "metadata": {},
   "source": [
    "Добавьте разреживающий регуляризатор с коэффициентом tau=-1e5, указав название своего словаря, модальность текста в class_ids и все темы \"sbjX\" в topic_names."
   ]
  },
  {
   "cell_type": "code",
   "execution_count": 10,
   "metadata": {},
   "outputs": [],
   "source": [
    "# Ваш код\n",
    "model_artm.regularizers.add(artm.regularizers.SmoothSparsePhiRegularizer(name='SparsePhi', tau=-1e5, class_ids='text', \n",
    "                                                                         dictionary='dictionary', \n",
    "                                                                         topic_names=topic_names[:-1]))"
   ]
  },
  {
   "cell_type": "markdown",
   "metadata": {},
   "source": [
    "Выполните еще 15 проходов по коллекции."
   ]
  },
  {
   "cell_type": "code",
   "execution_count": 11,
   "metadata": {},
   "outputs": [],
   "source": [
    "# Ваш код\n",
    "model_artm.fit_offline(batch_vectorizer=batch_vectorizer, num_collection_passes=15)"
   ]
  },
  {
   "cell_type": "markdown",
   "metadata": {},
   "source": [
    "##### Интерпретация тем"
   ]
  },
  {
   "cell_type": "markdown",
   "metadata": {},
   "source": [
    "Используя созданные score, выведите топы слов и топы авторов в темах. Удобнее всего выводить топ слов каждой темы с новой строки, указывая название темы в начале строки, и аналогично с авторами."
   ]
  },
  {
   "cell_type": "code",
   "execution_count": 12,
   "metadata": {
    "scrolled": false
   },
   "outputs": [
    {
     "name": "stdout",
     "output_type": "stream",
     "text": [
      "sbj0: церковь русь средневековый император святой власть сага князь папа византийский поэзия церковный рим вера король\n",
      "sbj1: планета земля атмосфера вода солнце солнечный белый карлик газ вокруг образовываться поверхность спутник радиус метр\n",
      "sbj2: система трудность относительность тест задание преподавание отсчет системный научение компетенция адаптивный обществознание подготовка моделирование спиновый\n",
      "sbj3: культура наука рассказывать понятие кандидат исторический каков доктор культурный сознание восприятие филологический феномен владимир личность\n",
      "sbj4: право правовой римский юрист искусство суд юридический должник собственность обязательство договор владение собственник исполнение имущество\n",
      "sbj5: материал свет оптический полимер применение импульс поверхность электронный использование лазерный углеродный прибор электроника бор трехмерный\n",
      "sbj6: литература фильм текст литературный кино произведение автор герой жанр кинематограф поэт анекдот писатель читатель культовый\n",
      "sbj7: смерть ритуал диктатура государь обряд правитель конвент орден террор монтаньяр баратынский подданный насилие похоронный якобинский\n",
      "sbj8: структура вещество химический соединение химия давление углерод реакция металл органический кристалл водород алмаз кристаллический кислород\n",
      "sbj9: частица энергия квантовый поле физика атом взаимодействие магнитный электрон кварк теория симметрия фотон элементарный нейтрино\n",
      "sbj10: война россия советский русский власть российский германия мировой реформа историк петр немецкий против гражданский военный\n",
      "sbj11: ребенок женщина семья мужчина возраст взрослый сон мать родитель старение конфликт женский травма катастрофа идентичность\n",
      "sbj12: мозг животное нейрон растение эволюция отбор озеро эволюционный песня сердце популяция мышца птица нейронный сигнал\n",
      "sbj13: территория христианский империя восток народ древний письменность христианство государство памятник цивилизация традиция китай восточный северный\n",
      "sbj14: звезда галактика масса вселенная черный дыра волна излучение скорость телескоп объект расстояние диск скопление гравитационный\n",
      "sbj15: задача информация память решение данные компьютер психология мышление когнитивный внимание психолог ошибка компьютерный зрительный психологический\n",
      "sbj16: раса океан африка остров америка южный станислав географический монголоид дробышевский индия вакцина нос штамм индеец\n",
      "sbj17: политический философия государство философский философ свобода идеология платон мысль враг критика партия чтение шмитт дух\n",
      "sbj18: язык слово русский словарь текст предложение лингвист значение категория глагол корпус перевод лингвистика языковой грамматика\n",
      "sbj19: революция французский франция театр король роман костюм нация национальный актер аргумент депутат конституция париж монархия\n",
      "sbj20: город сеть робот городской интернет пользователь компания музей медиа горожанин технология программный библиотека метро цифровой\n",
      "sbj21: болезнь заболевание пациент лечение медицина врач боль препарат медицинский операция лекарство опухоль рак кровь нарушение\n",
      "sbj22: социальный знание социология социологический дисциплина познание социолог повседневный виктор машинный обучение общественный концепт повседневность фрейм\n",
      "sbj23: микроорганизм матрица интеллект эмоция алгоритм вычислительный эмоциональный схема искусственный микроб глубина хищник микробный многоклеточный экология\n",
      "sbj24: бог миф царь греческий море мифология душа грек андрей египетский египет мифологический фольклор гусейнов божество\n",
      "sbj25: гласный согласный звук говор компилятор программирование мягкий диалект твердость столыпин древнерусский слог шахматы жест диалектный\n",
      "sbj26: страна политика экономический экономика сталин кризис праздник крестьянин коллективный принятие государственный экономист прошлое благо деревня\n",
      "sbj27: клетка ген днк белок организм молекула биологический генетический геном бактерия рнк мутация молекулярный ткань вирус\n",
      "sbj28: температура университет сверхпроводимость сверхпроводник сверхпроводящий частота переход заимствование гумбольдт точность магнит профессор кельвин жидкий булгарский\n",
      "bcg: быть что это который этот как они мочь такой очень для человек или тот один\n"
     ]
    }
   ],
   "source": [
    "text_top_words = model_artm.score_tracker['text_top_words'].last_tokens\n",
    "for topic in text_top_words:\n",
    "    print(topic + ': ' + ' '.join(text_top_words[topic]))"
   ]
  },
  {
   "cell_type": "markdown",
   "metadata": {},
   "source": [
    "В последней теме \"bcg\" должны находиться общеупотребительные слова.\n",
    "\n",
    "Важный шаг в работе с тематической моделью, когда речь идет о визуализации или создании тематического навигатора, это именование тем. Понять, о чем каждая тема, можно по списку ее топовых слов. Например, тему\n",
    "    \n",
    "    частица взаимодействие физика кварк симметрия элементарный нейтрино стандартный материя протон бозон заряд масса ускоритель слабый\n",
    "    \n",
    "можно назвать \"Физика элементарных частиц\". \n",
    "\n",
    "Дайте названия 29 предметным темам. Если вы не знаете, как назвать тему, назовите ее первым встретившимся в ней существительным, хотя при таком подходе навигатор будет менее информативным. Из названий тем составьте список из 29 строк и запишите го в переменную sbj_topic_labels. В переменной topic_labels будут храниться названия всех тем, включая фоновую."
   ]
  },
  {
   "cell_type": "code",
   "execution_count": 13,
   "metadata": {},
   "outputs": [],
   "source": [
    "sbj_topic_labels = ['История', 'Астрономия', 'Образование', 'Культура', 'Обществознание', 'Физика', \n",
    "                    'Литература и кино', 'Ритуал', 'Химия', 'Физика элементарных частиц', 'История России', \n",
    "                    'Семья', 'Биология', 'История и христианство', 'Астрофизика', 'Информатика в психологии',\n",
    "                    'Антропология', 'Философия', 'Лингвистика', 'Революция', 'Город', 'Медицина', 'Социология', \n",
    "                    'Искусственный интеллект', 'История древнего мира', 'Фонетика', 'Экономика', \n",
    "                    'Молекулярная биология', 'Проводники и диэлектрики']\n",
    "topic_labels = sbj_topic_labels + [\"Фоновая тема\"]"
   ]
  },
  {
   "cell_type": "markdown",
   "metadata": {},
   "source": [
    "##### Анализ тем"
   ]
  },
  {
   "cell_type": "markdown",
   "metadata": {},
   "source": [
    "Далее мы будем работать с распределениями тем в документах (матрица $\\Theta$) и авторов в темах (одна из двух матриц $\\Phi$, соответствующая модальности авторов). \n",
    "Создайте переменные, содержащие две этих матрицы, с помощью методов get_phi и get_theta модели. Назовите переменные theta и phi_a. Выведите формы обеих матриц, чтобы понять, по каким осям стоят темы."
   ]
  },
  {
   "cell_type": "code",
   "execution_count": 14,
   "metadata": {},
   "outputs": [],
   "source": [
    "model_artm.theta_columns_naming = \"title\" # включает именование столбцов Theta их названиями-ссылками, а не внутренними id \n",
    "theta = model_artm.get_theta()\n",
    "phi_a = model_artm.get_phi(class_ids='author')"
   ]
  },
  {
   "cell_type": "code",
   "execution_count": 15,
   "metadata": {},
   "outputs": [
    {
     "data": {
      "text/plain": [
       "(539, 30)"
      ]
     },
     "execution_count": 15,
     "metadata": {},
     "output_type": "execute_result"
    }
   ],
   "source": [
    "phi_a.shape"
   ]
  },
  {
   "cell_type": "code",
   "execution_count": 16,
   "metadata": {},
   "outputs": [
    {
     "data": {
      "text/plain": [
       "(30, 1728)"
      ]
     },
     "execution_count": 16,
     "metadata": {},
     "output_type": "execute_result"
    }
   ],
   "source": [
    "theta.shape"
   ]
  },
  {
   "cell_type": "markdown",
   "metadata": {},
   "source": [
    "Визуализируем фрагмент матрицы $\\Theta$ - первые 100 документов (это наиболее простой способ визуально оценить, как темы распределяются в документах). С помощью метода seaborn.heatmap выведите фрагмент theta как изображение. Рекомендация: создайте фигуру pyplot размера (20, 10)."
   ]
  },
  {
   "cell_type": "code",
   "execution_count": 17,
   "metadata": {},
   "outputs": [
    {
     "data": {
      "text/plain": [
       "<matplotlib.axes._subplots.AxesSubplot at 0x7f101d410e10>"
      ]
     },
     "execution_count": 17,
     "metadata": {},
     "output_type": "execute_result"
    },
    {
     "data": {
      "image/png": "[encoded data removed]",
      "text/plain": [
       "<Figure size 1440x720 with 2 Axes>"
      ]
     },
     "metadata": {},
     "output_type": "display_data"
    }
   ],
   "source": [
    "plt.figure(figsize=(20, 10))\n",
    "seaborn.heatmap(theta.iloc[:, :100])"
   ]
  },
  {
   "cell_type": "markdown",
   "metadata": {},
   "source": [
    "Вы должны увидеть, что фоновая тема имеет большую вероятность в почти каждом документе, и это логично. Кроме того, есть еще одна тема, которая чаще других встречается в документах. Судя по всему, это тема содержит много слов по науку в целом, а каждый документ (видео) в нашей коллекции связан с наукой. Можно (необязательно) дать этой теме название \"Наука\".\n",
    "\n",
    "Помимо этих двух тем, фоновой и общенаучной, каждый документ характеризуется малым числом других тем."
   ]
  },
  {
   "cell_type": "markdown",
   "metadata": {},
   "source": [
    "Оценим $p(t)$ - долю каждой темы во всей коллекции. По формуле полной вероятности вычислять эти величины нужно как\n",
    "$p(t) = \\sum_d p(t|d) p(d)$. Согласно вероятностной модели, $p(d)$ пропорционально длине документа d. Поступим проще: будем полагать, что все документы равновероятны. Тогда оценить $p(t)$ можно, просуммировав $p(t|d)$ по всем документам, а затем разделив полученный вектор на его сумму. \n",
    "\n",
    "Создайте переменную-датафрейм с T строками, индексированными названиями тем, и 1 столбцом, содержащим оценки $p(t)$. Выведите датафрейм на печать."
   ]
  },
  {
   "cell_type": "code",
   "execution_count": 18,
   "metadata": {},
   "outputs": [
    {
     "data": {
      "text/html": [
       "<div>\n",
       "<style scoped>\n",
       "    .dataframe tbody tr th:only-of-type {\n",
       "        vertical-align: middle;\n",
       "    }\n",
       "\n",
       "    .dataframe tbody tr th {\n",
       "        vertical-align: top;\n",
       "    }\n",
       "\n",
       "    .dataframe thead th {\n",
       "        text-align: right;\n",
       "    }\n",
       "</style>\n",
       "<table border=\"1\" class=\"dataframe\">\n",
       "  <thead>\n",
       "    <tr style=\"text-align: right;\">\n",
       "      <th></th>\n",
       "      <th>Probability</th>\n",
       "    </tr>\n",
       "  </thead>\n",
       "  <tbody>\n",
       "    <tr>\n",
       "      <th>История</th>\n",
       "      <td>0.010347</td>\n",
       "    </tr>\n",
       "    <tr>\n",
       "      <th>Астрономия</th>\n",
       "      <td>0.010862</td>\n",
       "    </tr>\n",
       "    <tr>\n",
       "      <th>Образование</th>\n",
       "      <td>0.005904</td>\n",
       "    </tr>\n",
       "    <tr>\n",
       "      <th>Культура</th>\n",
       "      <td>0.041272</td>\n",
       "    </tr>\n",
       "    <tr>\n",
       "      <th>Обществознание</th>\n",
       "      <td>0.007677</td>\n",
       "    </tr>\n",
       "    <tr>\n",
       "      <th>Физика</th>\n",
       "      <td>0.009932</td>\n",
       "    </tr>\n",
       "    <tr>\n",
       "      <th>Литература и кино</th>\n",
       "      <td>0.007143</td>\n",
       "    </tr>\n",
       "    <tr>\n",
       "      <th>Ритуал</th>\n",
       "      <td>0.003844</td>\n",
       "    </tr>\n",
       "    <tr>\n",
       "      <th>Химия</th>\n",
       "      <td>0.010774</td>\n",
       "    </tr>\n",
       "    <tr>\n",
       "      <th>Физика элементарных частиц</th>\n",
       "      <td>0.020953</td>\n",
       "    </tr>\n",
       "    <tr>\n",
       "      <th>История России</th>\n",
       "      <td>0.014160</td>\n",
       "    </tr>\n",
       "    <tr>\n",
       "      <th>Семья</th>\n",
       "      <td>0.007338</td>\n",
       "    </tr>\n",
       "    <tr>\n",
       "      <th>Биология</th>\n",
       "      <td>0.010169</td>\n",
       "    </tr>\n",
       "    <tr>\n",
       "      <th>История и христианство</th>\n",
       "      <td>0.013719</td>\n",
       "    </tr>\n",
       "    <tr>\n",
       "      <th>Астрофизика</th>\n",
       "      <td>0.015650</td>\n",
       "    </tr>\n",
       "    <tr>\n",
       "      <th>Информатика в психологии</th>\n",
       "      <td>0.010294</td>\n",
       "    </tr>\n",
       "    <tr>\n",
       "      <th>Антропология</th>\n",
       "      <td>0.005792</td>\n",
       "    </tr>\n",
       "    <tr>\n",
       "      <th>Философия</th>\n",
       "      <td>0.013687</td>\n",
       "    </tr>\n",
       "    <tr>\n",
       "      <th>Лингвистика</th>\n",
       "      <td>0.013232</td>\n",
       "    </tr>\n",
       "    <tr>\n",
       "      <th>Революция</th>\n",
       "      <td>0.005865</td>\n",
       "    </tr>\n",
       "    <tr>\n",
       "      <th>Город</th>\n",
       "      <td>0.008761</td>\n",
       "    </tr>\n",
       "    <tr>\n",
       "      <th>Медицина</th>\n",
       "      <td>0.009656</td>\n",
       "    </tr>\n",
       "    <tr>\n",
       "      <th>Социология</th>\n",
       "      <td>0.009294</td>\n",
       "    </tr>\n",
       "    <tr>\n",
       "      <th>Искусственный интеллект</th>\n",
       "      <td>0.005914</td>\n",
       "    </tr>\n",
       "    <tr>\n",
       "      <th>История древнего мира</th>\n",
       "      <td>0.008231</td>\n",
       "    </tr>\n",
       "    <tr>\n",
       "      <th>Фонетика</th>\n",
       "      <td>0.003983</td>\n",
       "    </tr>\n",
       "    <tr>\n",
       "      <th>Экономика</th>\n",
       "      <td>0.010918</td>\n",
       "    </tr>\n",
       "    <tr>\n",
       "      <th>Молекулярная биология</th>\n",
       "      <td>0.022143</td>\n",
       "    </tr>\n",
       "    <tr>\n",
       "      <th>Проводники и диэлектрики</th>\n",
       "      <td>0.005235</td>\n",
       "    </tr>\n",
       "    <tr>\n",
       "      <th>Фоновая тема</th>\n",
       "      <td>0.677250</td>\n",
       "    </tr>\n",
       "  </tbody>\n",
       "</table>\n",
       "</div>"
      ],
      "text/plain": [
       "                            Probability\n",
       "История                        0.010347\n",
       "Астрономия                     0.010862\n",
       "Образование                    0.005904\n",
       "Культура                       0.041272\n",
       "Обществознание                 0.007677\n",
       "Физика                         0.009932\n",
       "Литература и кино              0.007143\n",
       "Ритуал                         0.003844\n",
       "Химия                          0.010774\n",
       "Физика элементарных частиц     0.020953\n",
       "История России                 0.014160\n",
       "Семья                          0.007338\n",
       "Биология                       0.010169\n",
       "История и христианство         0.013719\n",
       "Астрофизика                    0.015650\n",
       "Информатика в психологии       0.010294\n",
       "Антропология                   0.005792\n",
       "Философия                      0.013687\n",
       "Лингвистика                    0.013232\n",
       "Революция                      0.005865\n",
       "Город                          0.008761\n",
       "Медицина                       0.009656\n",
       "Социология                     0.009294\n",
       "Искусственный интеллект        0.005914\n",
       "История древнего мира          0.008231\n",
       "Фонетика                       0.003983\n",
       "Экономика                      0.010918\n",
       "Молекулярная биология          0.022143\n",
       "Проводники и диэлектрики       0.005235\n",
       "Фоновая тема                   0.677250"
      ]
     },
     "execution_count": 18,
     "metadata": {},
     "output_type": "execute_result"
    }
   ],
   "source": [
    "# Ваш код\n",
    "topic_prob = pd.DataFrame(index=topic_labels, columns=['Probability'])\n",
    "topic_prob['Probability'] = theta.sum(axis=1).values\n",
    "topic_prob['Probability'] /= topic_prob['Probability'].sum()\n",
    "topic_prob"
   ]
  },
  {
   "cell_type": "markdown",
   "metadata": {},
   "source": [
    "Найдите 5 самых распространенных и 3 наименее освещенных темы в коллекции (наибольшие и наименьшие $p(t)$ соответственно), не считая фоновую и общенаучную. Укажите названия, которые вы дали этим темам."
   ]
  },
  {
   "cell_type": "code",
   "execution_count": 19,
   "metadata": {},
   "outputs": [
    {
     "data": {
      "text/html": [
       "<div>\n",
       "<style scoped>\n",
       "    .dataframe tbody tr th:only-of-type {\n",
       "        vertical-align: middle;\n",
       "    }\n",
       "\n",
       "    .dataframe tbody tr th {\n",
       "        vertical-align: top;\n",
       "    }\n",
       "\n",
       "    .dataframe thead th {\n",
       "        text-align: right;\n",
       "    }\n",
       "</style>\n",
       "<table border=\"1\" class=\"dataframe\">\n",
       "  <thead>\n",
       "    <tr style=\"text-align: right;\">\n",
       "      <th></th>\n",
       "      <th>Probability</th>\n",
       "    </tr>\n",
       "  </thead>\n",
       "  <tbody>\n",
       "    <tr>\n",
       "      <th>Ритуал</th>\n",
       "      <td>0.003844</td>\n",
       "    </tr>\n",
       "    <tr>\n",
       "      <th>Фонетика</th>\n",
       "      <td>0.003983</td>\n",
       "    </tr>\n",
       "    <tr>\n",
       "      <th>Проводники и диэлектрики</th>\n",
       "      <td>0.005235</td>\n",
       "    </tr>\n",
       "    <tr>\n",
       "      <th>Антропология</th>\n",
       "      <td>0.005792</td>\n",
       "    </tr>\n",
       "    <tr>\n",
       "      <th>Революция</th>\n",
       "      <td>0.005865</td>\n",
       "    </tr>\n",
       "    <tr>\n",
       "      <th>Образование</th>\n",
       "      <td>0.005904</td>\n",
       "    </tr>\n",
       "    <tr>\n",
       "      <th>Искусственный интеллект</th>\n",
       "      <td>0.005914</td>\n",
       "    </tr>\n",
       "    <tr>\n",
       "      <th>Литература и кино</th>\n",
       "      <td>0.007143</td>\n",
       "    </tr>\n",
       "    <tr>\n",
       "      <th>Семья</th>\n",
       "      <td>0.007338</td>\n",
       "    </tr>\n",
       "    <tr>\n",
       "      <th>Обществознание</th>\n",
       "      <td>0.007677</td>\n",
       "    </tr>\n",
       "    <tr>\n",
       "      <th>История древнего мира</th>\n",
       "      <td>0.008231</td>\n",
       "    </tr>\n",
       "    <tr>\n",
       "      <th>Город</th>\n",
       "      <td>0.008761</td>\n",
       "    </tr>\n",
       "    <tr>\n",
       "      <th>Социология</th>\n",
       "      <td>0.009294</td>\n",
       "    </tr>\n",
       "    <tr>\n",
       "      <th>Медицина</th>\n",
       "      <td>0.009656</td>\n",
       "    </tr>\n",
       "    <tr>\n",
       "      <th>Физика</th>\n",
       "      <td>0.009932</td>\n",
       "    </tr>\n",
       "    <tr>\n",
       "      <th>Биология</th>\n",
       "      <td>0.010169</td>\n",
       "    </tr>\n",
       "    <tr>\n",
       "      <th>Информатика в психологии</th>\n",
       "      <td>0.010294</td>\n",
       "    </tr>\n",
       "    <tr>\n",
       "      <th>История</th>\n",
       "      <td>0.010347</td>\n",
       "    </tr>\n",
       "    <tr>\n",
       "      <th>Химия</th>\n",
       "      <td>0.010774</td>\n",
       "    </tr>\n",
       "    <tr>\n",
       "      <th>Астрономия</th>\n",
       "      <td>0.010862</td>\n",
       "    </tr>\n",
       "    <tr>\n",
       "      <th>Экономика</th>\n",
       "      <td>0.010918</td>\n",
       "    </tr>\n",
       "    <tr>\n",
       "      <th>Лингвистика</th>\n",
       "      <td>0.013232</td>\n",
       "    </tr>\n",
       "    <tr>\n",
       "      <th>Философия</th>\n",
       "      <td>0.013687</td>\n",
       "    </tr>\n",
       "    <tr>\n",
       "      <th>История и христианство</th>\n",
       "      <td>0.013719</td>\n",
       "    </tr>\n",
       "    <tr>\n",
       "      <th>История России</th>\n",
       "      <td>0.014160</td>\n",
       "    </tr>\n",
       "    <tr>\n",
       "      <th>Астрофизика</th>\n",
       "      <td>0.015650</td>\n",
       "    </tr>\n",
       "    <tr>\n",
       "      <th>Физика элементарных частиц</th>\n",
       "      <td>0.020953</td>\n",
       "    </tr>\n",
       "    <tr>\n",
       "      <th>Молекулярная биология</th>\n",
       "      <td>0.022143</td>\n",
       "    </tr>\n",
       "    <tr>\n",
       "      <th>Культура</th>\n",
       "      <td>0.041272</td>\n",
       "    </tr>\n",
       "    <tr>\n",
       "      <th>Фоновая тема</th>\n",
       "      <td>0.677250</td>\n",
       "    </tr>\n",
       "  </tbody>\n",
       "</table>\n",
       "</div>"
      ],
      "text/plain": [
       "                            Probability\n",
       "Ритуал                         0.003844\n",
       "Фонетика                       0.003983\n",
       "Проводники и диэлектрики       0.005235\n",
       "Антропология                   0.005792\n",
       "Революция                      0.005865\n",
       "Образование                    0.005904\n",
       "Искусственный интеллект        0.005914\n",
       "Литература и кино              0.007143\n",
       "Семья                          0.007338\n",
       "Обществознание                 0.007677\n",
       "История древнего мира          0.008231\n",
       "Город                          0.008761\n",
       "Социология                     0.009294\n",
       "Медицина                       0.009656\n",
       "Физика                         0.009932\n",
       "Биология                       0.010169\n",
       "Информатика в психологии       0.010294\n",
       "История                        0.010347\n",
       "Химия                          0.010774\n",
       "Астрономия                     0.010862\n",
       "Экономика                      0.010918\n",
       "Лингвистика                    0.013232\n",
       "Философия                      0.013687\n",
       "История и христианство         0.013719\n",
       "История России                 0.014160\n",
       "Астрофизика                    0.015650\n",
       "Физика элементарных частиц     0.020953\n",
       "Молекулярная биология          0.022143\n",
       "Культура                       0.041272\n",
       "Фоновая тема                   0.677250"
      ]
     },
     "execution_count": 19,
     "metadata": {},
     "output_type": "execute_result"
    }
   ],
   "source": [
    "topic_prob.sort_values(by='Probability')"
   ]
  },
  {
   "cell_type": "raw",
   "metadata": {},
   "source": [
    "Ваш ответ:\n",
    "5 тем с max p(t): Физика элементраных частиц, Молекулярная биология, Культура\n",
    "3 темы с min p(t): Ритуал, Фонетика, Проводники и диэлектрики"
   ]
  },
  {
   "cell_type": "markdown",
   "metadata": {},
   "source": [
    "Визуализируйте матрицу $\\Phi$ модальности авторов в виде изображения. Рекомендация: установите yticklabels=False в heatmap."
   ]
  },
  {
   "cell_type": "code",
   "execution_count": 20,
   "metadata": {},
   "outputs": [
    {
     "data": {
      "text/plain": [
       "<matplotlib.axes._subplots.AxesSubplot at 0x7f101d5104a8>"
      ]
     },
     "execution_count": 20,
     "metadata": {},
     "output_type": "execute_result"
    },
    {
     "data": {
      "image/png": "[encoded data removed]",
      "text/plain": [
       "<Figure size 1440x720 with 2 Axes>"
      ]
     },
     "metadata": {},
     "output_type": "display_data"
    }
   ],
   "source": [
    "plt.figure(figsize=(20, 10))\n",
    "seaborn.heatmap(phi_a, yticklabels=False)"
   ]
  },
  {
   "cell_type": "markdown",
   "metadata": {},
   "source": [
    "Каждой теме соответствует не очень большое число авторов - матрица достаточно разреженная. Кроме того, некоторые темы имеют доминирующего автора $a$, имеющего большую вероятность $p(a|t)$ - этот автор записал больше всего лекций по теме. "
   ]
  },
  {
   "cell_type": "markdown",
   "metadata": {},
   "source": [
    "Будем считать, что автор $a$ значим в теме, если $p(a|t) > 0.01$. Для каждого автора посчитайте, в скольких темах он значим. Найдите авторов-рекордсменов, которые значимы (а значит, читали лекции) в >= 3 темах."
   ]
  },
  {
   "cell_type": "code",
   "execution_count": 21,
   "metadata": {},
   "outputs": [
    {
     "data": {
      "text/plain": [
       "Илья_Иткин              3\n",
       "Ольга_Тогоева           3\n",
       "Алина_Бодрова           3\n",
       "Ольга_Вайнштейн         5\n",
       "Александр_Воеводский    3\n",
       "dtype: int64"
      ]
     },
     "execution_count": 21,
     "metadata": {},
     "output_type": "execute_result"
    }
   ],
   "source": [
    "authors = (phi_a > 0.01).sum(axis=1)\n",
    "authors[authors >= 3]"
   ]
  },
  {
   "cell_type": "raw",
   "metadata": {},
   "source": [
    "Ваш ответ:\n",
    "авторы, значимые в не менее чем 3 темах: Илья Иткин, Ольга Тогоева, Алина Бодрова, Ольга Вайнштейн, Александр Воеводский"
   ]
  },
  {
   "cell_type": "markdown",
   "metadata": {},
   "source": [
    "Большинство авторов значимы в 1 теме, что логично."
   ]
  },
  {
   "cell_type": "markdown",
   "metadata": {},
   "source": [
    "##### Построение тематической карты авторов"
   ]
  },
  {
   "cell_type": "markdown",
   "metadata": {},
   "source": [
    "По сути, в матрице $\\Phi$, соответствующей модальности авторов, записаны тематические кластеры авторов. Для любого автора мы можем составить его тематический круг - авторов, разбирающихся в той же теме, что и данный. Интересующиеся слушатели могут попробовать выполнить эту процедуру для ученых, читающих лекции на Постнауке, которых они знают (например, на Постнауке есть лекции с К. В. Воронцовым - лектором текущего модуля :)\n",
    "\n",
    "Составим карту близости авторов по тематике их исследований. Для этого применим метод понижения размерности MDS к тематическим профилям авторов.\n",
    "\n",
    "Чтобы получить тематический профиль автора, распределение $p(t|a)$, нужно воспользоваться формулой Байеса: \n",
    "$p(t|a) = \\frac {p(a|t) p(t)} {\\sum_t' p(a|t') p(t')}$. Все необходимые для этого величины у вас есть и записаны в переменных phi и pt. \n",
    "\n",
    "Передайте матрицу тематических профилей авторов, записанных по строкам, в метод MDS с n_components=2. Используйте косинусную метрику (она хорошо подходит для поиска расстояний между векторами, имеющими фиксированную сумму компонент)."
   ]
  },
  {
   "cell_type": "code",
   "execution_count": 22,
   "metadata": {},
   "outputs": [],
   "source": [
    "from sklearn.manifold import MDS\n",
    "from sklearn.metrics import pairwise_distances"
   ]
  },
  {
   "cell_type": "code",
   "execution_count": 23,
   "metadata": {},
   "outputs": [],
   "source": [
    "profiles = phi_a.mul(topic_prob['Probability'].values, axis=1)\n",
    "profiles = profiles.div(profiles.sum(axis=1).values, axis=0)"
   ]
  },
  {
   "cell_type": "code",
   "execution_count": 24,
   "metadata": {},
   "outputs": [],
   "source": [
    "mds = MDS(n_components=2, dissimilarity='precomputed', random_state=0)\n",
    "cos_distances = pairwise_distances(profiles, metric='cosine')\n",
    "transformed_profiles = mds.fit_transform(cos_distances)"
   ]
  },
  {
   "cell_type": "markdown",
   "metadata": {},
   "source": [
    "Визуализируйте найденные двумерные представления с помощью функции scatter. "
   ]
  },
  {
   "cell_type": "code",
   "execution_count": 25,
   "metadata": {},
   "outputs": [
    {
     "data": {
      "image/png": "[encoded data removed]",
      "text/plain": [
       "<Figure size 432x288 with 1 Axes>"
      ]
     },
     "metadata": {},
     "output_type": "display_data"
    }
   ],
   "source": [
    "plt.scatter(transformed_profiles[:, 0], transformed_profiles[:, 1])\n",
    "plt.show()"
   ]
  },
  {
   "cell_type": "markdown",
   "metadata": {},
   "source": [
    "Должно получиться, что некоторые грппы авторов формируют сгустки, которые можно считать тематическими группами авторов.\n",
    "\n",
    "Раскрасим точки следующим образом: для каждого автора выберем наиболее вероятную для него тему ($\\max_t p(t|a)$), и каждой теме сопоставим цвет. Кроме того, добавим на карту имена и фамилии авторов, это можно сделать в цикле по всем точкам с помощью функции plt.annotate, указывая метку точки первым аргументом и ее координаты в аргументе xy. Рекомендуется сделать размер изображения большим, тогда маркеры точек тоже придется увеличить (s=100 в plt.scatter). Изобразите карту авторов и сохраните в pdf-файл с помощью функции plt.savefig. \n",
    "\n",
    "Метки авторов будут пересекаться. Будет очень хорошо, если вы найдете способ, как этого можно избежать."
   ]
  },
  {
   "cell_type": "code",
   "execution_count": 26,
   "metadata": {},
   "outputs": [
    {
     "data": {
      "image/png": "[encoded data removed]",
      "text/plain": [
       "<Figure size 1080x1080 with 1 Axes>"
      ]
     },
     "metadata": {},
     "output_type": "display_data"
    }
   ],
   "source": [
    "import matplotlib.cm as cm\n",
    "colors = cm.rainbow(np.linspace(0, 1, T)) # цвета для тем\n",
    "c = np.argmax(profiles.values, axis=1)\n",
    "\n",
    "plt.figure(figsize=(15, 15))\n",
    "plt.axis('off')\n",
    "plt.scatter(transformed_profiles[:, 0], transformed_profiles[:, 1], c=colors[c], s=100)\n",
    "for i, author in enumerate(profiles.index):\n",
    "    plt.annotate(xy=transformed_profiles[i], s=author)\n",
    "plt.savefig('authors_map.pdf', format='pdf')"
   ]
  },
  {
   "cell_type": "markdown",
   "metadata": {},
   "source": [
    "##### Создание простого тематического навигатора по Постнауке"
   ]
  },
  {
   "cell_type": "markdown",
   "metadata": {},
   "source": [
    "Наш тематический навигатор будет для каждой темы показывать ее список слов, а также список релевантных теме документов. \n",
    "\n",
    "Нам понадобятся распределения $p(d|t)$. По формуле Байеса $p(d|t) = \\frac{p(t|d)p(d)}{\\sum_{d'}p(t|d')p(d')}$, но поскольку мы считаем документы равновероятными, достаточно разделить каждую строку $\\Theta$ на ее сумму, чтобы оценить распределение. \n",
    "\n",
    "Отсортируйте матрицу $p(d|t)$ по убыванию $p(d|t)$ в каждой теме (то есть построчно). Нам понадобятся индексы наиболее вероятных документов в каждой теме, поэтому используйте функцию argmax."
   ]
  },
  {
   "cell_type": "code",
   "execution_count": 27,
   "metadata": {},
   "outputs": [
    {
     "data": {
      "text/html": [
       "<div>\n",
       "<style scoped>\n",
       "    .dataframe tbody tr th:only-of-type {\n",
       "        vertical-align: middle;\n",
       "    }\n",
       "\n",
       "    .dataframe tbody tr th {\n",
       "        vertical-align: top;\n",
       "    }\n",
       "\n",
       "    .dataframe thead th {\n",
       "        text-align: right;\n",
       "    }\n",
       "</style>\n",
       "<table border=\"1\" class=\"dataframe\">\n",
       "  <thead>\n",
       "    <tr style=\"text-align: right;\">\n",
       "      <th></th>\n",
       "      <th>http://postnauka.ru/video/10006</th>\n",
       "      <th>http://postnauka.ru/video/10379</th>\n",
       "      <th>http://postnauka.ru/video/10380</th>\n",
       "      <th>http://postnauka.ru/video/10381</th>\n",
       "      <th>http://postnauka.ru/video/10382</th>\n",
       "      <th>http://postnauka.ru/video/10383</th>\n",
       "      <th>http://postnauka.ru/video/10384</th>\n",
       "      <th>http://postnauka.ru/video/10385</th>\n",
       "      <th>http://postnauka.ru/video/10473</th>\n",
       "      <th>http://postnauka.ru/video/10475</th>\n",
       "      <th>...</th>\n",
       "      <th>http://postnauka.ru/video/9874</th>\n",
       "      <th>http://postnauka.ru/video/9876</th>\n",
       "      <th>http://postnauka.ru/video/9968</th>\n",
       "      <th>http://postnauka.ru/video/9992</th>\n",
       "      <th>http://postnauka.ru/video/9993</th>\n",
       "      <th>http://postnauka.ru/video/9994</th>\n",
       "      <th>http://postnauka.ru/video/9995</th>\n",
       "      <th>http://postnauka.ru/video/9996</th>\n",
       "      <th>http://postnauka.ru/video/9997</th>\n",
       "      <th>http://postnauka.ru/video/9998</th>\n",
       "    </tr>\n",
       "  </thead>\n",
       "  <tbody>\n",
       "    <tr>\n",
       "      <th>История</th>\n",
       "      <td>0.000000</td>\n",
       "      <td>0.00000</td>\n",
       "      <td>0.000000e+00</td>\n",
       "      <td>0.006845</td>\n",
       "      <td>0.000000</td>\n",
       "      <td>0.000000</td>\n",
       "      <td>0.000000e+00</td>\n",
       "      <td>0.000000</td>\n",
       "      <td>0.000000</td>\n",
       "      <td>0.000000</td>\n",
       "      <td>...</td>\n",
       "      <td>0.000000</td>\n",
       "      <td>0.000000</td>\n",
       "      <td>0.019769</td>\n",
       "      <td>0.001018</td>\n",
       "      <td>0.000000</td>\n",
       "      <td>0.000000e+00</td>\n",
       "      <td>5.150954e-08</td>\n",
       "      <td>0.000000e+00</td>\n",
       "      <td>0.000000</td>\n",
       "      <td>0.000000</td>\n",
       "    </tr>\n",
       "    <tr>\n",
       "      <th>Астрономия</th>\n",
       "      <td>0.000000</td>\n",
       "      <td>0.00000</td>\n",
       "      <td>1.203452e-13</td>\n",
       "      <td>0.000000</td>\n",
       "      <td>0.000000</td>\n",
       "      <td>0.000000</td>\n",
       "      <td>9.461594e-13</td>\n",
       "      <td>0.000000</td>\n",
       "      <td>0.000000</td>\n",
       "      <td>0.000000</td>\n",
       "      <td>...</td>\n",
       "      <td>0.000000</td>\n",
       "      <td>0.000000</td>\n",
       "      <td>0.000000</td>\n",
       "      <td>0.000000</td>\n",
       "      <td>0.000167</td>\n",
       "      <td>8.702103e-13</td>\n",
       "      <td>1.500746e-03</td>\n",
       "      <td>0.000000e+00</td>\n",
       "      <td>0.000000</td>\n",
       "      <td>0.000000</td>\n",
       "    </tr>\n",
       "    <tr>\n",
       "      <th>Образование</th>\n",
       "      <td>0.003615</td>\n",
       "      <td>0.00000</td>\n",
       "      <td>0.000000e+00</td>\n",
       "      <td>0.005776</td>\n",
       "      <td>0.000000</td>\n",
       "      <td>0.003022</td>\n",
       "      <td>0.000000e+00</td>\n",
       "      <td>0.000000</td>\n",
       "      <td>0.000000</td>\n",
       "      <td>0.000000</td>\n",
       "      <td>...</td>\n",
       "      <td>0.000000</td>\n",
       "      <td>0.000000</td>\n",
       "      <td>0.000000</td>\n",
       "      <td>0.000000</td>\n",
       "      <td>0.000000</td>\n",
       "      <td>0.000000e+00</td>\n",
       "      <td>0.000000e+00</td>\n",
       "      <td>3.028190e-10</td>\n",
       "      <td>0.000000</td>\n",
       "      <td>0.000000</td>\n",
       "    </tr>\n",
       "    <tr>\n",
       "      <th>Культура</th>\n",
       "      <td>0.002061</td>\n",
       "      <td>0.00228</td>\n",
       "      <td>1.852024e-03</td>\n",
       "      <td>0.002855</td>\n",
       "      <td>0.002466</td>\n",
       "      <td>0.001187</td>\n",
       "      <td>2.018927e-03</td>\n",
       "      <td>0.004447</td>\n",
       "      <td>0.001557</td>\n",
       "      <td>0.001071</td>\n",
       "      <td>...</td>\n",
       "      <td>0.002512</td>\n",
       "      <td>0.002056</td>\n",
       "      <td>0.002187</td>\n",
       "      <td>0.001659</td>\n",
       "      <td>0.000021</td>\n",
       "      <td>2.126954e-03</td>\n",
       "      <td>5.386653e-05</td>\n",
       "      <td>1.154192e-03</td>\n",
       "      <td>0.003058</td>\n",
       "      <td>0.001779</td>\n",
       "    </tr>\n",
       "    <tr>\n",
       "      <th>Обществознание</th>\n",
       "      <td>0.005783</td>\n",
       "      <td>0.00000</td>\n",
       "      <td>0.000000e+00</td>\n",
       "      <td>0.000000</td>\n",
       "      <td>0.000000</td>\n",
       "      <td>0.000000</td>\n",
       "      <td>0.000000e+00</td>\n",
       "      <td>0.000000</td>\n",
       "      <td>0.000000</td>\n",
       "      <td>0.000000</td>\n",
       "      <td>...</td>\n",
       "      <td>0.000000</td>\n",
       "      <td>0.000000</td>\n",
       "      <td>0.000000</td>\n",
       "      <td>0.000261</td>\n",
       "      <td>0.000000</td>\n",
       "      <td>0.000000e+00</td>\n",
       "      <td>0.000000e+00</td>\n",
       "      <td>0.000000e+00</td>\n",
       "      <td>0.000000</td>\n",
       "      <td>0.000000</td>\n",
       "    </tr>\n",
       "  </tbody>\n",
       "</table>\n",
       "<p>5 rows × 1728 columns</p>\n",
       "</div>"
      ],
      "text/plain": [
       "                http://postnauka.ru/video/10006  \\\n",
       "История                                0.000000   \n",
       "Астрономия                             0.000000   \n",
       "Образование                            0.003615   \n",
       "Культура                               0.002061   \n",
       "Обществознание                         0.005783   \n",
       "\n",
       "                http://postnauka.ru/video/10379  \\\n",
       "История                                 0.00000   \n",
       "Астрономия                              0.00000   \n",
       "Образование                             0.00000   \n",
       "Культура                                0.00228   \n",
       "Обществознание                          0.00000   \n",
       "\n",
       "                http://postnauka.ru/video/10380  \\\n",
       "История                            0.000000e+00   \n",
       "Астрономия                         1.203452e-13   \n",
       "Образование                        0.000000e+00   \n",
       "Культура                           1.852024e-03   \n",
       "Обществознание                     0.000000e+00   \n",
       "\n",
       "                http://postnauka.ru/video/10381  \\\n",
       "История                                0.006845   \n",
       "Астрономия                             0.000000   \n",
       "Образование                            0.005776   \n",
       "Культура                               0.002855   \n",
       "Обществознание                         0.000000   \n",
       "\n",
       "                http://postnauka.ru/video/10382  \\\n",
       "История                                0.000000   \n",
       "Астрономия                             0.000000   \n",
       "Образование                            0.000000   \n",
       "Культура                               0.002466   \n",
       "Обществознание                         0.000000   \n",
       "\n",
       "                http://postnauka.ru/video/10383  \\\n",
       "История                                0.000000   \n",
       "Астрономия                             0.000000   \n",
       "Образование                            0.003022   \n",
       "Культура                               0.001187   \n",
       "Обществознание                         0.000000   \n",
       "\n",
       "                http://postnauka.ru/video/10384  \\\n",
       "История                            0.000000e+00   \n",
       "Астрономия                         9.461594e-13   \n",
       "Образование                        0.000000e+00   \n",
       "Культура                           2.018927e-03   \n",
       "Обществознание                     0.000000e+00   \n",
       "\n",
       "                http://postnauka.ru/video/10385  \\\n",
       "История                                0.000000   \n",
       "Астрономия                             0.000000   \n",
       "Образование                            0.000000   \n",
       "Культура                               0.004447   \n",
       "Обществознание                         0.000000   \n",
       "\n",
       "                http://postnauka.ru/video/10473  \\\n",
       "История                                0.000000   \n",
       "Астрономия                             0.000000   \n",
       "Образование                            0.000000   \n",
       "Культура                               0.001557   \n",
       "Обществознание                         0.000000   \n",
       "\n",
       "                http://postnauka.ru/video/10475  \\\n",
       "История                                0.000000   \n",
       "Астрономия                             0.000000   \n",
       "Образование                            0.000000   \n",
       "Культура                               0.001071   \n",
       "Обществознание                         0.000000   \n",
       "\n",
       "                             ...                \\\n",
       "История                      ...                 \n",
       "Астрономия                   ...                 \n",
       "Образование                  ...                 \n",
       "Культура                     ...                 \n",
       "Обществознание               ...                 \n",
       "\n",
       "                http://postnauka.ru/video/9874  \\\n",
       "История                               0.000000   \n",
       "Астрономия                            0.000000   \n",
       "Образование                           0.000000   \n",
       "Культура                              0.002512   \n",
       "Обществознание                        0.000000   \n",
       "\n",
       "                http://postnauka.ru/video/9876  \\\n",
       "История                               0.000000   \n",
       "Астрономия                            0.000000   \n",
       "Образование                           0.000000   \n",
       "Культура                              0.002056   \n",
       "Обществознание                        0.000000   \n",
       "\n",
       "                http://postnauka.ru/video/9968  \\\n",
       "История                               0.019769   \n",
       "Астрономия                            0.000000   \n",
       "Образование                           0.000000   \n",
       "Культура                              0.002187   \n",
       "Обществознание                        0.000000   \n",
       "\n",
       "                http://postnauka.ru/video/9992  \\\n",
       "История                               0.001018   \n",
       "Астрономия                            0.000000   \n",
       "Образование                           0.000000   \n",
       "Культура                              0.001659   \n",
       "Обществознание                        0.000261   \n",
       "\n",
       "                http://postnauka.ru/video/9993  \\\n",
       "История                               0.000000   \n",
       "Астрономия                            0.000167   \n",
       "Образование                           0.000000   \n",
       "Культура                              0.000021   \n",
       "Обществознание                        0.000000   \n",
       "\n",
       "                http://postnauka.ru/video/9994  \\\n",
       "История                           0.000000e+00   \n",
       "Астрономия                        8.702103e-13   \n",
       "Образование                       0.000000e+00   \n",
       "Культура                          2.126954e-03   \n",
       "Обществознание                    0.000000e+00   \n",
       "\n",
       "                http://postnauka.ru/video/9995  \\\n",
       "История                           5.150954e-08   \n",
       "Астрономия                        1.500746e-03   \n",
       "Образование                       0.000000e+00   \n",
       "Культура                          5.386653e-05   \n",
       "Обществознание                    0.000000e+00   \n",
       "\n",
       "                http://postnauka.ru/video/9996  \\\n",
       "История                           0.000000e+00   \n",
       "Астрономия                        0.000000e+00   \n",
       "Образование                       3.028190e-10   \n",
       "Культура                          1.154192e-03   \n",
       "Обществознание                    0.000000e+00   \n",
       "\n",
       "                http://postnauka.ru/video/9997  http://postnauka.ru/video/9998  \n",
       "История                               0.000000                        0.000000  \n",
       "Астрономия                            0.000000                        0.000000  \n",
       "Образование                           0.000000                        0.000000  \n",
       "Культура                              0.003058                        0.001779  \n",
       "Обществознание                        0.000000                        0.000000  \n",
       "\n",
       "[5 rows x 1728 columns]"
      ]
     },
     "execution_count": 27,
     "metadata": {},
     "output_type": "execute_result"
    }
   ],
   "source": [
    "pdt = theta.div(theta.sum(axis=1), axis=0)\n",
    "pdt.index = topic_labels\n",
    "pdt.head()"
   ]
  },
  {
   "cell_type": "code",
   "execution_count": 28,
   "metadata": {},
   "outputs": [],
   "source": [
    "# relevant_docs = [docs[1:][0].sort_values(ascending=False)[:10].index for docs in pdt.iterrows()]\n",
    "relevant_docs = [(docs[0], docs[1].sort_values(ascending=False)) for docs in pdt.iterrows()]"
   ]
  },
  {
   "cell_type": "markdown",
   "metadata": {},
   "source": [
    "Создавать навигатор мы будем прямо в jupiter notebook: это возможно благодаря тому факту, что при печати ссылки она автоматически превращается в гиперссылку."
   ]
  },
  {
   "cell_type": "code",
   "execution_count": 29,
   "metadata": {},
   "outputs": [
    {
     "name": "stdout",
     "output_type": "stream",
     "text": [
      "http://yandex.ru\n"
     ]
    }
   ],
   "source": [
    "print(\"http://yandex.ru\")   # получится кликабельная ссылка"
   ]
  },
  {
   "cell_type": "markdown",
   "metadata": {},
   "source": [
    "Кроме того, подключив модуль [ipython.core.display](https://ipython.org/ipython-doc/2/api/generated/IPython.core.display.html), можно использовать html-разметку в выводе. Например:"
   ]
  },
  {
   "cell_type": "code",
   "execution_count": 30,
   "metadata": {},
   "outputs": [
    {
     "data": {
      "text/html": [
       "<h1>Заголовок</h1>"
      ],
      "text/plain": [
       "<IPython.core.display.HTML object>"
      ]
     },
     "metadata": {},
     "output_type": "display_data"
    },
    {
     "data": {
      "text/html": [
       "<ul><li>Пункт 1</li><li>Пункт 2</li></ul>"
      ],
      "text/plain": [
       "<IPython.core.display.HTML object>"
      ]
     },
     "metadata": {},
     "output_type": "display_data"
    },
    {
     "data": {
      "text/html": [
       "<font color=\"green\">Зеленый!</font>"
      ],
      "text/plain": [
       "<IPython.core.display.HTML object>"
      ]
     },
     "metadata": {},
     "output_type": "display_data"
    },
    {
     "data": {
      "text/html": [
       "<a href=\"http://yandex.ru\">Еще один вариант вывода ссылки</a>"
      ],
      "text/plain": [
       "<IPython.core.display.HTML object>"
      ]
     },
     "metadata": {},
     "output_type": "display_data"
    }
   ],
   "source": [
    "from IPython.core.display import display, HTML\n",
    "display(HTML(u\"<h1>Заголовок</h1>\"))   # также <h2>, <h3>\n",
    "display(HTML(u\"<ul><li>Пункт 1</li><li>Пункт 2</li></ul>\"))\n",
    "display(HTML(u'<font color=\"green\">Зеленый!</font>'))\n",
    "display(HTML(u'<a href=\"http://yandex.ru\">Еще один вариант вывода ссылки</a>'))"
   ]
  },
  {
   "cell_type": "markdown",
   "metadata": {},
   "source": [
    "В цикле для каждой темы выведите ее заголовок, в следующей строке - топ-10 слов темы, затем в виде списка ссылки на 10 наиболее релевантных (по $p(d|t)$) теме документов. Используйте html-разметку. Творчество приветствуется :)"
   ]
  },
  {
   "cell_type": "code",
   "execution_count": 34,
   "metadata": {},
   "outputs": [
    {
     "data": {
      "text/html": [
       "<h1>История</h1>"
      ],
      "text/plain": [
       "<IPython.core.display.HTML object>"
      ]
     },
     "metadata": {},
     "output_type": "display_data"
    },
    {
     "data": {
      "text/html": [
       "церковь русь средневековый император святой власть сага князь папа византийский"
      ],
      "text/plain": [
       "<IPython.core.display.HTML object>"
      ]
     },
     "metadata": {},
     "output_type": "display_data"
    },
    {
     "name": "stdout",
     "output_type": "stream",
     "text": [
      "http://postnauka.ru/video/3348\n",
      "http://postnauka.ru/video/24034\n",
      "http://postnauka.ru/video/9968\n",
      "http://postnauka.ru/video/9299\n",
      "http://postnauka.ru/video/24039\n",
      "http://postnauka.ru/video/24030\n",
      "http://postnauka.ru/video/28942\n",
      "http://postnauka.ru/video/23472\n",
      "http://postnauka.ru/video/50350\n",
      "http://postnauka.ru/video/5464\n"
     ]
    },
    {
     "data": {
      "text/html": [
       "<h1>Астрономия</h1>"
      ],
      "text/plain": [
       "<IPython.core.display.HTML object>"
      ]
     },
     "metadata": {},
     "output_type": "display_data"
    },
    {
     "data": {
      "text/html": [
       "планета земля атмосфера вода солнце солнечный белый карлик газ вокруг"
      ],
      "text/plain": [
       "<IPython.core.display.HTML object>"
      ]
     },
     "metadata": {},
     "output_type": "display_data"
    },
    {
     "name": "stdout",
     "output_type": "stream",
     "text": [
      "http://postnauka.ru/video/53693\n",
      "http://postnauka.ru/video/24245\n",
      "http://postnauka.ru/video/32889\n",
      "http://postnauka.ru/video/9835\n",
      "http://postnauka.ru/video/31695\n",
      "http://postnauka.ru/video/13098\n",
      "http://postnauka.ru/video/12971\n",
      "http://postnauka.ru/video/49261\n",
      "http://postnauka.ru/video/36249\n",
      "http://postnauka.ru/video/3381\n"
     ]
    },
    {
     "data": {
      "text/html": [
       "<h1>Образование</h1>"
      ],
      "text/plain": [
       "<IPython.core.display.HTML object>"
      ]
     },
     "metadata": {},
     "output_type": "display_data"
    },
    {
     "data": {
      "text/html": [
       "система трудность относительность тест задание преподавание отсчет системный научение компетенция"
      ],
      "text/plain": [
       "<IPython.core.display.HTML object>"
      ]
     },
     "metadata": {},
     "output_type": "display_data"
    },
    {
     "name": "stdout",
     "output_type": "stream",
     "text": [
      "http://postnauka.ru/video/46317\n",
      "http://postnauka.ru/video/34426\n",
      "http://postnauka.ru/video/1856\n",
      "http://postnauka.ru/video/50347\n",
      "http://postnauka.ru/video/37982\n",
      "http://postnauka.ru/video/19570\n",
      "http://postnauka.ru/video/53415\n",
      "http://postnauka.ru/video/56618\n",
      "http://postnauka.ru/video/47457\n",
      "http://postnauka.ru/video/52548\n"
     ]
    },
    {
     "data": {
      "text/html": [
       "<h1>Культура</h1>"
      ],
      "text/plain": [
       "<IPython.core.display.HTML object>"
      ]
     },
     "metadata": {},
     "output_type": "display_data"
    },
    {
     "data": {
      "text/html": [
       "культура наука рассказывать понятие кандидат исторический каков доктор культурный сознание"
      ],
      "text/plain": [
       "<IPython.core.display.HTML object>"
      ]
     },
     "metadata": {},
     "output_type": "display_data"
    },
    {
     "name": "stdout",
     "output_type": "stream",
     "text": [
      "http://postnauka.ru/video/11034\n",
      "http://postnauka.ru/video/10749\n",
      "http://postnauka.ru/video/7549\n",
      "http://postnauka.ru/video/5891\n",
      "http://postnauka.ru/video/3602\n",
      "http://postnauka.ru/video/7757\n",
      "http://postnauka.ru/video/12524\n",
      "http://postnauka.ru/video/7351\n",
      "http://postnauka.ru/video/7065\n",
      "http://postnauka.ru/video/2524\n"
     ]
    },
    {
     "data": {
      "text/html": [
       "<h1>Обществознание</h1>"
      ],
      "text/plain": [
       "<IPython.core.display.HTML object>"
      ]
     },
     "metadata": {},
     "output_type": "display_data"
    },
    {
     "data": {
      "text/html": [
       "право правовой римский юрист искусство суд юридический должник собственность обязательство"
      ],
      "text/plain": [
       "<IPython.core.display.HTML object>"
      ]
     },
     "metadata": {},
     "output_type": "display_data"
    },
    {
     "name": "stdout",
     "output_type": "stream",
     "text": [
      "http://postnauka.ru/video/17913\n",
      "http://postnauka.ru/video/31688\n",
      "http://postnauka.ru/video/17825\n",
      "http://postnauka.ru/video/38009\n",
      "http://postnauka.ru/video/34414\n",
      "http://postnauka.ru/video/49455\n",
      "http://postnauka.ru/video/42221\n",
      "http://postnauka.ru/video/31666\n",
      "http://postnauka.ru/video/16822\n",
      "http://postnauka.ru/video/42220\n"
     ]
    },
    {
     "data": {
      "text/html": [
       "<h1>Физика</h1>"
      ],
      "text/plain": [
       "<IPython.core.display.HTML object>"
      ]
     },
     "metadata": {},
     "output_type": "display_data"
    },
    {
     "data": {
      "text/html": [
       "материал свет оптический полимер применение импульс поверхность электронный использование лазерный"
      ],
      "text/plain": [
       "<IPython.core.display.HTML object>"
      ]
     },
     "metadata": {},
     "output_type": "display_data"
    },
    {
     "name": "stdout",
     "output_type": "stream",
     "text": [
      "http://postnauka.ru/video/35065\n",
      "http://postnauka.ru/video/36187\n",
      "http://postnauka.ru/video/36655\n",
      "http://postnauka.ru/video/59579\n",
      "http://postnauka.ru/video/41686\n",
      "http://postnauka.ru/video/47818\n",
      "http://postnauka.ru/video/31182\n",
      "http://postnauka.ru/video/9144\n",
      "http://postnauka.ru/video/10379\n",
      "http://postnauka.ru/video/36490\n"
     ]
    },
    {
     "data": {
      "text/html": [
       "<h1>Литература и кино</h1>"
      ],
      "text/plain": [
       "<IPython.core.display.HTML object>"
      ]
     },
     "metadata": {},
     "output_type": "display_data"
    },
    {
     "data": {
      "text/html": [
       "литература фильм текст литературный кино произведение автор герой жанр кинематограф"
      ],
      "text/plain": [
       "<IPython.core.display.HTML object>"
      ]
     },
     "metadata": {},
     "output_type": "display_data"
    },
    {
     "name": "stdout",
     "output_type": "stream",
     "text": [
      "http://postnauka.ru/video/14297\n",
      "http://postnauka.ru/video/39723\n",
      "http://postnauka.ru/video/7551\n",
      "http://postnauka.ru/video/10759\n",
      "http://postnauka.ru/video/2946\n",
      "http://postnauka.ru/video/57127\n",
      "http://postnauka.ru/video/13541\n",
      "http://postnauka.ru/video/52416\n",
      "http://postnauka.ru/video/38510\n",
      "http://postnauka.ru/video/42807\n"
     ]
    },
    {
     "data": {
      "text/html": [
       "<h1>Ритуал</h1>"
      ],
      "text/plain": [
       "<IPython.core.display.HTML object>"
      ]
     },
     "metadata": {},
     "output_type": "display_data"
    },
    {
     "data": {
      "text/html": [
       "смерть ритуал диктатура государь обряд правитель конвент орден террор монтаньяр"
      ],
      "text/plain": [
       "<IPython.core.display.HTML object>"
      ]
     },
     "metadata": {},
     "output_type": "display_data"
    },
    {
     "name": "stdout",
     "output_type": "stream",
     "text": [
      "http://postnauka.ru/video/1893\n",
      "http://postnauka.ru/video/1899\n",
      "http://postnauka.ru/video/12374\n",
      "http://postnauka.ru/video/34963\n",
      "http://postnauka.ru/video/41680\n",
      "http://postnauka.ru/video/19472\n",
      "http://postnauka.ru/video/37958\n",
      "http://postnauka.ru/video/48480\n",
      "http://postnauka.ru/video/37992\n",
      "http://postnauka.ru/video/32882\n"
     ]
    },
    {
     "data": {
      "text/html": [
       "<h1>Химия</h1>"
      ],
      "text/plain": [
       "<IPython.core.display.HTML object>"
      ]
     },
     "metadata": {},
     "output_type": "display_data"
    },
    {
     "data": {
      "text/html": [
       "структура вещество химический соединение химия давление углерод реакция металл органический"
      ],
      "text/plain": [
       "<IPython.core.display.HTML object>"
      ]
     },
     "metadata": {},
     "output_type": "display_data"
    },
    {
     "name": "stdout",
     "output_type": "stream",
     "text": [
      "http://postnauka.ru/video/8953\n",
      "http://postnauka.ru/video/48107\n",
      "http://postnauka.ru/video/18048\n",
      "http://postnauka.ru/video/51490\n",
      "http://postnauka.ru/video/32668\n",
      "http://postnauka.ru/video/13700\n",
      "http://postnauka.ru/video/19086\n",
      "http://postnauka.ru/video/16171\n",
      "http://postnauka.ru/video/23253\n",
      "http://postnauka.ru/video/3645\n"
     ]
    },
    {
     "data": {
      "text/html": [
       "<h1>Физика элементарных частиц</h1>"
      ],
      "text/plain": [
       "<IPython.core.display.HTML object>"
      ]
     },
     "metadata": {},
     "output_type": "display_data"
    },
    {
     "data": {
      "text/html": [
       "частица энергия квантовый поле физика атом взаимодействие магнитный электрон кварк"
      ],
      "text/plain": [
       "<IPython.core.display.HTML object>"
      ]
     },
     "metadata": {},
     "output_type": "display_data"
    },
    {
     "name": "stdout",
     "output_type": "stream",
     "text": [
      "http://postnauka.ru/video/13043\n",
      "http://postnauka.ru/video/18870\n",
      "http://postnauka.ru/video/22760\n",
      "http://postnauka.ru/video/2945\n",
      "http://postnauka.ru/video/18873\n",
      "http://postnauka.ru/video/14283\n",
      "http://postnauka.ru/video/7753\n",
      "http://postnauka.ru/video/7311\n",
      "http://postnauka.ru/video/19457\n",
      "http://postnauka.ru/video/11651\n"
     ]
    },
    {
     "data": {
      "text/html": [
       "<h1>История России</h1>"
      ],
      "text/plain": [
       "<IPython.core.display.HTML object>"
      ]
     },
     "metadata": {},
     "output_type": "display_data"
    },
    {
     "data": {
      "text/html": [
       "война россия советский русский власть российский германия мировой реформа историк"
      ],
      "text/plain": [
       "<IPython.core.display.HTML object>"
      ]
     },
     "metadata": {},
     "output_type": "display_data"
    },
    {
     "name": "stdout",
     "output_type": "stream",
     "text": [
      "http://postnauka.ru/video/19574\n",
      "http://postnauka.ru/video/46939\n",
      "http://postnauka.ru/video/25906\n",
      "http://postnauka.ru/video/31183\n",
      "http://postnauka.ru/video/35041\n",
      "http://postnauka.ru/video/36246\n",
      "http://postnauka.ru/video/34936\n",
      "http://postnauka.ru/video/25283\n",
      "http://postnauka.ru/video/52936\n",
      "http://postnauka.ru/video/36581\n"
     ]
    },
    {
     "data": {
      "text/html": [
       "<h1>Семья</h1>"
      ],
      "text/plain": [
       "<IPython.core.display.HTML object>"
      ]
     },
     "metadata": {},
     "output_type": "display_data"
    },
    {
     "data": {
      "text/html": [
       "ребенок женщина семья мужчина возраст взрослый сон мать родитель старение"
      ],
      "text/plain": [
       "<IPython.core.display.HTML object>"
      ]
     },
     "metadata": {},
     "output_type": "display_data"
    },
    {
     "name": "stdout",
     "output_type": "stream",
     "text": [
      "http://postnauka.ru/video/22892\n",
      "http://postnauka.ru/video/11361\n",
      "http://postnauka.ru/video/30678\n",
      "http://postnauka.ru/video/10753\n",
      "http://postnauka.ru/video/59638\n",
      "http://postnauka.ru/video/31220\n",
      "http://postnauka.ru/video/60527\n",
      "http://postnauka.ru/video/52948\n",
      "http://postnauka.ru/video/40266\n",
      "http://postnauka.ru/video/57866\n"
     ]
    },
    {
     "data": {
      "text/html": [
       "<h1>Биология</h1>"
      ],
      "text/plain": [
       "<IPython.core.display.HTML object>"
      ]
     },
     "metadata": {},
     "output_type": "display_data"
    },
    {
     "data": {
      "text/html": [
       "мозг животное нейрон растение эволюция отбор озеро эволюционный песня сердце"
      ],
      "text/plain": [
       "<IPython.core.display.HTML object>"
      ]
     },
     "metadata": {},
     "output_type": "display_data"
    },
    {
     "name": "stdout",
     "output_type": "stream",
     "text": [
      "http://postnauka.ru/video/25097\n",
      "http://postnauka.ru/video/34413\n",
      "http://postnauka.ru/video/16821\n",
      "http://postnauka.ru/video/18007\n",
      "http://postnauka.ru/video/25890\n",
      "http://postnauka.ru/video/30261\n",
      "http://postnauka.ru/video/36350\n",
      "http://postnauka.ru/video/25321\n",
      "http://postnauka.ru/video/22077\n",
      "http://postnauka.ru/video/23172\n"
     ]
    },
    {
     "data": {
      "text/html": [
       "<h1>История и христианство</h1>"
      ],
      "text/plain": [
       "<IPython.core.display.HTML object>"
      ]
     },
     "metadata": {},
     "output_type": "display_data"
    },
    {
     "data": {
      "text/html": [
       "территория христианский империя восток народ древний письменность христианство государство памятник"
      ],
      "text/plain": [
       "<IPython.core.display.HTML object>"
      ]
     },
     "metadata": {},
     "output_type": "display_data"
    },
    {
     "name": "stdout",
     "output_type": "stream",
     "text": [
      "http://postnauka.ru/video/53171\n",
      "http://postnauka.ru/video/2527\n",
      "http://postnauka.ru/video/50071\n",
      "http://postnauka.ru/video/59201\n",
      "http://postnauka.ru/video/58742\n",
      "http://postnauka.ru/video/50066\n",
      "http://postnauka.ru/video/49203\n",
      "http://postnauka.ru/video/48959\n",
      "http://postnauka.ru/video/10751\n",
      "http://postnauka.ru/video/46313\n"
     ]
    },
    {
     "data": {
      "text/html": [
       "<h1>Астрофизика</h1>"
      ],
      "text/plain": [
       "<IPython.core.display.HTML object>"
      ]
     },
     "metadata": {},
     "output_type": "display_data"
    },
    {
     "data": {
      "text/html": [
       "звезда галактика масса вселенная черный дыра волна излучение скорость телескоп"
      ],
      "text/plain": [
       "<IPython.core.display.HTML object>"
      ]
     },
     "metadata": {},
     "output_type": "display_data"
    },
    {
     "name": "stdout",
     "output_type": "stream",
     "text": [
      "http://postnauka.ru/video/31193\n",
      "http://postnauka.ru/video/17780\n",
      "http://postnauka.ru/video/2971\n",
      "http://postnauka.ru/video/45644\n",
      "http://postnauka.ru/video/48109\n",
      "http://postnauka.ru/video/30015\n",
      "http://postnauka.ru/video/57338\n",
      "http://postnauka.ru/video/17779\n",
      "http://postnauka.ru/video/23506\n",
      "http://postnauka.ru/video/23502\n"
     ]
    },
    {
     "data": {
      "text/html": [
       "<h1>Информатика в психологии</h1>"
      ],
      "text/plain": [
       "<IPython.core.display.HTML object>"
      ]
     },
     "metadata": {},
     "output_type": "display_data"
    },
    {
     "data": {
      "text/html": [
       "задача информация память решение данные компьютер психология мышление когнитивный внимание"
      ],
      "text/plain": [
       "<IPython.core.display.HTML object>"
      ]
     },
     "metadata": {},
     "output_type": "display_data"
    },
    {
     "name": "stdout",
     "output_type": "stream",
     "text": [
      "http://postnauka.ru/video/56052\n",
      "http://postnauka.ru/video/24451\n",
      "http://postnauka.ru/video/24182\n",
      "http://postnauka.ru/video/5181\n",
      "http://postnauka.ru/video/26633\n",
      "http://postnauka.ru/video/57336\n",
      "http://postnauka.ru/video/53949\n",
      "http://postnauka.ru/video/19577\n",
      "http://postnauka.ru/video/17421\n",
      "http://postnauka.ru/video/34960\n"
     ]
    },
    {
     "data": {
      "text/html": [
       "<h1>Антропология</h1>"
      ],
      "text/plain": [
       "<IPython.core.display.HTML object>"
      ]
     },
     "metadata": {},
     "output_type": "display_data"
    },
    {
     "data": {
      "text/html": [
       "раса океан африка остров америка южный станислав географический монголоид дробышевский"
      ],
      "text/plain": [
       "<IPython.core.display.HTML object>"
      ]
     },
     "metadata": {},
     "output_type": "display_data"
    },
    {
     "name": "stdout",
     "output_type": "stream",
     "text": [
      "http://postnauka.ru/video/17397\n",
      "http://postnauka.ru/video/31707\n",
      "http://postnauka.ru/video/37732\n",
      "http://postnauka.ru/video/49262\n",
      "http://postnauka.ru/video/32898\n",
      "http://postnauka.ru/video/42735\n",
      "http://postnauka.ru/video/42707\n",
      "http://postnauka.ru/video/35150\n",
      "http://postnauka.ru/video/40880\n",
      "http://postnauka.ru/video/36253\n"
     ]
    },
    {
     "data": {
      "text/html": [
       "<h1>Философия</h1>"
      ],
      "text/plain": [
       "<IPython.core.display.HTML object>"
      ]
     },
     "metadata": {},
     "output_type": "display_data"
    },
    {
     "data": {
      "text/html": [
       "политический философия государство философский философ свобода идеология платон мысль враг"
      ],
      "text/plain": [
       "<IPython.core.display.HTML object>"
      ]
     },
     "metadata": {},
     "output_type": "display_data"
    },
    {
     "name": "stdout",
     "output_type": "stream",
     "text": [
      "http://postnauka.ru/video/12738\n",
      "http://postnauka.ru/video/3418\n",
      "http://postnauka.ru/video/32906\n",
      "http://postnauka.ru/video/37965\n",
      "http://postnauka.ru/video/53513\n",
      "http://postnauka.ru/video/42088\n",
      "http://postnauka.ru/video/2526\n",
      "http://postnauka.ru/video/36976\n",
      "http://postnauka.ru/video/9728\n",
      "http://postnauka.ru/video/31690\n"
     ]
    },
    {
     "data": {
      "text/html": [
       "<h1>Лингвистика</h1>"
      ],
      "text/plain": [
       "<IPython.core.display.HTML object>"
      ]
     },
     "metadata": {},
     "output_type": "display_data"
    },
    {
     "data": {
      "text/html": [
       "язык слово русский словарь текст предложение лингвист значение категория глагол"
      ],
      "text/plain": [
       "<IPython.core.display.HTML object>"
      ]
     },
     "metadata": {},
     "output_type": "display_data"
    },
    {
     "name": "stdout",
     "output_type": "stream",
     "text": [
      "http://postnauka.ru/video/22433\n",
      "http://postnauka.ru/video/36272\n",
      "http://postnauka.ru/video/3403\n",
      "http://postnauka.ru/video/2961\n",
      "http://postnauka.ru/video/1898\n",
      "http://postnauka.ru/video/51374\n",
      "http://postnauka.ru/video/53644\n",
      "http://postnauka.ru/video/56616\n",
      "http://postnauka.ru/video/30017\n",
      "http://postnauka.ru/video/51499\n"
     ]
    },
    {
     "data": {
      "text/html": [
       "<h1>Революция</h1>"
      ],
      "text/plain": [
       "<IPython.core.display.HTML object>"
      ]
     },
     "metadata": {},
     "output_type": "display_data"
    },
    {
     "data": {
      "text/html": [
       "революция французский франция театр король роман костюм нация национальный актер"
      ],
      "text/plain": [
       "<IPython.core.display.HTML object>"
      ]
     },
     "metadata": {},
     "output_type": "display_data"
    },
    {
     "name": "stdout",
     "output_type": "stream",
     "text": [
      "http://postnauka.ru/video/24279\n",
      "http://postnauka.ru/video/48492\n",
      "http://postnauka.ru/video/40004\n",
      "http://postnauka.ru/video/47823\n",
      "http://postnauka.ru/video/43843\n",
      "http://postnauka.ru/video/54175\n",
      "http://postnauka.ru/video/48455\n",
      "http://postnauka.ru/video/58542\n",
      "http://postnauka.ru/video/22079\n",
      "http://postnauka.ru/video/23470\n"
     ]
    },
    {
     "data": {
      "text/html": [
       "<h1>Город</h1>"
      ],
      "text/plain": [
       "<IPython.core.display.HTML object>"
      ]
     },
     "metadata": {},
     "output_type": "display_data"
    },
    {
     "data": {
      "text/html": [
       "город сеть робот городской интернет пользователь компания музей медиа горожанин"
      ],
      "text/plain": [
       "<IPython.core.display.HTML object>"
      ]
     },
     "metadata": {},
     "output_type": "display_data"
    },
    {
     "name": "stdout",
     "output_type": "stream",
     "text": [
      "http://postnauka.ru/video/13742\n",
      "http://postnauka.ru/video/12515\n",
      "http://postnauka.ru/video/11634\n",
      "http://postnauka.ru/video/34424\n",
      "http://postnauka.ru/video/9998\n",
      "http://postnauka.ru/video/7068\n",
      "http://postnauka.ru/video/17604\n",
      "http://postnauka.ru/video/47301\n",
      "http://postnauka.ru/video/8313\n",
      "http://postnauka.ru/video/25253\n"
     ]
    },
    {
     "data": {
      "text/html": [
       "<h1>Медицина</h1>"
      ],
      "text/plain": [
       "<IPython.core.display.HTML object>"
      ]
     },
     "metadata": {},
     "output_type": "display_data"
    },
    {
     "data": {
      "text/html": [
       "болезнь заболевание пациент лечение медицина врач боль препарат медицинский операция"
      ],
      "text/plain": [
       "<IPython.core.display.HTML object>"
      ]
     },
     "metadata": {},
     "output_type": "display_data"
    },
    {
     "name": "stdout",
     "output_type": "stream",
     "text": [
      "http://postnauka.ru/video/2541\n",
      "http://postnauka.ru/video/54325\n",
      "http://postnauka.ru/video/12974\n",
      "http://postnauka.ru/video/49206\n",
      "http://postnauka.ru/video/13746\n",
      "http://postnauka.ru/video/45961\n",
      "http://postnauka.ru/video/532\n",
      "http://postnauka.ru/video/51384\n",
      "http://postnauka.ru/video/27925\n",
      "http://postnauka.ru/video/17049\n"
     ]
    },
    {
     "data": {
      "text/html": [
       "<h1>Социология</h1>"
      ],
      "text/plain": [
       "<IPython.core.display.HTML object>"
      ]
     },
     "metadata": {},
     "output_type": "display_data"
    },
    {
     "data": {
      "text/html": [
       "социальный знание социология социологический дисциплина познание социолог повседневный виктор машинный"
      ],
      "text/plain": [
       "<IPython.core.display.HTML object>"
      ]
     },
     "metadata": {},
     "output_type": "display_data"
    },
    {
     "name": "stdout",
     "output_type": "stream",
     "text": [
      "http://postnauka.ru/video/10783\n",
      "http://postnauka.ru/video/434\n",
      "http://postnauka.ru/video/12083\n",
      "http://postnauka.ru/video/17491\n",
      "http://postnauka.ru/video/6380\n",
      "http://postnauka.ru/video/20720\n",
      "http://postnauka.ru/video/2530\n",
      "http://postnauka.ru/video/3628\n",
      "http://postnauka.ru/video/11640\n",
      "http://postnauka.ru/video/14295\n"
     ]
    },
    {
     "data": {
      "text/html": [
       "<h1>Искусственный интеллект</h1>"
      ],
      "text/plain": [
       "<IPython.core.display.HTML object>"
      ]
     },
     "metadata": {},
     "output_type": "display_data"
    },
    {
     "data": {
      "text/html": [
       "микроорганизм матрица интеллект эмоция алгоритм вычислительный эмоциональный схема искусственный микроб"
      ],
      "text/plain": [
       "<IPython.core.display.HTML object>"
      ]
     },
     "metadata": {},
     "output_type": "display_data"
    },
    {
     "name": "stdout",
     "output_type": "stream",
     "text": [
      "http://postnauka.ru/video/31671\n",
      "http://postnauka.ru/video/2531\n",
      "http://postnauka.ru/video/49437\n",
      "http://postnauka.ru/video/42416\n",
      "http://postnauka.ru/video/15981\n",
      "http://postnauka.ru/video/52738\n",
      "http://postnauka.ru/video/33788\n",
      "http://postnauka.ru/video/3352\n",
      "http://postnauka.ru/video/34964\n",
      "http://postnauka.ru/video/38018\n"
     ]
    },
    {
     "data": {
      "text/html": [
       "<h1>История древнего мира</h1>"
      ],
      "text/plain": [
       "<IPython.core.display.HTML object>"
      ]
     },
     "metadata": {},
     "output_type": "display_data"
    },
    {
     "data": {
      "text/html": [
       "бог миф царь греческий море мифология душа грек андрей египетский"
      ],
      "text/plain": [
       "<IPython.core.display.HTML object>"
      ]
     },
     "metadata": {},
     "output_type": "display_data"
    },
    {
     "name": "stdout",
     "output_type": "stream",
     "text": [
      "http://postnauka.ru/video/10779\n",
      "http://postnauka.ru/video/9997\n",
      "http://postnauka.ru/video/12527\n",
      "http://postnauka.ru/video/21631\n",
      "http://postnauka.ru/video/43664\n",
      "http://postnauka.ru/video/31580\n",
      "http://postnauka.ru/video/5999\n",
      "http://postnauka.ru/video/46429\n",
      "http://postnauka.ru/video/54238\n",
      "http://postnauka.ru/video/42796\n"
     ]
    },
    {
     "data": {
      "text/html": [
       "<h1>Фонетика</h1>"
      ],
      "text/plain": [
       "<IPython.core.display.HTML object>"
      ]
     },
     "metadata": {},
     "output_type": "display_data"
    },
    {
     "data": {
      "text/html": [
       "гласный согласный звук говор компилятор программирование мягкий диалект твердость столыпин"
      ],
      "text/plain": [
       "<IPython.core.display.HTML object>"
      ]
     },
     "metadata": {},
     "output_type": "display_data"
    },
    {
     "name": "stdout",
     "output_type": "stream",
     "text": [
      "http://postnauka.ru/video/48114\n",
      "http://postnauka.ru/video/13041\n",
      "http://postnauka.ru/video/51171\n",
      "http://postnauka.ru/video/8964\n",
      "http://postnauka.ru/video/15341\n",
      "http://postnauka.ru/video/10773\n",
      "http://postnauka.ru/video/40001\n",
      "http://postnauka.ru/video/14284\n",
      "http://postnauka.ru/video/27944\n",
      "http://postnauka.ru/video/15343\n"
     ]
    },
    {
     "data": {
      "text/html": [
       "<h1>Экономика</h1>"
      ],
      "text/plain": [
       "<IPython.core.display.HTML object>"
      ]
     },
     "metadata": {},
     "output_type": "display_data"
    },
    {
     "data": {
      "text/html": [
       "страна политика экономический экономика сталин кризис праздник крестьянин коллективный принятие"
      ],
      "text/plain": [
       "<IPython.core.display.HTML object>"
      ]
     },
     "metadata": {},
     "output_type": "display_data"
    },
    {
     "name": "stdout",
     "output_type": "stream",
     "text": [
      "http://postnauka.ru/video/9389\n",
      "http://postnauka.ru/video/7781\n",
      "http://postnauka.ru/video/31684\n",
      "http://postnauka.ru/video/10380\n",
      "http://postnauka.ru/video/6758\n",
      "http://postnauka.ru/video/13152\n",
      "http://postnauka.ru/video/30601\n",
      "http://postnauka.ru/video/36242\n",
      "http://postnauka.ru/video/9429\n",
      "http://postnauka.ru/video/26616\n"
     ]
    },
    {
     "data": {
      "text/html": [
       "<h1>Молекулярная биология</h1>"
      ],
      "text/plain": [
       "<IPython.core.display.HTML object>"
      ]
     },
     "metadata": {},
     "output_type": "display_data"
    },
    {
     "data": {
      "text/html": [
       "клетка ген днк белок организм молекула биологический генетический геном бактерия"
      ],
      "text/plain": [
       "<IPython.core.display.HTML object>"
      ]
     },
     "metadata": {},
     "output_type": "display_data"
    },
    {
     "name": "stdout",
     "output_type": "stream",
     "text": [
      "http://postnauka.ru/video/7113\n",
      "http://postnauka.ru/video/5915\n",
      "http://postnauka.ru/video/5390\n",
      "http://postnauka.ru/video/19436\n",
      "http://postnauka.ru/video/10754\n",
      "http://postnauka.ru/video/10475\n",
      "http://postnauka.ru/video/17051\n",
      "http://postnauka.ru/video/35051\n",
      "http://postnauka.ru/video/9854\n",
      "http://postnauka.ru/video/32881\n"
     ]
    },
    {
     "data": {
      "text/html": [
       "<h1>Проводники и диэлектрики</h1>"
      ],
      "text/plain": [
       "<IPython.core.display.HTML object>"
      ]
     },
     "metadata": {},
     "output_type": "display_data"
    },
    {
     "data": {
      "text/html": [
       "температура университет сверхпроводимость сверхпроводник сверхпроводящий частота переход заимствование гумбольдт точность"
      ],
      "text/plain": [
       "<IPython.core.display.HTML object>"
      ]
     },
     "metadata": {},
     "output_type": "display_data"
    },
    {
     "name": "stdout",
     "output_type": "stream",
     "text": [
      "http://postnauka.ru/video/2973\n",
      "http://postnauka.ru/video/49448\n",
      "http://postnauka.ru/video/51380\n",
      "http://postnauka.ru/video/50340\n",
      "http://postnauka.ru/video/31198\n",
      "http://postnauka.ru/video/55756\n",
      "http://postnauka.ru/video/51174\n",
      "http://postnauka.ru/video/50699\n",
      "http://postnauka.ru/video/19461\n",
      "http://postnauka.ru/video/40889\n"
     ]
    }
   ],
   "source": [
    "top_words = model_artm.score_tracker['text_top_words'].last_tokens\n",
    "for (topic_name, docs), topic_id in zip(relevant_docs[:-1], model_artm.topic_names[:-1]):\n",
    "    display(HTML('<h1>' + topic_name + '</h1>'))   \n",
    "    display(HTML(' '.join(text_top_words[topic_id][:10]))) \n",
    "    for link in docs[:10].index:\n",
    "        print(link)\n",
    "    "
   ]
  },
  {
   "cell_type": "markdown",
   "metadata": {},
   "source": [
    "##### Заключение"
   ]
  },
  {
   "cell_type": "markdown",
   "metadata": {},
   "source": [
    "В этом Peer Review мы познакомились с базовыми возможностями библиотеки BigARTM и с методами визуализации тематических моделей. Визуализация тематических моделей - это широкая и активно развивающаяся область научных исследований. Мы рассмотрели только самые простые приемы. Желающие могут попробовать применить [Serendip](http://vep.cs.wisc.edu/serendip/#serendipHero), разработанный в  University of Wisconsin-Madison, к построенной модели. Эта библиотека позволяет максимально полно охарактеризовать темы и написана для языка python. \n",
    "\n",
    "Сделав задание, вы можете выбрать в навигаторе наиболее интересную для вас тему и посмотреть видеолекции :) На Постнауке очень много интересных материалов. "
   ]
  }
 ],
 "metadata": {
  "kernelspec": {
   "display_name": "Python 3",
   "language": "python",
   "name": "python3"
  },
  "language_info": {
   "codemirror_mode": {
    "name": "ipython",
    "version": 3
   },
   "file_extension": ".py",
   "mimetype": "text/x-python",
   "name": "python",
   "nbconvert_exporter": "python",
   "pygments_lexer": "ipython3",
   "version": "3.7.0"
  }
 },
 "nbformat": 4,
 "nbformat_minor": 1
}
